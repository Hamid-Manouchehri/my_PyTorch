{
 "cells": [
  {
   "cell_type": "markdown",
   "id": "5f925f77",
   "metadata": {},
   "source": [
    "# TorchVision"
   ]
  },
  {
   "cell_type": "code",
   "execution_count": 1,
   "id": "f1f6db44",
   "metadata": {},
   "outputs": [
    {
     "name": "stderr",
     "output_type": "stream",
     "text": [
      "/home/hamid/miniconda3/envs/dl_env/lib/python3.10/site-packages/tqdm/auto.py:21: TqdmWarning: IProgress not found. Please update jupyter and ipywidgets. See https://ipywidgets.readthedocs.io/en/stable/user_install.html\n",
      "  from .autonotebook import tqdm as notebook_tqdm\n"
     ]
    },
    {
     "name": "stdout",
     "output_type": "stream",
     "text": [
      "2.6.0+cu124\n",
      "0.21.0+cu124\n"
     ]
    }
   ],
   "source": [
    "import torch\n",
    "from torch import nn\n",
    "\n",
    "import torchvision\n",
    "from torchvision import datasets\n",
    "from torchvision import transforms\n",
    "from torchvision.transforms import ToTensor\n",
    "import matplotlib.pyplot as plt\n",
    "from torch.utils.data import DataLoader\n",
    "from timeit import default_timer as timer\n",
    "from tqdm.auto import tqdm\n",
    "\n",
    "from helper_functions import accuracy_fn\n",
    "\n",
    "print(torch.__version__)\n",
    "print(torchvision.__version__)"
   ]
  },
  {
   "cell_type": "markdown",
   "id": "0fd63906",
   "metadata": {},
   "source": [
    "## 1. Getting a dataset\n",
    "Using `FashionMNIST` from torchvision.datasets"
   ]
  },
  {
   "cell_type": "code",
   "execution_count": 2,
   "id": "e30fe9f8",
   "metadata": {},
   "outputs": [],
   "source": [
    "## setting up training data:\n",
    "train_data = datasets.FashionMNIST(\n",
    "    root=\"../data/\",\n",
    "    train=True,\n",
    "    download=True,\n",
    "    transform=ToTensor(),  # how to transform the data\n",
    "    target_transform=None\n",
    ")\n",
    "\n",
    "## setting up test data:\n",
    "test_data = datasets.FashionMNIST(\n",
    "    root=\"../data/\",\n",
    "    train=False,\n",
    "    download=True,\n",
    "    transform=ToTensor(),\n",
    "    target_transform=None\n",
    ")"
   ]
  },
  {
   "cell_type": "code",
   "execution_count": 3,
   "id": "81e40b34",
   "metadata": {},
   "outputs": [
    {
     "data": {
      "text/plain": [
       "(60000, 10000)"
      ]
     },
     "execution_count": 3,
     "metadata": {},
     "output_type": "execute_result"
    }
   ],
   "source": [
    "len(train_data), len(test_data)"
   ]
  },
  {
   "cell_type": "code",
   "execution_count": 4,
   "id": "91fea59a",
   "metadata": {},
   "outputs": [
    {
     "data": {
      "text/plain": [
       "(tensor([[[0.0000, 0.0000, 0.0000, 0.0000, 0.0000, 0.0000, 0.0000, 0.0000,\n",
       "           0.0000, 0.0000, 0.0000, 0.3804, 0.3294, 0.3804, 0.4314, 0.4235,\n",
       "           0.3412, 0.3804, 0.0000, 0.0000, 0.0000, 0.0000, 0.0000, 0.0000,\n",
       "           0.0000, 0.0000, 0.0000, 0.0000],\n",
       "          [0.0000, 0.0000, 0.0000, 0.0000, 0.0000, 0.0000, 0.0000, 0.0000,\n",
       "           0.0000, 0.0000, 0.0745, 1.0000, 0.7804, 0.7176, 0.5569, 0.6314,\n",
       "           0.7843, 0.8353, 0.1255, 0.0000, 0.0000, 0.0000, 0.0000, 0.0000,\n",
       "           0.0000, 0.0000, 0.0000, 0.0000],\n",
       "          [0.0000, 0.0000, 0.0000, 0.0000, 0.0000, 0.0000, 0.0000, 0.0000,\n",
       "           0.0000, 0.0000, 0.2824, 0.6824, 0.6784, 0.6196, 0.5137, 0.5176,\n",
       "           0.6902, 0.6902, 0.2745, 0.0000, 0.0000, 0.0000, 0.0000, 0.0000,\n",
       "           0.0000, 0.0000, 0.0000, 0.0000],\n",
       "          [0.0000, 0.0000, 0.0000, 0.0000, 0.0000, 0.0000, 0.0000, 0.0000,\n",
       "           0.0000, 0.0000, 0.5569, 0.7059, 0.6392, 0.4706, 0.7059, 0.4941,\n",
       "           0.5451, 0.6588, 0.4784, 0.0000, 0.0000, 0.0000, 0.0000, 0.0000,\n",
       "           0.0000, 0.0000, 0.0000, 0.0000],\n",
       "          [0.0000, 0.0000, 0.0000, 0.0000, 0.0000, 0.0000, 0.0000, 0.0000,\n",
       "           0.0000, 0.0000, 0.6118, 0.7059, 0.6353, 0.6706, 0.6667, 0.7176,\n",
       "           0.6392, 0.6627, 0.5647, 0.0000, 0.0000, 0.0000, 0.0000, 0.0000,\n",
       "           0.0000, 0.0000, 0.0000, 0.0000],\n",
       "          [0.0000, 0.0000, 0.0000, 0.0000, 0.0000, 0.0000, 0.0000, 0.0000,\n",
       "           0.0000, 0.0000, 0.6235, 0.6941, 0.6392, 0.6824, 0.6510, 0.6784,\n",
       "           0.6667, 0.6392, 0.5804, 0.0000, 0.0000, 0.0000, 0.0000, 0.0000,\n",
       "           0.0000, 0.0000, 0.0000, 0.0000],\n",
       "          [0.0000, 0.0000, 0.0000, 0.0000, 0.0000, 0.0000, 0.0000, 0.0000,\n",
       "           0.0000, 0.0000, 0.6275, 0.7137, 0.6275, 0.6588, 0.6863, 0.6549,\n",
       "           0.6157, 0.6588, 0.5451, 0.0000, 0.0000, 0.0000, 0.0000, 0.0000,\n",
       "           0.0000, 0.0000, 0.0000, 0.0000],\n",
       "          [0.0000, 0.0000, 0.0000, 0.0000, 0.0000, 0.0000, 0.0000, 0.0000,\n",
       "           0.0000, 0.0000, 0.5608, 0.7255, 0.6314, 0.6706, 0.7216, 0.6902,\n",
       "           0.6275, 0.6863, 0.5137, 0.0000, 0.0000, 0.0000, 0.0000, 0.0000,\n",
       "           0.0000, 0.0000, 0.0000, 0.0000],\n",
       "          [0.0000, 0.0000, 0.0000, 0.0000, 0.0000, 0.0000, 0.0000, 0.0000,\n",
       "           0.0000, 0.0000, 0.5608, 0.7373, 0.6078, 0.6745, 0.7137, 0.7059,\n",
       "           0.6314, 0.7137, 0.4980, 0.0000, 0.0000, 0.0000, 0.0000, 0.0000,\n",
       "           0.0000, 0.0000, 0.0000, 0.0000],\n",
       "          [0.0000, 0.0000, 0.0000, 0.0000, 0.0000, 0.0000, 0.0000, 0.0000,\n",
       "           0.0000, 0.0000, 0.4980, 0.6667, 0.6588, 0.6863, 0.8275, 0.7490,\n",
       "           0.6392, 0.7216, 0.4431, 0.0000, 0.0000, 0.0000, 0.0000, 0.0000,\n",
       "           0.0000, 0.0000, 0.0000, 0.0000],\n",
       "          [0.0000, 0.0000, 0.0000, 0.0000, 0.0000, 0.0000, 0.0000, 0.0000,\n",
       "           0.0000, 0.0000, 0.3059, 0.5176, 0.6863, 0.6941, 0.5059, 0.7961,\n",
       "           0.6314, 0.7333, 0.4000, 0.0000, 0.0000, 0.0000, 0.0000, 0.0000,\n",
       "           0.0000, 0.0000, 0.0000, 0.0000],\n",
       "          [0.0000, 0.0000, 0.0000, 0.0000, 0.0000, 0.0000, 0.0000, 0.0000,\n",
       "           0.0000, 0.0000, 0.3569, 0.6510, 0.6392, 0.7451, 0.2471, 0.7961,\n",
       "           0.6235, 0.7412, 0.3686, 0.0000, 0.0000, 0.0000, 0.0000, 0.0000,\n",
       "           0.0000, 0.0000, 0.0000, 0.0000],\n",
       "          [0.0000, 0.0000, 0.0000, 0.0000, 0.0000, 0.0000, 0.0000, 0.0000,\n",
       "           0.0000, 0.0000, 0.3843, 0.4941, 0.6510, 0.7529, 0.2549, 0.7765,\n",
       "           0.6549, 0.7569, 0.3294, 0.0000, 0.0000, 0.0000, 0.0000, 0.0000,\n",
       "           0.0000, 0.0000, 0.0000, 0.0000],\n",
       "          [0.0000, 0.0000, 0.0000, 0.0000, 0.0000, 0.0000, 0.0000, 0.0000,\n",
       "           0.0000, 0.0000, 0.3529, 0.4980, 0.6667, 0.7765, 0.2392, 0.7843,\n",
       "           0.6824, 0.7765, 0.2784, 0.0000, 0.0000, 0.0000, 0.0000, 0.0000,\n",
       "           0.0000, 0.0000, 0.0000, 0.0000],\n",
       "          [0.0000, 0.0000, 0.0000, 0.0000, 0.0000, 0.0000, 0.0000, 0.0000,\n",
       "           0.0000, 0.0000, 0.3647, 0.5529, 0.5922, 0.8118, 0.2157, 0.7686,\n",
       "           0.6706, 0.7686, 0.2275, 0.0000, 0.0000, 0.0000, 0.0000, 0.0000,\n",
       "           0.0000, 0.0000, 0.0000, 0.0000],\n",
       "          [0.0000, 0.0000, 0.0000, 0.0000, 0.0000, 0.0000, 0.0000, 0.0000,\n",
       "           0.0000, 0.0000, 0.3451, 0.5373, 0.5333, 0.8235, 0.2118, 0.7765,\n",
       "           0.6784, 0.7804, 0.1804, 0.0000, 0.0000, 0.0000, 0.0000, 0.0000,\n",
       "           0.0000, 0.0000, 0.0000, 0.0000],\n",
       "          [0.0000, 0.0000, 0.0000, 0.0000, 0.0000, 0.0000, 0.0000, 0.0000,\n",
       "           0.0000, 0.0000, 0.2824, 0.4902, 0.5137, 0.8392, 0.2157, 0.7804,\n",
       "           0.6902, 0.7843, 0.1490, 0.0000, 0.0000, 0.0000, 0.0000, 0.0000,\n",
       "           0.0000, 0.0000, 0.0000, 0.0000],\n",
       "          [0.0000, 0.0000, 0.0000, 0.0000, 0.0000, 0.0000, 0.0000, 0.0000,\n",
       "           0.0000, 0.0000, 0.2196, 0.5725, 0.4941, 0.8235, 0.2196, 0.7843,\n",
       "           0.6863, 0.7843, 0.1451, 0.0000, 0.0000, 0.0000, 0.0000, 0.0000,\n",
       "           0.0000, 0.0000, 0.0000, 0.0000],\n",
       "          [0.0000, 0.0000, 0.0000, 0.0000, 0.0000, 0.0000, 0.0000, 0.0000,\n",
       "           0.0000, 0.0000, 0.1569, 0.9294, 0.6706, 0.7647, 0.2510, 0.7804,\n",
       "           0.6824, 0.7961, 0.1412, 0.0000, 0.0000, 0.0000, 0.0000, 0.0000,\n",
       "           0.0000, 0.0000, 0.0000, 0.0000],\n",
       "          [0.0000, 0.0000, 0.0000, 0.0000, 0.0000, 0.0000, 0.0000, 0.0000,\n",
       "           0.0000, 0.0000, 0.0902, 0.7451, 0.6588, 0.7529, 0.2745, 0.7686,\n",
       "           0.6706, 0.7961, 0.1176, 0.0000, 0.0000, 0.0000, 0.0000, 0.0000,\n",
       "           0.0000, 0.0000, 0.0000, 0.0000],\n",
       "          [0.0000, 0.0000, 0.0000, 0.0000, 0.0000, 0.0000, 0.0000, 0.0000,\n",
       "           0.0000, 0.0000, 0.0588, 0.7373, 0.6706, 0.7686, 0.2745, 0.7765,\n",
       "           0.6784, 0.7922, 0.0824, 0.0000, 0.0000, 0.0000, 0.0000, 0.0000,\n",
       "           0.0000, 0.0000, 0.0000, 0.0000],\n",
       "          [0.0000, 0.0000, 0.0000, 0.0000, 0.0000, 0.0000, 0.0000, 0.0000,\n",
       "           0.0000, 0.0000, 0.0431, 0.7333, 0.6745, 0.7725, 0.2784, 0.7804,\n",
       "           0.6824, 0.7961, 0.0588, 0.0000, 0.0000, 0.0000, 0.0000, 0.0000,\n",
       "           0.0000, 0.0000, 0.0000, 0.0000],\n",
       "          [0.0000, 0.0000, 0.0000, 0.0000, 0.0000, 0.0000, 0.0000, 0.0000,\n",
       "           0.0000, 0.0000, 0.0039, 0.7176, 0.6863, 0.7765, 0.2863, 0.7647,\n",
       "           0.6824, 0.8039, 0.0510, 0.0000, 0.0000, 0.0000, 0.0000, 0.0000,\n",
       "           0.0000, 0.0000, 0.0000, 0.0000],\n",
       "          [0.0000, 0.0000, 0.0000, 0.0000, 0.0000, 0.0000, 0.0000, 0.0000,\n",
       "           0.0000, 0.0000, 0.0000, 0.7294, 0.6941, 0.7843, 0.3059, 0.7490,\n",
       "           0.6863, 0.6706, 0.0314, 0.0000, 0.0000, 0.0000, 0.0000, 0.0000,\n",
       "           0.0000, 0.0000, 0.0000, 0.0000],\n",
       "          [0.0000, 0.0000, 0.0000, 0.0000, 0.0000, 0.0000, 0.0000, 0.0000,\n",
       "           0.0000, 0.0000, 0.0000, 0.7098, 0.6941, 0.7765, 0.3059, 0.7412,\n",
       "           0.6902, 0.6510, 0.0157, 0.0000, 0.0000, 0.0000, 0.0000, 0.0000,\n",
       "           0.0000, 0.0000, 0.0000, 0.0000],\n",
       "          [0.0000, 0.0000, 0.0000, 0.0000, 0.0000, 0.0000, 0.0000, 0.0000,\n",
       "           0.0000, 0.0000, 0.0000, 0.6980, 0.7137, 0.7137, 0.4196, 0.7216,\n",
       "           0.6863, 0.7569, 0.0000, 0.0000, 0.0000, 0.0000, 0.0000, 0.0000,\n",
       "           0.0000, 0.0000, 0.0000, 0.0000],\n",
       "          [0.0000, 0.0000, 0.0000, 0.0000, 0.0000, 0.0000, 0.0000, 0.0000,\n",
       "           0.0000, 0.0000, 0.0000, 0.6784, 0.7843, 0.8078, 0.3294, 0.7686,\n",
       "           0.7686, 0.5216, 0.0000, 0.0000, 0.0000, 0.0000, 0.0000, 0.0000,\n",
       "           0.0000, 0.0000, 0.0000, 0.0000],\n",
       "          [0.0000, 0.0000, 0.0000, 0.0000, 0.0000, 0.0000, 0.0000, 0.0000,\n",
       "           0.0000, 0.0000, 0.0000, 0.2667, 0.8118, 0.7137, 0.0000, 0.6863,\n",
       "           0.7647, 0.1333, 0.0000, 0.0000, 0.0000, 0.0000, 0.0000, 0.0000,\n",
       "           0.0000, 0.0000, 0.0000, 0.0000]]]),\n",
       " 1)"
      ]
     },
     "execution_count": 4,
     "metadata": {},
     "output_type": "execute_result"
    }
   ],
   "source": [
    "image, label = train_data[1000]\n",
    "image, label"
   ]
  },
  {
   "cell_type": "code",
   "execution_count": 5,
   "id": "09f2f606",
   "metadata": {},
   "outputs": [
    {
     "data": {
      "text/plain": [
       "['T-shirt/top',\n",
       " 'Trouser',\n",
       " 'Pullover',\n",
       " 'Dress',\n",
       " 'Coat',\n",
       " 'Sandal',\n",
       " 'Shirt',\n",
       " 'Sneaker',\n",
       " 'Bag',\n",
       " 'Ankle boot']"
      ]
     },
     "execution_count": 5,
     "metadata": {},
     "output_type": "execute_result"
    }
   ],
   "source": [
    "class_names = train_data.classes  # class attribute: list of classes\n",
    "class_names\n"
   ]
  },
  {
   "cell_type": "code",
   "execution_count": 6,
   "id": "3443eeac",
   "metadata": {},
   "outputs": [
    {
     "name": "stdout",
     "output_type": "stream",
     "text": [
      "torch.Size([1, 28, 28])\n",
      "torch.Size([1, 28, 28])\n",
      "784\n",
      "torch.float32\n",
      "cpu\n",
      "False\n"
     ]
    }
   ],
   "source": [
    "print(image.shape)\n",
    "print(image.size())\n",
    "print(image.numel())\n",
    "print(image.dtype)\n",
    "print(image.device)\n",
    "print(image.requires_grad)\n"
   ]
  },
  {
   "cell_type": "markdown",
   "id": "592eefa0",
   "metadata": {},
   "source": [
    "## Visualizing the data"
   ]
  },
  {
   "cell_type": "code",
   "execution_count": 7,
   "id": "959c0bed",
   "metadata": {},
   "outputs": [
    {
     "data": {
      "text/plain": [
       "<matplotlib.image.AxesImage at 0x73d2827ea110>"
      ]
     },
     "execution_count": 7,
     "metadata": {},
     "output_type": "execute_result"
    },
    {
     "data": {
      "image/png": "[encoded data removed]",
      "text/plain": [
       "<Figure size 640x480 with 1 Axes>"
      ]
     },
     "metadata": {},
     "output_type": "display_data"
    }
   ],
   "source": [
    "image, label = train_data[10]\n",
    "plt.imshow(image.squeeze())"
   ]
  },
  {
   "cell_type": "code",
   "execution_count": 8,
   "id": "7f1f4852",
   "metadata": {},
   "outputs": [
    {
     "data": {
      "image/png": "[encoded data removed]",
      "text/plain": [
       "<Figure size 640x480 with 1 Axes>"
      ]
     },
     "metadata": {},
     "output_type": "display_data"
    }
   ],
   "source": [
    "plt.imshow(image.squeeze(), cmap=\"gray\")\n",
    "plt.title(class_names[label]);\n",
    "plt.axis(False);"
   ]
  },
  {
   "cell_type": "code",
   "execution_count": 9,
   "id": "e95faa68",
   "metadata": {},
   "outputs": [
    {
     "data": {
      "image/png": "[encoded data removed]",
      "text/plain": [
       "<Figure size 900x900 with 16 Axes>"
      ]
     },
     "metadata": {},
     "output_type": "display_data"
    }
   ],
   "source": [
    "## plotting more images\n",
    "# torch.manual_seed(42)\n",
    "fig = plt.figure(figsize=(9, 9))\n",
    "rows, cols = 4, 4\n",
    "for i in range(1, rows * cols + 1):\n",
    "    random_idx = torch.randint(0, len(train_data), size=[1]).item()\n",
    "    img, label = train_data[random_idx] \n",
    "    fig.add_subplot(rows, cols, i)\n",
    "    plt.imshow(img.squeeze(), cmap=\"gray\")\n",
    "    plt.title(class_names[label])\n",
    "    plt.axis(False);\n",
    "plt.tight_layout();"
   ]
  },
  {
   "cell_type": "code",
   "execution_count": 10,
   "id": "f7bc88df",
   "metadata": {},
   "outputs": [
    {
     "data": {
      "text/plain": [
       "(Dataset FashionMNIST\n",
       "     Number of datapoints: 60000\n",
       "     Root location: ../data/\n",
       "     Split: Train\n",
       "     StandardTransform\n",
       " Transform: ToTensor(),\n",
       " Dataset FashionMNIST\n",
       "     Number of datapoints: 10000\n",
       "     Root location: ../data/\n",
       "     Split: Test\n",
       "     StandardTransform\n",
       " Transform: ToTensor())"
      ]
     },
     "execution_count": 10,
     "metadata": {},
     "output_type": "execute_result"
    }
   ],
   "source": [
    "train_data, test_data"
   ]
  },
  {
   "cell_type": "markdown",
   "id": "c543ef85",
   "metadata": {},
   "source": [
    "## 2. Preparing Dataloader:\n",
    "Turning PyTorch dataset into a python iterable. More specifically we want to turn our data into batches (or mini-batches) -> computationally more efficient"
   ]
  },
  {
   "cell_type": "code",
   "execution_count": 11,
   "id": "8243f96f",
   "metadata": {},
   "outputs": [
    {
     "name": "stdout",
     "output_type": "stream",
     "text": [
      "Dataloaders: (<torch.utils.data.dataloader.DataLoader object at 0x73d2800abee0>, <torch.utils.data.dataloader.DataLoader object at 0x73d26cd42bc0>)\n",
      "Length of train_dataloader: 1875\n",
      "Length of test_dataloader: 313\n"
     ]
    }
   ],
   "source": [
    "BATCH_SIZE = 32  # HYPERPARAMETER\n",
    "\n",
    "train_dataloader = DataLoader(dataset=train_data,\n",
    "                                   batch_size=BATCH_SIZE,\n",
    "                                   shuffle=True)\n",
    "                                   \n",
    "test_dataloader = DataLoader(dataset=test_data,\n",
    "                                  batch_size=BATCH_SIZE,\n",
    "                                  shuffle=False)\n",
    "\n",
    "print(f\"Dataloaders: {train_dataloader, test_dataloader}\")\n",
    "print(f\"Length of train_dataloader: {len(train_dataloader)}\")\n",
    "print(f\"Length of test_dataloader: {len(test_dataloader)}\")\n",
    "\n"
   ]
  },
  {
   "cell_type": "code",
   "execution_count": 12,
   "id": "af07ac3a",
   "metadata": {},
   "outputs": [
    {
     "data": {
      "text/plain": [
       "(torch.Size([32, 1, 28, 28]), torch.Size([32]))"
      ]
     },
     "execution_count": 12,
     "metadata": {},
     "output_type": "execute_result"
    }
   ],
   "source": [
    "## Check out what's inside the training dataloader:\n",
    "train_features_batch, train_labels_batch = next(iter(train_dataloader))  # Extract one batch of training data data.\n",
    "train_features_batch.shape, train_labels_batch.shape\n"
   ]
  },
  {
   "cell_type": "markdown",
   "id": "6e6629be",
   "metadata": {},
   "source": [
    "## 3. Building a baseline model:\n",
    "\n",
    "When starting to build a series of ML modelling experiments, it's a best practice to start with `baseline models`. \n",
    "\n",
    "A `baseline model` is a <u>simple model</u> you will try and improve upon with subsequent models/ experiments.\n",
    "\n",
    "Note: Start simply and add complexity when necessary."
   ]
  },
  {
   "cell_type": "code",
   "execution_count": 13,
   "id": "b3f4c4b0",
   "metadata": {},
   "outputs": [
    {
     "name": "stdout",
     "output_type": "stream",
     "text": [
      "before flattening: torch.Size([1, 28, 28])\n",
      "after flattening: torch.Size([1, 784])\n"
     ]
    },
    {
     "data": {
      "text/plain": [
       "tensor([0.0000, 0.0000, 0.0000, 0.0000, 0.0000, 0.0000, 0.0000, 0.0000, 0.0000,\n",
       "        0.0000, 0.0000, 0.0000, 0.3137, 0.1765, 0.2902, 0.1608, 0.0000, 0.0000,\n",
       "        0.0000, 0.0000, 0.0000, 0.0000, 0.0000, 0.0000, 0.0000, 0.0000, 0.0000,\n",
       "        0.0000, 0.0000, 0.0000, 0.0000, 0.0000, 0.0000, 0.0000, 0.0000, 0.0000,\n",
       "        0.0157, 0.2039, 0.0706, 0.3255, 1.0000, 0.7333, 0.7098, 0.5412, 0.0627,\n",
       "        0.2627, 0.1137, 0.0000, 0.0000, 0.0000, 0.0000, 0.0000, 0.0000, 0.0000,\n",
       "        0.0000, 0.0000, 0.0000, 0.0000, 0.0000, 0.0039, 0.0000, 0.0627, 0.3647,\n",
       "        0.4431, 0.3608, 0.1059, 0.0157, 0.1804, 0.8078, 0.8510, 0.8863, 0.3922,\n",
       "        0.0039, 0.1804, 0.3843, 0.2706, 0.2392, 0.0039, 0.0000, 0.0000, 0.0000,\n",
       "        0.0000, 0.0000, 0.0000, 0.0000, 0.0000, 0.0000, 0.0039, 0.0000, 0.1804,\n",
       "        0.2392, 0.1804, 0.1882, 0.2706, 0.1255, 0.0039, 0.3059, 0.6627, 0.6588,\n",
       "        0.0745, 0.0431, 0.2235, 0.1373, 0.0235, 0.2627, 0.3255, 0.0000, 0.0000,\n",
       "        0.0000, 0.0000, 0.0000, 0.0000, 0.0000, 0.0000, 0.0000, 0.0000, 0.0000,\n",
       "        0.0000, 0.0314, 0.0118, 0.0039, 0.0235, 0.1216, 0.2000, 0.0549, 0.3529,\n",
       "        0.0667, 0.0392, 0.1255, 0.0549, 0.0039, 0.0039, 0.0039, 0.1922, 0.0784,\n",
       "        0.0000, 0.0000, 0.0000, 0.0000, 0.0000, 0.0000, 0.0000, 0.0000, 0.0000,\n",
       "        0.0039, 0.0000, 0.0824, 0.1020, 0.0510, 0.0235, 0.0000, 0.0549, 0.0549,\n",
       "        0.1529, 0.1647, 0.1804, 0.0471, 0.0000, 0.0549, 0.0471, 0.1137, 0.0510,\n",
       "        0.0588, 0.0000, 0.0000, 0.0000, 0.0000, 0.0000, 0.0000, 0.0000, 0.0000,\n",
       "        0.0000, 0.0000, 0.0196, 0.0039, 0.0745, 0.0510, 0.0824, 0.0824, 0.0902,\n",
       "        0.1137, 0.1529, 0.0863, 0.0902, 0.0510, 0.0392, 0.0471, 0.0863, 0.1216,\n",
       "        0.1098, 0.0078, 0.0000, 0.0000, 0.0000, 0.0000, 0.0000, 0.0000, 0.0000,\n",
       "        0.0000, 0.0000, 0.0000, 0.0745, 0.2392, 0.0000, 0.0510, 0.0667, 0.0667,\n",
       "        0.0235, 0.0157, 0.1176, 0.0157, 0.0078, 0.0275, 0.0235, 0.0471, 0.0314,\n",
       "        0.1647, 0.0980, 0.0000, 0.0000, 0.0000, 0.0000, 0.0000, 0.0000, 0.0000,\n",
       "        0.0000, 0.0000, 0.0000, 0.0667, 0.0353, 0.1529, 0.0431, 0.0000, 0.0588,\n",
       "        0.0588, 0.0627, 0.0784, 0.1529, 0.0588, 0.0588, 0.0706, 0.0941, 0.0627,\n",
       "        0.0000, 0.1608, 0.1294, 0.0392, 0.0000, 0.0000, 0.0000, 0.0000, 0.0000,\n",
       "        0.0000, 0.0000, 0.0000, 0.0000, 0.0471, 0.1843, 0.0863, 0.2941, 0.0000,\n",
       "        0.0000, 0.0667, 0.0431, 0.0157, 0.1686, 0.0549, 0.0824, 0.0314, 0.0353,\n",
       "        0.0314, 0.1333, 0.3569, 0.1608, 0.0745, 0.0000, 0.0000, 0.0000, 0.0000,\n",
       "        0.0000, 0.0000, 0.0000, 0.0000, 0.0000, 0.0235, 0.1961, 0.3490, 0.3882,\n",
       "        0.0000, 0.0667, 0.1765, 0.0941, 0.0980, 0.2000, 0.0235, 0.1333, 0.1020,\n",
       "        0.0510, 0.0235, 0.2353, 0.5255, 0.0588, 0.0157, 0.0039, 0.0000, 0.0000,\n",
       "        0.0000, 0.0000, 0.0000, 0.0000, 0.0000, 0.0000, 0.0510, 0.1569, 0.2157,\n",
       "        0.4706, 0.0000, 0.0745, 0.2784, 0.0902, 0.1176, 0.2314, 0.1922, 0.2000,\n",
       "        0.1804, 0.1059, 0.0000, 0.3176, 0.4941, 0.0392, 0.1176, 0.0745, 0.0000,\n",
       "        0.0000, 0.0000, 0.0000, 0.0000, 0.0000, 0.0000, 0.0235, 0.1216, 0.0000,\n",
       "        0.1765, 0.5529, 0.0196, 0.1255, 0.3098, 0.2078, 0.0000, 0.1059, 0.2078,\n",
       "        0.1804, 0.1490, 0.2039, 0.0000, 0.3647, 0.6588, 0.2196, 0.1490, 0.1725,\n",
       "        0.0000, 0.0000, 0.0000, 0.0000, 0.0000, 0.0000, 0.0000, 0.0118, 0.3608,\n",
       "        0.0980, 0.0588, 0.5451, 0.0745, 0.1490, 0.2902, 0.3529, 0.0588, 0.1059,\n",
       "        0.1373, 0.0000, 0.1569, 0.3843, 0.1255, 0.2235, 0.6627, 0.4588, 0.0667,\n",
       "        0.0000, 0.0000, 0.0000, 0.0000, 0.0000, 0.0000, 0.0000, 0.0000, 0.0157,\n",
       "        0.0667, 0.2745, 0.3490, 0.3098, 0.0392, 0.1490, 0.2314, 0.3529, 0.3255,\n",
       "        0.2275, 0.1569, 0.0000, 0.1373, 0.3490, 0.4039, 0.0392, 0.4431, 0.3490,\n",
       "        0.3529, 0.2157, 0.0118, 0.0000, 0.0000, 0.0000, 0.0000, 0.0000, 0.0000,\n",
       "        0.0549, 0.0667, 0.2941, 0.3961, 0.0588, 0.0510, 0.2078, 0.2588, 0.3569,\n",
       "        0.2863, 0.2471, 0.3176, 0.2235, 0.3451, 0.1961, 0.4157, 0.0706, 0.3765,\n",
       "        0.5216, 0.2431, 0.2510, 0.0980, 0.0000, 0.0000, 0.0000, 0.0000, 0.0000,\n",
       "        0.0000, 0.1255, 0.3059, 0.1961, 0.6157, 0.0863, 0.0196, 0.2902, 0.3255,\n",
       "        0.3412, 0.2078, 0.2275, 0.3333, 0.1569, 0.3294, 0.3137, 0.2039, 0.2706,\n",
       "        0.1373, 0.3373, 0.1961, 0.1961, 0.2078, 0.0000, 0.0000, 0.0000, 0.0000,\n",
       "        0.0000, 0.0000, 0.1373, 0.3490, 0.1922, 0.6745, 0.1647, 0.0157, 0.3333,\n",
       "        0.2784, 0.2863, 0.2235, 0.3294, 0.2510, 0.2196, 0.1608, 0.2392, 0.2392,\n",
       "        0.2078, 0.3608, 0.3686, 0.0118, 0.2588, 0.2392, 0.0000, 0.0000, 0.0000,\n",
       "        0.0000, 0.0000, 0.0000, 0.1804, 0.2745, 0.1882, 0.6392, 0.3725, 0.2471,\n",
       "        0.2118, 0.2353, 0.2471, 0.2235, 0.3412, 0.2784, 0.2275, 0.2000, 0.0784,\n",
       "        0.3059, 0.1922, 0.2471, 0.6118, 0.3333, 0.2000, 0.2000, 0.0000, 0.0000,\n",
       "        0.0000, 0.0000, 0.0000, 0.0000, 0.1333, 0.3216, 0.3686, 0.5647, 0.1294,\n",
       "        0.2078, 0.2863, 0.2471, 0.2078, 0.1098, 0.1686, 0.3020, 0.1255, 0.2196,\n",
       "        0.3059, 0.2706, 0.3216, 0.0392, 0.0863, 0.1725, 0.3059, 0.2235, 0.0000,\n",
       "        0.0000, 0.0000, 0.0000, 0.0000, 0.0000, 0.0863, 0.2863, 0.4431, 0.4902,\n",
       "        0.0157, 0.2431, 0.2706, 0.2510, 0.3098, 0.2353, 0.1961, 0.3412, 0.2745,\n",
       "        0.3529, 0.2784, 0.2784, 0.3608, 0.0078, 0.4667, 0.3412, 0.0784, 0.2706,\n",
       "        0.0000, 0.0000, 0.0000, 0.0000, 0.0000, 0.0000, 0.2118, 0.2196, 0.1765,\n",
       "        0.3765, 0.0000, 0.1804, 0.2078, 0.1882, 0.1882, 0.1647, 0.1804, 0.2353,\n",
       "        0.1451, 0.2078, 0.1882, 0.2039, 0.2196, 0.0000, 0.2941, 0.4784, 0.2078,\n",
       "        0.2118, 0.0000, 0.0000, 0.0000, 0.0000, 0.0000, 0.0000, 0.0980, 0.2549,\n",
       "        0.3412, 0.3333, 0.0000, 0.0000, 0.0000, 0.0000, 0.0000, 0.0000, 0.0000,\n",
       "        0.0000, 0.0000, 0.0000, 0.0000, 0.0000, 0.0000, 0.0000, 0.2549, 0.3961,\n",
       "        0.2275, 0.1529, 0.0000, 0.0000, 0.0000, 0.0000, 0.0000, 0.0000, 0.0510,\n",
       "        0.0902, 0.2157, 0.2510, 0.0000, 0.0039, 0.0000, 0.0000, 0.0000, 0.0000,\n",
       "        0.0000, 0.0000, 0.0000, 0.0000, 0.0000, 0.0039, 0.0039, 0.0000, 0.3176,\n",
       "        0.3490, 0.1843, 0.1529, 0.0000, 0.0000, 0.0000, 0.0000, 0.0000, 0.0000,\n",
       "        0.1922, 0.0824, 0.2863, 0.1765, 0.0000, 0.0078, 0.0000, 0.0000, 0.0000,\n",
       "        0.0000, 0.0039, 0.0000, 0.0000, 0.0000, 0.0000, 0.0039, 0.0039, 0.0000,\n",
       "        0.2353, 0.3922, 0.2039, 0.1294, 0.0000, 0.0000, 0.0000, 0.0000, 0.0000,\n",
       "        0.0000, 0.1608, 0.3412, 0.4745, 0.0275, 0.0000, 0.0078, 0.0000, 0.0000,\n",
       "        0.0000, 0.0000, 0.0000, 0.0000, 0.0000, 0.0000, 0.0039, 0.0000, 0.0039,\n",
       "        0.0000, 0.0588, 0.4392, 0.2275, 0.1373, 0.0000, 0.0000, 0.0000, 0.0000,\n",
       "        0.0000, 0.0000, 0.0667, 0.3490, 0.3647, 0.0000, 0.0000, 0.0039, 0.0000,\n",
       "        0.0000, 0.0000, 0.0000, 0.0000, 0.0000, 0.0000, 0.0000, 0.0000, 0.0000,\n",
       "        0.0000, 0.0000, 0.0000, 0.4196, 0.2588, 0.1020, 0.0000, 0.0000, 0.0000,\n",
       "        0.0000, 0.0000, 0.0000, 0.0549, 0.2235, 0.2392, 0.0000, 0.0000, 0.0000,\n",
       "        0.0000, 0.0000, 0.0000, 0.0000, 0.0000, 0.0000, 0.0000, 0.0000, 0.0000,\n",
       "        0.0000, 0.0000, 0.0000, 0.0000, 0.2745, 0.1765, 0.0627, 0.0000, 0.0000,\n",
       "        0.0000])"
      ]
     },
     "execution_count": 13,
     "metadata": {},
     "output_type": "execute_result"
    }
   ],
   "source": [
    "flatten_model = nn.Flatten()  # Creating a flatten layer\n",
    "x = train_features_batch[10]  # get a single sample\n",
    "print(f\"before flattening: {x.shape}\")\n",
    "output = flatten_model(x)  # flatten the sample\n",
    "print(f\"after flattening: {output.shape}\")\n",
    "output.squeeze()  # remove extra dimensions"
   ]
  },
  {
   "cell_type": "code",
   "execution_count": 14,
   "id": "c2c07815",
   "metadata": {},
   "outputs": [
    {
     "data": {
      "text/plain": [
       "FashionMNISTModelV0(\n",
       "  (layer_stack): Sequential(\n",
       "    (0): Flatten(start_dim=1, end_dim=-1)\n",
       "    (1): Linear(in_features=784, out_features=10, bias=True)\n",
       "    (2): Linear(in_features=10, out_features=10, bias=True)\n",
       "  )\n",
       ")"
      ]
     },
     "execution_count": 14,
     "metadata": {},
     "output_type": "execute_result"
    }
   ],
   "source": [
    "class FashionMNISTModelV0(nn.Module):\n",
    "    def __init__(self, \n",
    "                 input_shape: int,\n",
    "                 hidden_units: int,\n",
    "                 output_shape: int):\n",
    "                 \n",
    "        super().__init__()\n",
    "        self.layer_stack = nn.Sequential(\n",
    "            nn.Flatten(),  # flatten inputs into vector\n",
    "            nn.Linear(input_shape, hidden_units),  # first hidden layer\n",
    "            nn.Linear(hidden_units, output_shape)  # output layer      \n",
    "            \n",
    "        )\n",
    "\n",
    "    def forward(self, x):\n",
    "        return self.layer_stack(x)\n",
    "    \n",
    "baselineModel = FashionMNISTModelV0(input_shape=28*28,\n",
    "                                    hidden_units=10,\n",
    "                                    output_shape=len(class_names))\n",
    "baselineModel.to(\"cpu\")\n"
   ]
  },
  {
   "cell_type": "code",
   "execution_count": 15,
   "id": "e5040d6a",
   "metadata": {},
   "outputs": [
    {
     "data": {
      "text/plain": [
       "tensor([[ 0.1207,  0.1866, -0.2860,  0.0491,  0.5077,  0.0730, -0.2109, -0.2433,\n",
       "         -0.0109, -0.8037]], grad_fn=<AddmmBackward0>)"
      ]
     },
     "execution_count": 15,
     "metadata": {},
     "output_type": "execute_result"
    }
   ],
   "source": [
    "dummy_x = torch.rand([1, 1, 28, 28])\n",
    "dummy_x\n",
    "baselineModel(dummy_x)"
   ]
  },
  {
   "cell_type": "code",
   "execution_count": 16,
   "id": "c2119067",
   "metadata": {},
   "outputs": [],
   "source": [
    "loss_fn = nn.CrossEntropyLoss()  # for multi-class classification\n",
    "optimizer = torch.optim.SGD(params=baselineModel.parameters(),\n",
    "                            lr=0.1)"
   ]
  },
  {
   "cell_type": "code",
   "execution_count": 17,
   "id": "27f82aed",
   "metadata": {},
   "outputs": [],
   "source": [
    "def print_train_time(start: float,\n",
    "                     end: float,\n",
    "                     device: torch.device=None):\n",
    "    total_time = end - start\n",
    "    print(f\"Train time on {device}: {total_time:.3f} seconds\")\n",
    "    return total_time\n"
   ]
  },
  {
   "cell_type": "markdown",
   "id": "20219a33",
   "metadata": {},
   "source": [
    "### Creating a training loop and training a model on batches of data:\n",
    "1. Loop through epochs.\n",
    "2. Loop through training batches, perform training steps, calculate the train loss per batch.\n",
    "3. Loop through testing batches, perform testing steps, calculate the test loss per batch.\n",
    "4. Print out what's happening.\n",
    "5. Time it all.\n",
    "\n",
    "`Highlight:` the optimizer will update a model's parameters once per batch rather than once per epochs (whole 60k images)"
   ]
  },
  {
   "cell_type": "code",
   "execution_count": 18,
   "id": "ea21d024",
   "metadata": {},
   "outputs": [
    {
     "name": "stderr",
     "output_type": "stream",
     "text": [
      "  0%|          | 0/3 [00:00<?, ?it/s]"
     ]
    },
    {
     "name": "stdout",
     "output_type": "stream",
     "text": [
      "Epoch: 0\n",
      "---------\n",
      "Looked at 0/60000 samples\n",
      "Looked at 12800/60000 samples\n",
      "Looked at 25600/60000 samples\n",
      "Looked at 38400/60000 samples\n",
      "Looked at 51200/60000 samples\n"
     ]
    },
    {
     "name": "stderr",
     "output_type": "stream",
     "text": [
      " 33%|███▎      | 1/3 [00:09<00:19,  9.94s/it]"
     ]
    },
    {
     "name": "stdout",
     "output_type": "stream",
     "text": [
      "Epoch: 1\n",
      "---------\n",
      "Looked at 0/60000 samples\n",
      "Looked at 12800/60000 samples\n",
      "Looked at 25600/60000 samples\n",
      "Looked at 38400/60000 samples\n",
      "Looked at 51200/60000 samples\n"
     ]
    },
    {
     "name": "stderr",
     "output_type": "stream",
     "text": [
      " 67%|██████▋   | 2/3 [00:21<00:10, 10.76s/it]"
     ]
    },
    {
     "name": "stdout",
     "output_type": "stream",
     "text": [
      "Epoch: 2\n",
      "---------\n",
      "Looked at 0/60000 samples\n",
      "Looked at 12800/60000 samples\n",
      "Looked at 25600/60000 samples\n",
      "Looked at 38400/60000 samples\n",
      "Looked at 51200/60000 samples\n"
     ]
    },
    {
     "name": "stderr",
     "output_type": "stream",
     "text": [
      "100%|██████████| 3/3 [00:31<00:00, 10.64s/it]"
     ]
    },
    {
     "name": "stdout",
     "output_type": "stream",
     "text": [
      "Train time on cpu: 31.919 seconds\n"
     ]
    },
    {
     "name": "stderr",
     "output_type": "stream",
     "text": [
      "\n"
     ]
    }
   ],
   "source": [
    "## Training loop:\n",
    "torch.manual_seed(42)\n",
    "train_time_start_on_cpu = timer()\n",
    "\n",
    "epochs = 3  # TODO\n",
    "\n",
    "for epoch in tqdm(range(epochs)):\n",
    "    print(f\"Epoch: {epoch}\\n---------\")\n",
    "    train_loss = 0\n",
    "    # Model parameters are being updated after each batch:\n",
    "    for batch, (x, y) in enumerate(train_dataloader):\n",
    "        baselineModel.eval()\n",
    "        y_pred = baselineModel(x)  # forward pass\n",
    "\n",
    "        loss = loss_fn(y_pred, y)  # calculate loss\n",
    "        train_loss += loss  # accumulate loss\n",
    "\n",
    "        optimizer.zero_grad()  # optimizer zero grad\n",
    "        loss.backward()  # backpropagation\n",
    "        optimizer.step()  # gradient descent\n",
    "        \n",
    "        if batch % 400 == 0:\n",
    "            print(f\"Looked at {batch * len(x)}/{len(train_dataloader.dataset)} samples\")\n",
    "            \n",
    "    train_loss /= len(train_dataloader)\n",
    "\n",
    "    ## Testing loop:\n",
    "    test_loss, test_acc = 0, 0\n",
    "\n",
    "    # Put model in evaluation mode and disable gradient calculation:\n",
    "    baselineModel.eval()\n",
    "    with torch.inference_mode():\n",
    "        for x_test, y_test in test_dataloader:\n",
    "            test_pred = baselineModel(x_test)\n",
    "            test_loss += loss_fn(test_pred, y_test)\n",
    "            test_acc += accuracy_fn(y_true=y_test,\n",
    "                                    y_pred=test_pred.argmax(dim=1))    \n",
    "\n",
    "\n",
    "train_time_end_on_cpu = timer()\n",
    "total_train_time_model_0 = print_train_time(train_time_start_on_cpu,\n",
    "                                            train_time_end_on_cpu,\n",
    "                                            device=str(next(baselineModel.parameters()).device))\n"
   ]
  },
  {
   "cell_type": "code",
   "execution_count": 19,
   "id": "15619124",
   "metadata": {},
   "outputs": [
    {
     "data": {
      "text/plain": [
       "'cpu'"
      ]
     },
     "execution_count": 19,
     "metadata": {},
     "output_type": "execute_result"
    }
   ],
   "source": [
    "str(next(baselineModel.parameters()).device)"
   ]
  },
  {
   "cell_type": "markdown",
   "id": "fefc3994",
   "metadata": {},
   "source": [
    "### Making predictions and get a result from baselineModel:"
   ]
  },
  {
   "cell_type": "code",
   "execution_count": 20,
   "id": "1bcac121",
   "metadata": {},
   "outputs": [
    {
     "name": "stderr",
     "output_type": "stream",
     "text": [
      "100%|██████████| 313/313 [00:01<00:00, 221.02it/s]\n"
     ]
    },
    {
     "data": {
      "text/plain": [
       "{'model_name': 'FashionMNISTModelV0',\n",
       " 'model_loss': 0.479032963514328,\n",
       " 'model_acc': 83.27675718849841}"
      ]
     },
     "execution_count": 20,
     "metadata": {},
     "output_type": "execute_result"
    }
   ],
   "source": [
    "torch.manual_seed(42)\n",
    "def eval_model(model: torch.nn.Module,\n",
    "               data_loader: torch.utils.data.DataLoader,\n",
    "               loss_fn: torch.nn.Module,\n",
    "               accuracy_fn,\n",
    "               device: torch.device=None):\n",
    "    \n",
    "    \"\"\" Return a dictionary containing the results of model predicting on data_loader.\"\"\"\n",
    "    loss, acc = 0, 0\n",
    "    model.eval()\n",
    "    with torch.inference_mode():\n",
    "        for x, y in tqdm(data_loader):\n",
    "            y_pred = baselineModel(x)\n",
    "\n",
    "            loss += loss_fn(y_pred, y)\n",
    "            acc += accuracy_fn(y_true=y,\n",
    "                               y_pred=y_pred.argmax(dim=1))\n",
    "            \n",
    "        loss /= len(data_loader)\n",
    "        acc /= len(data_loader)\n",
    "    \n",
    "    return {\"model_name\": model.__class__.__name__,\n",
    "            \"model_loss\": loss.item(),\n",
    "            \"model_acc\": acc}\n",
    "\n",
    "model_results = eval_model(model=baselineModel,\n",
    "                           data_loader=test_dataloader,\n",
    "                           loss_fn=loss_fn,\n",
    "                           accuracy_fn=accuracy_fn,\n",
    "                           device=str(next(baselineModel.parameters()).device))\n",
    "\n",
    "model_results"
   ]
  },
  {
   "cell_type": "markdown",
   "id": "f7ea7972",
   "metadata": {},
   "source": [
    "### Setup device-agnostic code"
   ]
  },
  {
   "cell_type": "code",
   "execution_count": 21,
   "id": "08316dcc",
   "metadata": {},
   "outputs": [
    {
     "data": {
      "text/plain": [
       "True"
      ]
     },
     "execution_count": 21,
     "metadata": {},
     "output_type": "execute_result"
    }
   ],
   "source": [
    "torch.cuda.is_available()"
   ]
  },
  {
   "cell_type": "markdown",
   "id": "9f9153cb",
   "metadata": {},
   "source": [
    "# 4. Improving the model by adding <u>nonlinearity</u> and running on <u>GPU</u>:"
   ]
  },
  {
   "cell_type": "code",
   "execution_count": 22,
   "id": "f7162043",
   "metadata": {},
   "outputs": [
    {
     "data": {
      "text/plain": [
       "'cuda'"
      ]
     },
     "execution_count": 22,
     "metadata": {},
     "output_type": "execute_result"
    }
   ],
   "source": [
    "device = \"cuda\" if torch.cuda.is_available() else \"cpu\"\n",
    "device"
   ]
  },
  {
   "cell_type": "code",
   "execution_count": 23,
   "id": "14d520c3",
   "metadata": {},
   "outputs": [
    {
     "name": "stdout",
     "output_type": "stream",
     "text": [
      "torch: 2.6.0+cu124\n",
      "CUDA available: True\n",
      "CUDA version (wheel): 12.4\n",
      "GPU count: 1\n",
      "GPU 0: NVIDIA GeForce RTX 4070 Laptop GPU\n"
     ]
    }
   ],
   "source": [
    "import torch, sys\n",
    "print(\"torch:\", torch.__version__)\n",
    "print(\"CUDA available:\", torch.cuda.is_available())\n",
    "print(\"CUDA version (wheel):\", torch.version.cuda)\n",
    "print(\"GPU count:\", torch.cuda.device_count())\n",
    "if torch.cuda.is_available():\n",
    "    print(\"GPU 0:\", torch.cuda.get_device_name(0))"
   ]
  },
  {
   "cell_type": "code",
   "execution_count": 24,
   "id": "271b4489",
   "metadata": {},
   "outputs": [],
   "source": [
    "class FashionMNISTModelV1(nn.Module):\n",
    "    def __init__(self,\n",
    "                 input_shape: int,\n",
    "                 hidden_units: int,\n",
    "                 output_shape: int):\n",
    "                 \n",
    "        super().__init__()\n",
    "        self.layer_stack = nn.Sequential(\n",
    "            nn.Flatten(),\n",
    "            nn.Linear(input_shape, hidden_units),\n",
    "            nn.ReLU(),\n",
    "            nn.Linear(hidden_units, output_shape),\n",
    "            nn.ReLU()\n",
    "        )\n",
    "    def forward(self, x):\n",
    "        return self.layer_stack(x)"
   ]
  },
  {
   "cell_type": "code",
   "execution_count": 25,
   "id": "8f08d484",
   "metadata": {},
   "outputs": [
    {
     "data": {
      "text/plain": [
       "device(type='cuda', index=0)"
      ]
     },
     "execution_count": 25,
     "metadata": {},
     "output_type": "execute_result"
    }
   ],
   "source": [
    "## Create an instance of the model and send it to the target device (either GPU or CPU):\n",
    "torch.manual_seed(42)\n",
    "\n",
    "model_1 = FashionMNISTModelV1(input_shape=28*28,\n",
    "                              hidden_units=10,\n",
    "                              output_shape=len(class_names)).to(device)\n",
    "\n",
    "next(model_1.parameters()).device"
   ]
  },
  {
   "cell_type": "code",
   "execution_count": 26,
   "id": "cd618bd9",
   "metadata": {},
   "outputs": [],
   "source": [
    "loss_fn = nn.CrossEntropyLoss()\n",
    "optimizer = torch.optim.SGD(params=model_1.parameters(),\n",
    "                            lr=0.1)"
   ]
  },
  {
   "cell_type": "markdown",
   "id": "7ff0e4e8",
   "metadata": {},
   "source": [
    "### Functionizing trainin and testing/evaluation codes:"
   ]
  },
  {
   "cell_type": "code",
   "execution_count": 27,
   "id": "7e7d6aa4",
   "metadata": {},
   "outputs": [],
   "source": [
    "## Training function:\n",
    "def train_step(model: torch.nn.Module,\n",
    "               data_loader: torch.utils.data.DataLoader,\n",
    "               loss_fn: torch.nn.Module,\n",
    "               optimizer: torch.optim.Optimizer,\n",
    "               accuracy_fn,\n",
    "               device: torch.device=device):\n",
    "\n",
    "    train_loss, train_acc = 0, 0\n",
    "\n",
    "    model.train()  # put model in training mode\n",
    "\n",
    "    model.to(device)\n",
    "\n",
    "    for batch, (x, y) in enumerate(data_loader):\n",
    "\n",
    "        x, y = x.to(device), y.to(device)\n",
    "        y_pred = model(x)\n",
    "        loss = loss_fn(y_pred, y)\n",
    "\n",
    "        optimizer.zero_grad()  # optimizer zero grad\n",
    "        loss.backward()  # backpropagation\n",
    "        optimizer.step()  # gradient descent\n",
    "\n",
    "        train_loss += loss  # accumulate train loss\n",
    "        train_acc += accuracy_fn(y_true=y,\n",
    "                                y_pred=y_pred.argmax(dim=1))  # logits -> prediction labels\n",
    "\n",
    "    train_loss /= len(data_loader)\n",
    "    train_acc /= len(data_loader)\n",
    "\n",
    "    return {\"model_name\": model.__class__.__name__,\n",
    "            \"model_loss\": train_loss.item(),\n",
    "            \"model_acc\": train_acc}  # return a dictionary of model name, model loss, model accuracy"
   ]
  },
  {
   "cell_type": "code",
   "execution_count": 28,
   "id": "f4027ac0",
   "metadata": {},
   "outputs": [],
   "source": [
    "## Testing function:\n",
    "def test_step(model: torch.nn.Module,\n",
    "              data_loader: torch.utils.data.DataLoader,\n",
    "              loss_fn: torch.nn.Module,\n",
    "              accuracy_fn,\n",
    "              device: torch.device=device):\n",
    "\n",
    "    test_loss, test_acc = 0, 0\n",
    "\n",
    "    model.eval()  # put model in evaluation mode\n",
    "    model.to(device)\n",
    "\n",
    "    with torch.inference_mode():\n",
    "        for x_test, y_test in data_loader:\n",
    "            x_test, y_test = x_test.to(device), y_test.to(device)\n",
    "            test_pred = model(x_test)\n",
    "            test_loss += loss_fn(test_pred, y_test)\n",
    "            test_acc += accuracy_fn(y_true=y_test,\n",
    "                                   y_pred=test_pred.argmax(dim=1))\n",
    "\n",
    "        test_loss /= len(data_loader)\n",
    "        test_acc /= len(data_loader)\n",
    "\n",
    "    return {\"model_name\": model.__class__.__name__,\n",
    "            \"model_loss\": test_loss.item(),\n",
    "            \"model_acc\": test_acc}\n"
   ]
  },
  {
   "cell_type": "code",
   "execution_count": 29,
   "id": "7466f043",
   "metadata": {},
   "outputs": [
    {
     "name": "stderr",
     "output_type": "stream",
     "text": [
      "  0%|          | 0/3 [00:00<?, ?it/s]"
     ]
    },
    {
     "name": "stdout",
     "output_type": "stream",
     "text": [
      "Epoch: 0\n",
      "---------\n"
     ]
    },
    {
     "name": "stderr",
     "output_type": "stream",
     "text": [
      " 33%|███▎      | 1/3 [00:04<00:08,  4.41s/it]"
     ]
    },
    {
     "name": "stdout",
     "output_type": "stream",
     "text": [
      "Epoch: 1\n",
      "---------\n"
     ]
    },
    {
     "name": "stderr",
     "output_type": "stream",
     "text": [
      " 67%|██████▋   | 2/3 [00:08<00:04,  4.35s/it]"
     ]
    },
    {
     "name": "stdout",
     "output_type": "stream",
     "text": [
      "Epoch: 2\n",
      "---------\n"
     ]
    },
    {
     "name": "stderr",
     "output_type": "stream",
     "text": [
      "100%|██████████| 3/3 [00:12<00:00,  4.28s/it]"
     ]
    },
    {
     "name": "stdout",
     "output_type": "stream",
     "text": [
      "Train time on cuda: 12.846 seconds\n",
      "\n",
      "\n",
      "\n",
      " Total training time on cuda: 12.846 seconds\n",
      "Total training time on cpu: 31.919 seconds\n"
     ]
    },
    {
     "name": "stderr",
     "output_type": "stream",
     "text": [
      "\n"
     ]
    }
   ],
   "source": [
    "## Training and testing loop:\n",
    "train_time_start_on_gpu = timer()\n",
    "\n",
    "epochs = 3\n",
    "\n",
    "for epoch in tqdm(range(epochs)):\n",
    "\n",
    "    print(f\"Epoch: {epoch}\\n---------\")\n",
    "    train_loss = train_step(model=model_1,\n",
    "                           data_loader=train_dataloader,\n",
    "                           loss_fn=loss_fn,\n",
    "                           optimizer=optimizer,\n",
    "                           accuracy_fn=accuracy_fn,\n",
    "                           device=device)\n",
    "    test_loss = test_step(model=model_1,\n",
    "                          data_loader=test_dataloader,\n",
    "                          loss_fn=loss_fn,\n",
    "                          accuracy_fn=accuracy_fn,\n",
    "                          device=device)\n",
    "\n",
    "train_time_end_on_gpu = timer()\n",
    "total_train_time_model_1 = print_train_time(start=train_time_start_on_gpu,\n",
    "                                            end=train_time_end_on_gpu,\n",
    "                                            device=device)\n",
    "\n",
    "print(\"\\n\\n\\n\",f\"Total training time on {device}: {total_train_time_model_1:.3f} seconds\")\n",
    "print(f\"Total training time on cpu: {total_train_time_model_0:.3f} seconds\")\n",
    "    "
   ]
  },
  {
   "cell_type": "code",
   "execution_count": 30,
   "id": "62c54258",
   "metadata": {},
   "outputs": [
    {
     "name": "stderr",
     "output_type": "stream",
     "text": [
      "100%|██████████| 313/313 [00:01<00:00, 305.55it/s]"
     ]
    },
    {
     "name": "stdout",
     "output_type": "stream",
     "text": [
      "{'model_name': 'FashionMNISTModelV1', 'model_loss': 0.479032963514328, 'model_acc': 83.27675718849841}\n"
     ]
    },
    {
     "name": "stderr",
     "output_type": "stream",
     "text": [
      "\n"
     ]
    }
   ],
   "source": [
    "## Get model results:\n",
    "model_results = eval_model(model=model_1,\n",
    "                           data_loader=test_dataloader,\n",
    "                           loss_fn=loss_fn,\n",
    "                           accuracy_fn=accuracy_fn,\n",
    "                           device=device)\n",
    "print(model_results)"
   ]
  },
  {
   "cell_type": "code",
   "execution_count": null,
   "id": "7ce56ae8",
   "metadata": {},
   "outputs": [],
   "source": []
  },
  {
   "cell_type": "markdown",
   "id": "4b8ea0ff",
   "metadata": {},
   "source": [
    "## Building Convolutional Neural Networks (CNN)\n",
    "\n",
    "* Is a type of classifier known for finding patterns in visual data -> image / image-like classifier"
   ]
  },
  {
   "cell_type": "code",
   "execution_count": 65,
   "id": "939f0fb0",
   "metadata": {},
   "outputs": [],
   "source": [
    "## Creating a 2 layers Convolutional Neural Network (CNN) model:\n",
    "class FashionMNISTModelV2(nn.Module):\n",
    "    \"\"\"\n",
    "    Model architecture that replicates the TinyVGG architecture from CNN explainer website.\n",
    "    \"\"\"\n",
    "    def __init__(self,\n",
    "                 input_shape: int,\n",
    "                 hidden_units: int,\n",
    "                 output_shape: int):\n",
    "                 \n",
    "        super().__init__()\n",
    "        self.conv_layer_1 = nn.Sequential(\n",
    "            nn.Conv2d(in_channels=input_shape,\n",
    "                      out_channels=hidden_units,\n",
    "                      kernel_size=3,\n",
    "                      stride=1,\n",
    "                      padding=1),\n",
    "            nn.ReLU(),\n",
    "            nn.Conv2d(in_channels=hidden_units,\n",
    "                      out_channels=hidden_units,\n",
    "                      kernel_size=3,\n",
    "                      stride=1,\n",
    "                      padding=1),\n",
    "            nn.ReLU(),\n",
    "            nn.MaxPool2d(kernel_size=2,\n",
    "                         stride=2)\n",
    "        )\n",
    "        self.conv_layer_2 = nn.Sequential(\n",
    "            nn.Conv2d(in_channels=hidden_units,\n",
    "                      out_channels=hidden_units,\n",
    "                      kernel_size=3,\n",
    "                      stride=1,\n",
    "                      padding=1),\n",
    "            nn.ReLU(),\n",
    "            nn.Conv2d(in_channels=hidden_units,\n",
    "                      out_channels=hidden_units,\n",
    "                      kernel_size=3,\n",
    "                      stride=1,\n",
    "                      padding=1),\n",
    "            nn.ReLU(),\n",
    "            nn.MaxPool2d(kernel_size=2,\n",
    "                         stride=2)\n",
    "        )\n",
    "        self.classifier = nn.Sequential(  # this is the output layer\n",
    "            nn.Flatten(),\n",
    "            nn.Linear(in_features=hidden_units*7*7,\n",
    "                      out_features=output_shape)\n",
    "        )\n",
    "    def forward(self, x):\n",
    "        x = self.conv_layer_1(x); print(f\"After conv_layer_1: {x.shape}\")\n",
    "        x = self.conv_layer_2(x); print(f\"After conv_layer_2: {x.shape}\")\n",
    "        x = self.classifier(x); print(f\"After classifier: {x.shape}\")\n",
    "        return x\n"
   ]
  },
  {
   "cell_type": "code",
   "execution_count": 66,
   "id": "9333d9ee",
   "metadata": {},
   "outputs": [
    {
     "data": {
      "text/plain": [
       "device(type='cuda', index=0)"
      ]
     },
     "execution_count": 66,
     "metadata": {},
     "output_type": "execute_result"
    }
   ],
   "source": [
    "## Instantiating the model:\n",
    "torch.manual_seed(42)\n",
    "\n",
    "model_2 = FashionMNISTModelV2(input_shape=1,  # one channel for grayscale images\n",
    "                              hidden_units=10,  # how many units/neurons in the hidden layers\n",
    "                              output_shape=len(class_names)).to(device)\n",
    "\n",
    "next(model_2.parameters()).device"
   ]
  },
  {
   "cell_type": "code",
   "execution_count": 59,
   "id": "5cca6945",
   "metadata": {},
   "outputs": [
    {
     "data": {
      "image/png": "[encoded data removed]",
      "text/plain": [
       "<Figure size 640x480 with 1 Axes>"
      ]
     },
     "metadata": {},
     "output_type": "display_data"
    }
   ],
   "source": [
    "plt.imshow(image.squeeze(), cmap=\"gray\")\n",
    "plt.axis(False);"
   ]
  },
  {
   "cell_type": "code",
   "execution_count": 60,
   "id": "0845d447",
   "metadata": {},
   "outputs": [
    {
     "data": {
      "text/plain": [
       "<matplotlib.image.AxesImage at 0x73d24d908f10>"
      ]
     },
     "execution_count": 60,
     "metadata": {},
     "output_type": "execute_result"
    },
    {
     "data": {
      "image/png": "[encoded data removed]",
      "text/plain": [
       "<Figure size 640x480 with 1 Axes>"
      ]
     },
     "metadata": {},
     "output_type": "display_data"
    }
   ],
   "source": [
    "random_image_tensor = torch.randn(1, 28, 28)\n",
    "plt.imshow(random_image_tensor.squeeze(), cmap=\"gray\")"
   ]
  },
  {
   "cell_type": "code",
   "execution_count": 70,
   "id": "b2f30d48",
   "metadata": {},
   "outputs": [
    {
     "name": "stdout",
     "output_type": "stream",
     "text": [
      "After conv_layer_1: torch.Size([1, 10, 14, 14])\n",
      "After conv_layer_2: torch.Size([1, 10, 7, 7])\n",
      "After classifier: torch.Size([1, 10])\n"
     ]
    },
    {
     "data": {
      "text/plain": [
       "tensor([[ 0.0402, -0.0870,  0.0767, -0.0430,  0.0317,  0.0221,  0.0063, -0.0002,\n",
       "          0.0030, -0.0256]], device='cuda:0', grad_fn=<AddmmBackward0>)"
      ]
     },
     "execution_count": 70,
     "metadata": {},
     "output_type": "execute_result"
    }
   ],
   "source": [
    "## Passing a dummy image of the same size to the model for dimensionality check:\n",
    "model_2(random_image_tensor.unsqueeze(0).to(device))"
   ]
  }
 ],
 "metadata": {
  "kernelspec": {
   "display_name": "dl_env",
   "language": "python",
   "name": "python3"
  },
  "language_info": {
   "codemirror_mode": {
    "name": "ipython",
    "version": 3
   },
   "file_extension": ".py",
   "mimetype": "text/x-python",
   "name": "python",
   "nbconvert_exporter": "python",
   "pygments_lexer": "ipython3",
   "version": "3.10.14"
  }
 },
 "nbformat": 4,
 "nbformat_minor": 5
}
