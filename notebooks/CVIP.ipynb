{
 "cells": [
  {
   "cell_type": "markdown",
   "id": "5f925f77",
   "metadata": {},
   "source": [
    "# TorchVision"
   ]
  },
  {
   "cell_type": "code",
   "execution_count": 62,
   "id": "f1f6db44",
   "metadata": {},
   "outputs": [
    {
     "name": "stdout",
     "output_type": "stream",
     "text": [
      "2.5.1\n",
      "0.20.1\n"
     ]
    }
   ],
   "source": [
    "import torch\n",
    "from torch import nn\n",
    "\n",
    "import torchvision\n",
    "from torchvision import datasets\n",
    "from torchvision import transforms\n",
    "from torchvision.transforms import ToTensor\n",
    "import matplotlib.pyplot as plt\n",
    "from torch.utils.data import DataLoader\n",
    "from timeit import default_timer as timer\n",
    "from tqdm.auto import tqdm\n",
    "\n",
    "from helper_functions import accuracy_fn\n",
    "\n",
    "print(torch.__version__)\n",
    "print(torchvision.__version__)"
   ]
  },
  {
   "cell_type": "markdown",
   "id": "0fd63906",
   "metadata": {},
   "source": [
    "## 1. Getting a dataset\n",
    "Using `FashionMNIST` from torchvision.datasets"
   ]
  },
  {
   "cell_type": "code",
   "execution_count": 2,
   "id": "e30fe9f8",
   "metadata": {},
   "outputs": [],
   "source": [
    "## setting up training data:\n",
    "train_data = datasets.FashionMNIST(\n",
    "    root=\"../data/\",\n",
    "    train=True,\n",
    "    download=True,\n",
    "    transform=ToTensor(),  # how to transform the data\n",
    "    target_transform=None\n",
    ")\n",
    "\n",
    "## setting up test data:\n",
    "test_data = datasets.FashionMNIST(\n",
    "    root=\"../data/\",\n",
    "    train=False,\n",
    "    download=True,\n",
    "    transform=ToTensor(),\n",
    "    target_transform=None\n",
    ")"
   ]
  },
  {
   "cell_type": "code",
   "execution_count": 3,
   "id": "81e40b34",
   "metadata": {},
   "outputs": [
    {
     "data": {
      "text/plain": [
       "(60000, 10000)"
      ]
     },
     "execution_count": 3,
     "metadata": {},
     "output_type": "execute_result"
    }
   ],
   "source": [
    "len(train_data), len(test_data)"
   ]
  },
  {
   "cell_type": "code",
   "execution_count": 4,
   "id": "91fea59a",
   "metadata": {},
   "outputs": [
    {
     "data": {
      "text/plain": [
       "(tensor([[[0.0000, 0.0000, 0.0000, 0.0000, 0.0000, 0.0000, 0.0000, 0.0000,\n",
       "           0.0000, 0.0000, 0.0000, 0.3804, 0.3294, 0.3804, 0.4314, 0.4235,\n",
       "           0.3412, 0.3804, 0.0000, 0.0000, 0.0000, 0.0000, 0.0000, 0.0000,\n",
       "           0.0000, 0.0000, 0.0000, 0.0000],\n",
       "          [0.0000, 0.0000, 0.0000, 0.0000, 0.0000, 0.0000, 0.0000, 0.0000,\n",
       "           0.0000, 0.0000, 0.0745, 1.0000, 0.7804, 0.7176, 0.5569, 0.6314,\n",
       "           0.7843, 0.8353, 0.1255, 0.0000, 0.0000, 0.0000, 0.0000, 0.0000,\n",
       "           0.0000, 0.0000, 0.0000, 0.0000],\n",
       "          [0.0000, 0.0000, 0.0000, 0.0000, 0.0000, 0.0000, 0.0000, 0.0000,\n",
       "           0.0000, 0.0000, 0.2824, 0.6824, 0.6784, 0.6196, 0.5137, 0.5176,\n",
       "           0.6902, 0.6902, 0.2745, 0.0000, 0.0000, 0.0000, 0.0000, 0.0000,\n",
       "           0.0000, 0.0000, 0.0000, 0.0000],\n",
       "          [0.0000, 0.0000, 0.0000, 0.0000, 0.0000, 0.0000, 0.0000, 0.0000,\n",
       "           0.0000, 0.0000, 0.5569, 0.7059, 0.6392, 0.4706, 0.7059, 0.4941,\n",
       "           0.5451, 0.6588, 0.4784, 0.0000, 0.0000, 0.0000, 0.0000, 0.0000,\n",
       "           0.0000, 0.0000, 0.0000, 0.0000],\n",
       "          [0.0000, 0.0000, 0.0000, 0.0000, 0.0000, 0.0000, 0.0000, 0.0000,\n",
       "           0.0000, 0.0000, 0.6118, 0.7059, 0.6353, 0.6706, 0.6667, 0.7176,\n",
       "           0.6392, 0.6627, 0.5647, 0.0000, 0.0000, 0.0000, 0.0000, 0.0000,\n",
       "           0.0000, 0.0000, 0.0000, 0.0000],\n",
       "          [0.0000, 0.0000, 0.0000, 0.0000, 0.0000, 0.0000, 0.0000, 0.0000,\n",
       "           0.0000, 0.0000, 0.6235, 0.6941, 0.6392, 0.6824, 0.6510, 0.6784,\n",
       "           0.6667, 0.6392, 0.5804, 0.0000, 0.0000, 0.0000, 0.0000, 0.0000,\n",
       "           0.0000, 0.0000, 0.0000, 0.0000],\n",
       "          [0.0000, 0.0000, 0.0000, 0.0000, 0.0000, 0.0000, 0.0000, 0.0000,\n",
       "           0.0000, 0.0000, 0.6275, 0.7137, 0.6275, 0.6588, 0.6863, 0.6549,\n",
       "           0.6157, 0.6588, 0.5451, 0.0000, 0.0000, 0.0000, 0.0000, 0.0000,\n",
       "           0.0000, 0.0000, 0.0000, 0.0000],\n",
       "          [0.0000, 0.0000, 0.0000, 0.0000, 0.0000, 0.0000, 0.0000, 0.0000,\n",
       "           0.0000, 0.0000, 0.5608, 0.7255, 0.6314, 0.6706, 0.7216, 0.6902,\n",
       "           0.6275, 0.6863, 0.5137, 0.0000, 0.0000, 0.0000, 0.0000, 0.0000,\n",
       "           0.0000, 0.0000, 0.0000, 0.0000],\n",
       "          [0.0000, 0.0000, 0.0000, 0.0000, 0.0000, 0.0000, 0.0000, 0.0000,\n",
       "           0.0000, 0.0000, 0.5608, 0.7373, 0.6078, 0.6745, 0.7137, 0.7059,\n",
       "           0.6314, 0.7137, 0.4980, 0.0000, 0.0000, 0.0000, 0.0000, 0.0000,\n",
       "           0.0000, 0.0000, 0.0000, 0.0000],\n",
       "          [0.0000, 0.0000, 0.0000, 0.0000, 0.0000, 0.0000, 0.0000, 0.0000,\n",
       "           0.0000, 0.0000, 0.4980, 0.6667, 0.6588, 0.6863, 0.8275, 0.7490,\n",
       "           0.6392, 0.7216, 0.4431, 0.0000, 0.0000, 0.0000, 0.0000, 0.0000,\n",
       "           0.0000, 0.0000, 0.0000, 0.0000],\n",
       "          [0.0000, 0.0000, 0.0000, 0.0000, 0.0000, 0.0000, 0.0000, 0.0000,\n",
       "           0.0000, 0.0000, 0.3059, 0.5176, 0.6863, 0.6941, 0.5059, 0.7961,\n",
       "           0.6314, 0.7333, 0.4000, 0.0000, 0.0000, 0.0000, 0.0000, 0.0000,\n",
       "           0.0000, 0.0000, 0.0000, 0.0000],\n",
       "          [0.0000, 0.0000, 0.0000, 0.0000, 0.0000, 0.0000, 0.0000, 0.0000,\n",
       "           0.0000, 0.0000, 0.3569, 0.6510, 0.6392, 0.7451, 0.2471, 0.7961,\n",
       "           0.6235, 0.7412, 0.3686, 0.0000, 0.0000, 0.0000, 0.0000, 0.0000,\n",
       "           0.0000, 0.0000, 0.0000, 0.0000],\n",
       "          [0.0000, 0.0000, 0.0000, 0.0000, 0.0000, 0.0000, 0.0000, 0.0000,\n",
       "           0.0000, 0.0000, 0.3843, 0.4941, 0.6510, 0.7529, 0.2549, 0.7765,\n",
       "           0.6549, 0.7569, 0.3294, 0.0000, 0.0000, 0.0000, 0.0000, 0.0000,\n",
       "           0.0000, 0.0000, 0.0000, 0.0000],\n",
       "          [0.0000, 0.0000, 0.0000, 0.0000, 0.0000, 0.0000, 0.0000, 0.0000,\n",
       "           0.0000, 0.0000, 0.3529, 0.4980, 0.6667, 0.7765, 0.2392, 0.7843,\n",
       "           0.6824, 0.7765, 0.2784, 0.0000, 0.0000, 0.0000, 0.0000, 0.0000,\n",
       "           0.0000, 0.0000, 0.0000, 0.0000],\n",
       "          [0.0000, 0.0000, 0.0000, 0.0000, 0.0000, 0.0000, 0.0000, 0.0000,\n",
       "           0.0000, 0.0000, 0.3647, 0.5529, 0.5922, 0.8118, 0.2157, 0.7686,\n",
       "           0.6706, 0.7686, 0.2275, 0.0000, 0.0000, 0.0000, 0.0000, 0.0000,\n",
       "           0.0000, 0.0000, 0.0000, 0.0000],\n",
       "          [0.0000, 0.0000, 0.0000, 0.0000, 0.0000, 0.0000, 0.0000, 0.0000,\n",
       "           0.0000, 0.0000, 0.3451, 0.5373, 0.5333, 0.8235, 0.2118, 0.7765,\n",
       "           0.6784, 0.7804, 0.1804, 0.0000, 0.0000, 0.0000, 0.0000, 0.0000,\n",
       "           0.0000, 0.0000, 0.0000, 0.0000],\n",
       "          [0.0000, 0.0000, 0.0000, 0.0000, 0.0000, 0.0000, 0.0000, 0.0000,\n",
       "           0.0000, 0.0000, 0.2824, 0.4902, 0.5137, 0.8392, 0.2157, 0.7804,\n",
       "           0.6902, 0.7843, 0.1490, 0.0000, 0.0000, 0.0000, 0.0000, 0.0000,\n",
       "           0.0000, 0.0000, 0.0000, 0.0000],\n",
       "          [0.0000, 0.0000, 0.0000, 0.0000, 0.0000, 0.0000, 0.0000, 0.0000,\n",
       "           0.0000, 0.0000, 0.2196, 0.5725, 0.4941, 0.8235, 0.2196, 0.7843,\n",
       "           0.6863, 0.7843, 0.1451, 0.0000, 0.0000, 0.0000, 0.0000, 0.0000,\n",
       "           0.0000, 0.0000, 0.0000, 0.0000],\n",
       "          [0.0000, 0.0000, 0.0000, 0.0000, 0.0000, 0.0000, 0.0000, 0.0000,\n",
       "           0.0000, 0.0000, 0.1569, 0.9294, 0.6706, 0.7647, 0.2510, 0.7804,\n",
       "           0.6824, 0.7961, 0.1412, 0.0000, 0.0000, 0.0000, 0.0000, 0.0000,\n",
       "           0.0000, 0.0000, 0.0000, 0.0000],\n",
       "          [0.0000, 0.0000, 0.0000, 0.0000, 0.0000, 0.0000, 0.0000, 0.0000,\n",
       "           0.0000, 0.0000, 0.0902, 0.7451, 0.6588, 0.7529, 0.2745, 0.7686,\n",
       "           0.6706, 0.7961, 0.1176, 0.0000, 0.0000, 0.0000, 0.0000, 0.0000,\n",
       "           0.0000, 0.0000, 0.0000, 0.0000],\n",
       "          [0.0000, 0.0000, 0.0000, 0.0000, 0.0000, 0.0000, 0.0000, 0.0000,\n",
       "           0.0000, 0.0000, 0.0588, 0.7373, 0.6706, 0.7686, 0.2745, 0.7765,\n",
       "           0.6784, 0.7922, 0.0824, 0.0000, 0.0000, 0.0000, 0.0000, 0.0000,\n",
       "           0.0000, 0.0000, 0.0000, 0.0000],\n",
       "          [0.0000, 0.0000, 0.0000, 0.0000, 0.0000, 0.0000, 0.0000, 0.0000,\n",
       "           0.0000, 0.0000, 0.0431, 0.7333, 0.6745, 0.7725, 0.2784, 0.7804,\n",
       "           0.6824, 0.7961, 0.0588, 0.0000, 0.0000, 0.0000, 0.0000, 0.0000,\n",
       "           0.0000, 0.0000, 0.0000, 0.0000],\n",
       "          [0.0000, 0.0000, 0.0000, 0.0000, 0.0000, 0.0000, 0.0000, 0.0000,\n",
       "           0.0000, 0.0000, 0.0039, 0.7176, 0.6863, 0.7765, 0.2863, 0.7647,\n",
       "           0.6824, 0.8039, 0.0510, 0.0000, 0.0000, 0.0000, 0.0000, 0.0000,\n",
       "           0.0000, 0.0000, 0.0000, 0.0000],\n",
       "          [0.0000, 0.0000, 0.0000, 0.0000, 0.0000, 0.0000, 0.0000, 0.0000,\n",
       "           0.0000, 0.0000, 0.0000, 0.7294, 0.6941, 0.7843, 0.3059, 0.7490,\n",
       "           0.6863, 0.6706, 0.0314, 0.0000, 0.0000, 0.0000, 0.0000, 0.0000,\n",
       "           0.0000, 0.0000, 0.0000, 0.0000],\n",
       "          [0.0000, 0.0000, 0.0000, 0.0000, 0.0000, 0.0000, 0.0000, 0.0000,\n",
       "           0.0000, 0.0000, 0.0000, 0.7098, 0.6941, 0.7765, 0.3059, 0.7412,\n",
       "           0.6902, 0.6510, 0.0157, 0.0000, 0.0000, 0.0000, 0.0000, 0.0000,\n",
       "           0.0000, 0.0000, 0.0000, 0.0000],\n",
       "          [0.0000, 0.0000, 0.0000, 0.0000, 0.0000, 0.0000, 0.0000, 0.0000,\n",
       "           0.0000, 0.0000, 0.0000, 0.6980, 0.7137, 0.7137, 0.4196, 0.7216,\n",
       "           0.6863, 0.7569, 0.0000, 0.0000, 0.0000, 0.0000, 0.0000, 0.0000,\n",
       "           0.0000, 0.0000, 0.0000, 0.0000],\n",
       "          [0.0000, 0.0000, 0.0000, 0.0000, 0.0000, 0.0000, 0.0000, 0.0000,\n",
       "           0.0000, 0.0000, 0.0000, 0.6784, 0.7843, 0.8078, 0.3294, 0.7686,\n",
       "           0.7686, 0.5216, 0.0000, 0.0000, 0.0000, 0.0000, 0.0000, 0.0000,\n",
       "           0.0000, 0.0000, 0.0000, 0.0000],\n",
       "          [0.0000, 0.0000, 0.0000, 0.0000, 0.0000, 0.0000, 0.0000, 0.0000,\n",
       "           0.0000, 0.0000, 0.0000, 0.2667, 0.8118, 0.7137, 0.0000, 0.6863,\n",
       "           0.7647, 0.1333, 0.0000, 0.0000, 0.0000, 0.0000, 0.0000, 0.0000,\n",
       "           0.0000, 0.0000, 0.0000, 0.0000]]]),\n",
       " 1)"
      ]
     },
     "execution_count": 4,
     "metadata": {},
     "output_type": "execute_result"
    }
   ],
   "source": [
    "image, label = train_data[1000]\n",
    "image, label"
   ]
  },
  {
   "cell_type": "code",
   "execution_count": null,
   "id": "c72fdeb5",
   "metadata": {},
   "outputs": [],
   "source": []
  },
  {
   "cell_type": "code",
   "execution_count": 5,
   "id": "09f2f606",
   "metadata": {},
   "outputs": [
    {
     "data": {
      "text/plain": [
       "['T-shirt/top',\n",
       " 'Trouser',\n",
       " 'Pullover',\n",
       " 'Dress',\n",
       " 'Coat',\n",
       " 'Sandal',\n",
       " 'Shirt',\n",
       " 'Sneaker',\n",
       " 'Bag',\n",
       " 'Ankle boot']"
      ]
     },
     "execution_count": 5,
     "metadata": {},
     "output_type": "execute_result"
    }
   ],
   "source": [
    "class_names = train_data.classes  # class attribute: list of classes\n",
    "class_names\n"
   ]
  },
  {
   "cell_type": "code",
   "execution_count": 6,
   "id": "3443eeac",
   "metadata": {},
   "outputs": [
    {
     "name": "stdout",
     "output_type": "stream",
     "text": [
      "torch.Size([1, 28, 28])\n",
      "torch.Size([1, 28, 28])\n",
      "784\n",
      "torch.float32\n",
      "cpu\n",
      "False\n"
     ]
    }
   ],
   "source": [
    "print(image.shape)\n",
    "print(image.size())\n",
    "print(image.numel())\n",
    "print(image.dtype)\n",
    "print(image.device)\n",
    "print(image.requires_grad)\n"
   ]
  },
  {
   "cell_type": "markdown",
   "id": "592eefa0",
   "metadata": {},
   "source": [
    "## Visualizing the data"
   ]
  },
  {
   "cell_type": "code",
   "execution_count": 7,
   "id": "959c0bed",
   "metadata": {},
   "outputs": [
    {
     "data": {
      "text/plain": [
       "<matplotlib.image.AxesImage at 0x7e81bafbcfd0>"
      ]
     },
     "execution_count": 7,
     "metadata": {},
     "output_type": "execute_result"
    },
    {
     "data": {
      "image/png": "[encoded data removed]",
      "text/plain": [
       "<Figure size 640x480 with 1 Axes>"
      ]
     },
     "metadata": {},
     "output_type": "display_data"
    }
   ],
   "source": [
    "image, label = train_data[10]\n",
    "plt.imshow(image.squeeze())"
   ]
  },
  {
   "cell_type": "code",
   "execution_count": 8,
   "id": "7f1f4852",
   "metadata": {},
   "outputs": [
    {
     "data": {
      "image/png": "[encoded data removed]",
      "text/plain": [
       "<Figure size 640x480 with 1 Axes>"
      ]
     },
     "metadata": {},
     "output_type": "display_data"
    }
   ],
   "source": [
    "plt.imshow(image.squeeze(), cmap=\"gray\")\n",
    "plt.title(class_names[label]);\n",
    "plt.axis(False);"
   ]
  },
  {
   "cell_type": "code",
   "execution_count": 14,
   "id": "e95faa68",
   "metadata": {},
   "outputs": [
    {
     "data": {
      "image/png": "[encoded data removed]",
      "text/plain": [
       "<Figure size 900x900 with 16 Axes>"
      ]
     },
     "metadata": {},
     "output_type": "display_data"
    }
   ],
   "source": [
    "## plotting more images\n",
    "# torch.manual_seed(42)\n",
    "fig = plt.figure(figsize=(9, 9))\n",
    "rows, cols = 4, 4\n",
    "for i in range(1, rows * cols + 1):\n",
    "    random_idx = torch.randint(0, len(train_data), size=[1]).item()\n",
    "    img, label = train_data[random_idx] \n",
    "    fig.add_subplot(rows, cols, i)\n",
    "    plt.imshow(img.squeeze(), cmap=\"gray\")\n",
    "    plt.title(class_names[label])\n",
    "    plt.axis(False);\n",
    "plt.tight_layout();"
   ]
  },
  {
   "cell_type": "code",
   "execution_count": 10,
   "id": "f7bc88df",
   "metadata": {},
   "outputs": [
    {
     "data": {
      "text/plain": [
       "(Dataset FashionMNIST\n",
       "     Number of datapoints: 60000\n",
       "     Root location: ../data/\n",
       "     Split: Train\n",
       "     StandardTransform\n",
       " Transform: ToTensor(),\n",
       " Dataset FashionMNIST\n",
       "     Number of datapoints: 10000\n",
       "     Root location: ../data/\n",
       "     Split: Test\n",
       "     StandardTransform\n",
       " Transform: ToTensor())"
      ]
     },
     "execution_count": 10,
     "metadata": {},
     "output_type": "execute_result"
    }
   ],
   "source": [
    "train_data, test_data"
   ]
  },
  {
   "cell_type": "markdown",
   "id": "c543ef85",
   "metadata": {},
   "source": [
    "## 2. Preparing Dataloader:\n",
    "Turning PyTorch dataset into a python iterable. More specifically we want to turn our data into batches (or mini-batches) -> computationally more efficient"
   ]
  },
  {
   "cell_type": "code",
   "execution_count": 16,
   "id": "8243f96f",
   "metadata": {},
   "outputs": [
    {
     "name": "stdout",
     "output_type": "stream",
     "text": [
      "Dataloaders: (<torch.utils.data.dataloader.DataLoader object at 0x7e819d6dc610>, <torch.utils.data.dataloader.DataLoader object at 0x7e819d7a3a60>)\n",
      "Length of train_dataloader: 1875\n",
      "Length of test_dataloader: 313\n"
     ]
    }
   ],
   "source": [
    "BATCH_SIZE = 32  # HYPERPARAMETER\n",
    "\n",
    "train_dataloader = DataLoader(dataset=train_data,\n",
    "                                   batch_size=BATCH_SIZE,\n",
    "                                   shuffle=True)\n",
    "                                   \n",
    "test_dataloader = DataLoader(dataset=test_data,\n",
    "                                  batch_size=BATCH_SIZE,\n",
    "                                  shuffle=False)\n",
    "\n",
    "print(f\"Dataloaders: {train_dataloader, test_dataloader}\")\n",
    "print(f\"Length of train_dataloader: {len(train_dataloader)}\")\n",
    "print(f\"Length of test_dataloader: {len(test_dataloader)}\")\n",
    "\n"
   ]
  },
  {
   "cell_type": "code",
   "execution_count": null,
   "id": "af07ac3a",
   "metadata": {},
   "outputs": [
    {
     "data": {
      "text/plain": [
       "(torch.Size([32, 1, 28, 28]), torch.Size([32]))"
      ]
     },
     "execution_count": 18,
     "metadata": {},
     "output_type": "execute_result"
    }
   ],
   "source": [
    "## Check out what's inside the training dataloader:\n",
    "train_features_batch, train_labels_batch = next(iter(train_dataloader))  # Extract one batch of training data data.\n",
    "train_features_batch.shape, train_labels_batch.shape\n"
   ]
  },
  {
   "cell_type": "markdown",
   "id": "6e6629be",
   "metadata": {},
   "source": [
    "## 3. Building a baseline model:\n",
    "\n",
    "When starting to build a series of ML modelling experiments, it's a best practice to start with `baseline models`. \n",
    "\n",
    "A `baseline model` is a <u>simple model</u> you will try and improve upon with subsequent models/ experiments.\n",
    "\n",
    "Note: Start simply and add complexity when necessary."
   ]
  },
  {
   "cell_type": "code",
   "execution_count": 28,
   "id": "b3f4c4b0",
   "metadata": {},
   "outputs": [
    {
     "name": "stdout",
     "output_type": "stream",
     "text": [
      "before flattening: torch.Size([1, 28, 28])\n",
      "after flattening: torch.Size([1, 784])\n"
     ]
    },
    {
     "data": {
      "text/plain": [
       "tensor([0.0000, 0.0000, 0.0000, 0.0000, 0.0000, 0.0000, 0.0000, 0.0000, 0.0000,\n",
       "        0.0000, 0.0000, 0.0000, 0.0000, 0.0000, 0.0000, 0.0000, 0.0000, 0.0000,\n",
       "        0.0000, 0.0000, 0.0000, 0.0000, 0.0000, 0.0000, 0.0000, 0.0000, 0.0000,\n",
       "        0.0000, 0.0000, 0.0000, 0.0000, 0.0000, 0.0000, 0.0000, 0.0000, 0.0000,\n",
       "        0.0000, 0.0000, 0.0000, 0.0000, 0.0000, 0.0000, 0.0000, 0.0000, 0.0000,\n",
       "        0.0000, 0.0000, 0.0000, 0.0000, 0.0000, 0.0000, 0.0000, 0.0000, 0.0000,\n",
       "        0.0000, 0.0000, 0.0000, 0.0000, 0.0000, 0.0000, 0.0000, 0.0000, 0.0000,\n",
       "        0.0000, 0.0000, 0.0000, 0.0000, 0.0000, 0.0000, 0.0000, 0.0000, 0.0000,\n",
       "        0.0000, 0.0000, 0.0000, 0.0000, 0.0000, 0.0000, 0.0000, 0.0000, 0.0000,\n",
       "        0.0000, 0.0000, 0.0000, 0.0000, 0.0000, 0.0000, 0.0000, 0.0000, 0.0000,\n",
       "        0.0000, 0.0000, 0.0000, 0.0000, 0.0000, 0.0000, 0.0000, 0.0000, 0.0000,\n",
       "        0.0000, 0.0000, 0.0000, 0.0000, 0.0000, 0.0000, 0.0000, 0.0000, 0.0000,\n",
       "        0.0000, 0.0000, 0.0000, 0.0000, 0.0000, 0.0000, 0.0000, 0.0000, 0.0000,\n",
       "        0.0000, 0.0000, 0.0000, 0.0000, 0.0000, 0.0000, 0.0000, 0.0000, 0.0000,\n",
       "        0.0000, 0.0000, 0.0000, 0.0000, 0.0000, 0.0000, 0.0000, 0.0000, 0.0000,\n",
       "        0.0000, 0.0000, 0.0000, 0.0000, 0.0000, 0.0000, 0.0000, 0.0000, 0.0000,\n",
       "        0.0000, 0.0000, 0.0000, 0.0000, 0.0000, 0.0000, 0.0000, 0.0000, 0.0000,\n",
       "        0.0000, 0.0000, 0.0000, 0.0000, 0.0000, 0.0000, 0.0000, 0.0000, 0.0000,\n",
       "        0.0000, 0.0000, 0.0000, 0.0000, 0.0000, 0.0000, 0.0000, 0.0000, 0.0000,\n",
       "        0.0000, 0.0000, 0.0000, 0.0000, 0.0000, 0.0000, 0.0000, 0.0000, 0.0000,\n",
       "        0.0000, 0.0000, 0.0000, 0.0000, 0.0000, 0.0000, 0.0000, 0.0000, 0.0000,\n",
       "        0.0000, 0.0000, 0.0000, 0.0000, 0.0000, 0.0000, 0.0000, 0.0000, 0.0000,\n",
       "        0.0000, 0.0000, 0.0000, 0.0000, 0.0000, 0.0000, 0.0000, 0.0000, 0.0000,\n",
       "        0.0000, 0.0000, 0.0000, 0.0000, 0.0000, 0.0000, 0.0000, 0.0000, 0.0000,\n",
       "        0.0000, 0.0000, 0.0000, 0.0000, 0.0000, 0.0000, 0.0000, 0.0000, 0.0000,\n",
       "        0.0000, 0.0000, 0.0000, 0.0000, 0.0000, 0.0000, 0.0000, 0.0000, 0.0000,\n",
       "        0.0000, 0.0000, 0.0000, 0.0000, 0.0000, 0.0000, 0.0000, 0.0000, 0.0000,\n",
       "        0.0000, 0.0000, 0.0000, 0.0000, 0.0000, 0.0000, 0.0000, 0.0000, 0.0000,\n",
       "        0.0000, 0.0000, 0.0000, 0.0000, 0.0000, 0.0118, 0.0196, 0.0000, 0.0235,\n",
       "        0.0078, 0.0000, 0.0000, 0.0000, 0.0000, 0.0000, 0.5333, 0.8314, 0.6235,\n",
       "        0.0000, 0.0000, 0.0000, 0.0000, 0.0000, 0.1843, 0.0000, 0.0000, 0.0078,\n",
       "        0.0000, 0.0000, 0.0000, 0.0000, 0.0000, 0.0000, 0.0000, 0.0000, 0.0000,\n",
       "        0.0000, 0.0000, 0.0000, 0.0039, 0.0000, 0.0000, 0.6510, 0.7843, 0.7373,\n",
       "        0.9412, 0.9098, 0.8000, 1.0000, 0.8902, 0.7294, 0.7686, 0.4353, 0.0000,\n",
       "        0.0000, 0.0000, 0.0000, 0.0039, 0.0000, 0.0039, 0.0000, 0.0000, 0.1490,\n",
       "        0.2392, 0.3608, 0.1412, 0.0000, 0.0000, 0.0000, 0.0000, 0.5804, 0.6980,\n",
       "        0.5647, 0.7059, 0.8627, 0.8275, 0.8431, 0.8667, 0.6118, 0.4588, 0.7059,\n",
       "        0.1882, 0.0000, 0.0118, 0.0039, 0.0078, 0.0039, 0.0000, 0.0000, 0.6824,\n",
       "        0.9020, 0.7882, 0.8235, 0.7725, 0.1608, 0.1451, 0.2431, 0.3765, 0.6392,\n",
       "        0.7176, 0.6353, 0.7020, 0.6078, 0.7686, 0.8314, 0.8431, 0.7176, 0.6078,\n",
       "        0.8275, 0.0980, 0.0000, 0.0157, 0.0000, 0.0000, 0.0000, 0.0000, 0.0000,\n",
       "        0.7059, 0.8588, 0.6196, 0.7569, 0.7098, 0.7176, 0.8078, 0.8863, 0.9882,\n",
       "        0.9412, 0.7922, 0.6863, 0.7333, 0.7176, 0.9216, 0.8000, 0.8510, 0.9020,\n",
       "        0.5294, 0.0000, 0.0000, 0.0000, 0.0000, 0.3647, 0.4980, 0.3608, 0.0000,\n",
       "        0.0000, 0.8745, 0.7216, 0.5490, 0.6353, 0.7020, 0.6667, 0.6392, 0.2510,\n",
       "        0.0118, 0.0039, 0.0000, 0.0000, 0.4510, 1.0000, 0.7922, 0.8392, 0.8275,\n",
       "        0.9294, 0.0000, 0.0000, 0.1176, 0.2000, 0.0000, 0.3882, 0.5333, 0.4824,\n",
       "        0.7765, 0.5373, 0.7451, 0.5569, 0.5529, 0.6431, 0.8353, 0.5255, 0.6706,\n",
       "        0.5686, 0.2392, 0.5412, 0.8275, 0.8902, 0.7922, 0.9333, 0.8863, 0.6353,\n",
       "        0.6000, 0.5843, 0.4392, 0.6706, 0.8039, 0.7765, 0.1608, 0.0000, 0.5961,\n",
       "        0.5412, 0.3882, 0.5020, 0.6627, 0.6627, 0.6824, 0.8235, 0.8392, 0.7490,\n",
       "        0.6196, 0.7765, 1.0000, 0.8157, 0.5059, 0.3373, 0.2353, 0.2392, 0.2510,\n",
       "        0.3961, 0.6941, 0.4196, 0.2824, 0.1373, 0.1451, 0.1569, 0.4902, 0.0000,\n",
       "        0.0000, 0.4627, 0.7490, 0.4627, 0.2941, 0.1922, 0.3608, 0.4078, 0.1922,\n",
       "        0.2863, 0.2902, 0.2078, 0.1333, 0.2706, 0.4980, 0.6039, 0.6000, 0.4353,\n",
       "        0.3137, 0.1451, 0.6667, 0.8000, 0.7098, 0.5843, 0.4118, 0.5569, 0.4980,\n",
       "        0.0000, 0.0000, 0.0000, 0.0667, 0.6431, 0.7216, 0.8078, 0.9686, 1.0000,\n",
       "        0.8667, 0.6196, 0.6314, 0.7216, 0.8902, 0.8863, 0.6902, 0.6196, 0.8235,\n",
       "        0.9451, 0.9961, 0.8000, 0.7294, 0.8706, 0.8196, 0.8275, 0.7882, 0.7059,\n",
       "        0.0000, 0.0000, 0.0000, 0.0039, 0.0000, 0.0000, 0.0000, 0.0980, 0.2118,\n",
       "        0.2510, 0.3412, 0.3373, 0.2941, 0.2314, 0.0078, 0.0000, 0.0000, 0.0000,\n",
       "        0.0000, 0.0000, 0.0510, 0.2157, 0.2353, 0.2196, 0.1686, 0.0941, 0.0039,\n",
       "        0.0000, 0.0000, 0.0000, 0.0000, 0.0000, 0.0000, 0.0000, 0.0000, 0.0000,\n",
       "        0.0000, 0.0000, 0.0000, 0.0000, 0.0000, 0.0000, 0.0000, 0.0000, 0.0000,\n",
       "        0.0000, 0.0000, 0.0000, 0.0000, 0.0000, 0.0000, 0.0000, 0.0000, 0.0000,\n",
       "        0.0000, 0.0000, 0.0000, 0.0000, 0.0000, 0.0000, 0.0000, 0.0000, 0.0000,\n",
       "        0.0000, 0.0000, 0.0000, 0.0000, 0.0000, 0.0000, 0.0000, 0.0000, 0.0000,\n",
       "        0.0000, 0.0000, 0.0000, 0.0000, 0.0000, 0.0000, 0.0000, 0.0000, 0.0000,\n",
       "        0.0000, 0.0000, 0.0000, 0.0000, 0.0000, 0.0000, 0.0000, 0.0000, 0.0000,\n",
       "        0.0000, 0.0000, 0.0000, 0.0000, 0.0000, 0.0000, 0.0000, 0.0000, 0.0000,\n",
       "        0.0000, 0.0000, 0.0000, 0.0000, 0.0000, 0.0000, 0.0000, 0.0000, 0.0000,\n",
       "        0.0000, 0.0000, 0.0000, 0.0000, 0.0000, 0.0000, 0.0000, 0.0000, 0.0000,\n",
       "        0.0000, 0.0000, 0.0000, 0.0000, 0.0000, 0.0000, 0.0000, 0.0000, 0.0000,\n",
       "        0.0000, 0.0000, 0.0000, 0.0000, 0.0000, 0.0000, 0.0000, 0.0000, 0.0000,\n",
       "        0.0000, 0.0000, 0.0000, 0.0000, 0.0000, 0.0000, 0.0000, 0.0000, 0.0000,\n",
       "        0.0000, 0.0000, 0.0000, 0.0000, 0.0000, 0.0000, 0.0000, 0.0000, 0.0000,\n",
       "        0.0000, 0.0000, 0.0000, 0.0000, 0.0000, 0.0000, 0.0000, 0.0000, 0.0000,\n",
       "        0.0000, 0.0000, 0.0000, 0.0000, 0.0000, 0.0000, 0.0000, 0.0000, 0.0000,\n",
       "        0.0000, 0.0000, 0.0000, 0.0000, 0.0000, 0.0000, 0.0000, 0.0000, 0.0000,\n",
       "        0.0000, 0.0000, 0.0000, 0.0000, 0.0000, 0.0000, 0.0000, 0.0000, 0.0000,\n",
       "        0.0000, 0.0000, 0.0000, 0.0000, 0.0000, 0.0000, 0.0000, 0.0000, 0.0000,\n",
       "        0.0000, 0.0000, 0.0000, 0.0000, 0.0000, 0.0000, 0.0000, 0.0000, 0.0000,\n",
       "        0.0000, 0.0000, 0.0000, 0.0000, 0.0000, 0.0000, 0.0000, 0.0000, 0.0000,\n",
       "        0.0000, 0.0000, 0.0000, 0.0000, 0.0000, 0.0000, 0.0000, 0.0000, 0.0000,\n",
       "        0.0000, 0.0000, 0.0000, 0.0000, 0.0000, 0.0000, 0.0000, 0.0000, 0.0000,\n",
       "        0.0000, 0.0000, 0.0000, 0.0000, 0.0000, 0.0000, 0.0000, 0.0000, 0.0000,\n",
       "        0.0000, 0.0000, 0.0000, 0.0000, 0.0000, 0.0000, 0.0000, 0.0000, 0.0000,\n",
       "        0.0000])"
      ]
     },
     "execution_count": 28,
     "metadata": {},
     "output_type": "execute_result"
    }
   ],
   "source": [
    "flatten_model = nn.Flatten()  # Creating a flatten layer\n",
    "x = train_features_batch[10]  # get a single sample\n",
    "print(f\"before flattening: {x.shape}\")\n",
    "output = flatten_model(x)  # flatten the sample\n",
    "print(f\"after flattening: {output.shape}\")\n",
    "output.squeeze()  # remove extra dimensions"
   ]
  },
  {
   "cell_type": "code",
   "execution_count": 51,
   "id": "c2c07815",
   "metadata": {},
   "outputs": [
    {
     "data": {
      "text/plain": [
       "FashionMNISTModelV0(\n",
       "  (layer_stack): Sequential(\n",
       "    (0): Flatten(start_dim=1, end_dim=-1)\n",
       "    (1): Linear(in_features=784, out_features=10, bias=True)\n",
       "    (2): Linear(in_features=10, out_features=10, bias=True)\n",
       "  )\n",
       ")"
      ]
     },
     "execution_count": 51,
     "metadata": {},
     "output_type": "execute_result"
    }
   ],
   "source": [
    "class FashionMNISTModelV0(nn.Module):\n",
    "    def __init__(self, \n",
    "                 input_shape: int,\n",
    "                 hidden_units: int,\n",
    "                 output_shape: int):\n",
    "                 \n",
    "        super().__init__()\n",
    "        self.layer_stack = nn.Sequential(\n",
    "            nn.Flatten(),  # flatten inputs into vector\n",
    "            nn.Linear(input_shape, hidden_units),  # first hidden layer\n",
    "            nn.Linear(hidden_units, output_shape)  # output layer      \n",
    "            \n",
    "        )\n",
    "\n",
    "    def forward(self, x):\n",
    "        return self.layer_stack(x)\n",
    "    \n",
    "baselineModel = FashionMNISTModelV0(input_shape=28*28,\n",
    "                                    hidden_units=10,\n",
    "                                    output_shape=len(class_names))\n",
    "baselineModel.to(\"cpu\")\n"
   ]
  },
  {
   "cell_type": "code",
   "execution_count": 52,
   "id": "e5040d6a",
   "metadata": {},
   "outputs": [
    {
     "data": {
      "text/plain": [
       "tensor([[-0.0219, -0.2004,  0.2750, -0.1401, -0.2133,  0.2717, -0.0225, -0.4663,\n",
       "         -0.0403, -0.1392]], grad_fn=<AddmmBackward0>)"
      ]
     },
     "execution_count": 52,
     "metadata": {},
     "output_type": "execute_result"
    }
   ],
   "source": [
    "dummy_x = torch.rand([1, 1, 28, 28])\n",
    "dummy_x\n",
    "baselineModel(dummy_x)"
   ]
  },
  {
   "cell_type": "code",
   "execution_count": null,
   "id": "c2119067",
   "metadata": {},
   "outputs": [],
   "source": [
    "loss_fn = nn.CrossEntropyLoss()  # for multi-class classification\n",
    "optimizer = torch.optim.SGD(params=baselineModel.parameters(),\n",
    "                            lr=0.1)"
   ]
  },
  {
   "cell_type": "code",
   "execution_count": 58,
   "id": "27f82aed",
   "metadata": {},
   "outputs": [],
   "source": [
    "def print_train_time(start: float,\n",
    "                     end: float,\n",
    "                     device: torch.device=None):\n",
    "    total_time = end - start\n",
    "    print(f\"Train time on {device}: {total_time:.3f} seconds\")\n",
    "    return total_time\n"
   ]
  },
  {
   "cell_type": "markdown",
   "id": "20219a33",
   "metadata": {},
   "source": [
    "### Creating a training loop and training a model on batches of data:\n",
    "1. Loop through epochs.\n",
    "2. Loop through training batches, perform training steps, calculate the train loss per batch.\n",
    "3. Loop through testing batches, perform testing steps, calculate the test loss per batch.\n",
    "4. Print out what's happening.\n",
    "5. Time it all.\n",
    "\n",
    "`Highlight:` the optimizer will update a model's parameters once per batch rather than once per epochs (whole 60k images)"
   ]
  },
  {
   "cell_type": "code",
   "execution_count": null,
   "id": "ea21d024",
   "metadata": {},
   "outputs": [
    {
     "name": "stdout",
     "output_type": "stream",
     "text": [
      "Train time on None: 0.000 seconds\n"
     ]
    },
    {
     "data": {
      "text/plain": [
       "1.4795001334277913e-05"
      ]
     },
     "execution_count": 60,
     "metadata": {},
     "output_type": "execute_result"
    }
   ],
   "source": [
    "## Training loop:\n",
    "torch.manual_seed(42)\n",
    "train_time_start_on_cpu = timer()\n",
    "\n",
    "\n",
    "epochs = 3  # TODO\n",
    "\n",
    "for epoch in tqdm(range(epochs)):\n",
    "    print(f\"Epoch: {epoch}\\n---------\")\n",
    "    train_loss = 0\n",
    "    # Model parameters are being updated after each batch:\n",
    "    for batch, (x, y) in enumerate(train_dataloader):\n",
    "        baselineModel.eval()\n",
    "        y_pred = baselineModel(x)  # forward pass\n",
    "\n",
    "        loss = loss_fn(y_pred, y)  # calculate loss\n",
    "        train_loss += loss  # accumulate loss\n",
    "\n",
    "        optimizer.zero_grad()  # optimizer zero grad\n",
    "        loss.backward()  # backpropagation\n",
    "        optimizer.step()  # gradient descent\n",
    "        \n",
    "        if batch % 400 == 0:\n",
    "            print(f\"Looked at {batch * len(x)}/{len(train_dataloader.dataset)} samples\")\n",
    "            \n",
    "            \n",
    "        \n",
    "\n",
    "\n",
    "end_time = timer()\n",
    "print_train_time(start_time, end_time, device=None)\n"
   ]
  },
  {
   "cell_type": "code",
   "execution_count": null,
   "id": "a8436021",
   "metadata": {},
   "outputs": [],
   "source": []
  }
 ],
 "metadata": {
  "kernelspec": {
   "display_name": "dl_env",
   "language": "python",
   "name": "python3"
  },
  "language_info": {
   "codemirror_mode": {
    "name": "ipython",
    "version": 3
   },
   "file_extension": ".py",
   "mimetype": "text/x-python",
   "name": "python",
   "nbconvert_exporter": "python",
   "pygments_lexer": "ipython3",
   "version": "3.10.14"
  }
 },
 "nbformat": 4,
 "nbformat_minor": 5
}
