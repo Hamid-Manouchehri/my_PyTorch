{
 "cells": [
  {
   "cell_type": "markdown",
   "id": "5f925f77",
   "metadata": {},
   "source": [
    "# TorchVision"
   ]
  },
  {
   "cell_type": "code",
   "execution_count": 24,
   "id": "f1f6db44",
   "metadata": {},
   "outputs": [
    {
     "name": "stdout",
     "output_type": "stream",
     "text": [
      "2.6.0+cu124\n",
      "0.21.0+cu124\n"
     ]
    }
   ],
   "source": [
    "import torch\n",
    "from torch import nn\n",
    "\n",
    "import torchvision\n",
    "from torchvision import datasets\n",
    "from torchvision import transforms\n",
    "from torchvision.transforms import ToTensor\n",
    "import matplotlib.pyplot as plt\n",
    "from torch.utils.data import DataLoader\n",
    "from timeit import default_timer as timer\n",
    "from tqdm.auto import tqdm\n",
    "\n",
    "from helper_functions import accuracy_fn\n",
    "\n",
    "print(torch.__version__)\n",
    "print(torchvision.__version__)"
   ]
  },
  {
   "cell_type": "markdown",
   "id": "0fd63906",
   "metadata": {},
   "source": [
    "## 1. Getting a dataset\n",
    "Using `FashionMNIST` from torchvision.datasets"
   ]
  },
  {
   "cell_type": "code",
   "execution_count": 2,
   "id": "e30fe9f8",
   "metadata": {},
   "outputs": [],
   "source": [
    "## setting up training data:\n",
    "train_data = datasets.FashionMNIST(\n",
    "    root=\"../data/\",\n",
    "    train=True,\n",
    "    download=True,\n",
    "    transform=ToTensor(),  # how to transform the data\n",
    "    target_transform=None\n",
    ")\n",
    "\n",
    "## setting up test data:\n",
    "test_data = datasets.FashionMNIST(\n",
    "    root=\"../data/\",\n",
    "    train=False,\n",
    "    download=True,\n",
    "    transform=ToTensor(),\n",
    "    target_transform=None\n",
    ")"
   ]
  },
  {
   "cell_type": "code",
   "execution_count": 3,
   "id": "81e40b34",
   "metadata": {},
   "outputs": [
    {
     "data": {
      "text/plain": [
       "(60000, 10000)"
      ]
     },
     "execution_count": 3,
     "metadata": {},
     "output_type": "execute_result"
    }
   ],
   "source": [
    "len(train_data), len(test_data)"
   ]
  },
  {
   "cell_type": "code",
   "execution_count": 4,
   "id": "91fea59a",
   "metadata": {},
   "outputs": [
    {
     "data": {
      "text/plain": [
       "(tensor([[[0.0000, 0.0000, 0.0000, 0.0000, 0.0000, 0.0000, 0.0000, 0.0000,\n",
       "           0.0000, 0.0000, 0.0000, 0.3804, 0.3294, 0.3804, 0.4314, 0.4235,\n",
       "           0.3412, 0.3804, 0.0000, 0.0000, 0.0000, 0.0000, 0.0000, 0.0000,\n",
       "           0.0000, 0.0000, 0.0000, 0.0000],\n",
       "          [0.0000, 0.0000, 0.0000, 0.0000, 0.0000, 0.0000, 0.0000, 0.0000,\n",
       "           0.0000, 0.0000, 0.0745, 1.0000, 0.7804, 0.7176, 0.5569, 0.6314,\n",
       "           0.7843, 0.8353, 0.1255, 0.0000, 0.0000, 0.0000, 0.0000, 0.0000,\n",
       "           0.0000, 0.0000, 0.0000, 0.0000],\n",
       "          [0.0000, 0.0000, 0.0000, 0.0000, 0.0000, 0.0000, 0.0000, 0.0000,\n",
       "           0.0000, 0.0000, 0.2824, 0.6824, 0.6784, 0.6196, 0.5137, 0.5176,\n",
       "           0.6902, 0.6902, 0.2745, 0.0000, 0.0000, 0.0000, 0.0000, 0.0000,\n",
       "           0.0000, 0.0000, 0.0000, 0.0000],\n",
       "          [0.0000, 0.0000, 0.0000, 0.0000, 0.0000, 0.0000, 0.0000, 0.0000,\n",
       "           0.0000, 0.0000, 0.5569, 0.7059, 0.6392, 0.4706, 0.7059, 0.4941,\n",
       "           0.5451, 0.6588, 0.4784, 0.0000, 0.0000, 0.0000, 0.0000, 0.0000,\n",
       "           0.0000, 0.0000, 0.0000, 0.0000],\n",
       "          [0.0000, 0.0000, 0.0000, 0.0000, 0.0000, 0.0000, 0.0000, 0.0000,\n",
       "           0.0000, 0.0000, 0.6118, 0.7059, 0.6353, 0.6706, 0.6667, 0.7176,\n",
       "           0.6392, 0.6627, 0.5647, 0.0000, 0.0000, 0.0000, 0.0000, 0.0000,\n",
       "           0.0000, 0.0000, 0.0000, 0.0000],\n",
       "          [0.0000, 0.0000, 0.0000, 0.0000, 0.0000, 0.0000, 0.0000, 0.0000,\n",
       "           0.0000, 0.0000, 0.6235, 0.6941, 0.6392, 0.6824, 0.6510, 0.6784,\n",
       "           0.6667, 0.6392, 0.5804, 0.0000, 0.0000, 0.0000, 0.0000, 0.0000,\n",
       "           0.0000, 0.0000, 0.0000, 0.0000],\n",
       "          [0.0000, 0.0000, 0.0000, 0.0000, 0.0000, 0.0000, 0.0000, 0.0000,\n",
       "           0.0000, 0.0000, 0.6275, 0.7137, 0.6275, 0.6588, 0.6863, 0.6549,\n",
       "           0.6157, 0.6588, 0.5451, 0.0000, 0.0000, 0.0000, 0.0000, 0.0000,\n",
       "           0.0000, 0.0000, 0.0000, 0.0000],\n",
       "          [0.0000, 0.0000, 0.0000, 0.0000, 0.0000, 0.0000, 0.0000, 0.0000,\n",
       "           0.0000, 0.0000, 0.5608, 0.7255, 0.6314, 0.6706, 0.7216, 0.6902,\n",
       "           0.6275, 0.6863, 0.5137, 0.0000, 0.0000, 0.0000, 0.0000, 0.0000,\n",
       "           0.0000, 0.0000, 0.0000, 0.0000],\n",
       "          [0.0000, 0.0000, 0.0000, 0.0000, 0.0000, 0.0000, 0.0000, 0.0000,\n",
       "           0.0000, 0.0000, 0.5608, 0.7373, 0.6078, 0.6745, 0.7137, 0.7059,\n",
       "           0.6314, 0.7137, 0.4980, 0.0000, 0.0000, 0.0000, 0.0000, 0.0000,\n",
       "           0.0000, 0.0000, 0.0000, 0.0000],\n",
       "          [0.0000, 0.0000, 0.0000, 0.0000, 0.0000, 0.0000, 0.0000, 0.0000,\n",
       "           0.0000, 0.0000, 0.4980, 0.6667, 0.6588, 0.6863, 0.8275, 0.7490,\n",
       "           0.6392, 0.7216, 0.4431, 0.0000, 0.0000, 0.0000, 0.0000, 0.0000,\n",
       "           0.0000, 0.0000, 0.0000, 0.0000],\n",
       "          [0.0000, 0.0000, 0.0000, 0.0000, 0.0000, 0.0000, 0.0000, 0.0000,\n",
       "           0.0000, 0.0000, 0.3059, 0.5176, 0.6863, 0.6941, 0.5059, 0.7961,\n",
       "           0.6314, 0.7333, 0.4000, 0.0000, 0.0000, 0.0000, 0.0000, 0.0000,\n",
       "           0.0000, 0.0000, 0.0000, 0.0000],\n",
       "          [0.0000, 0.0000, 0.0000, 0.0000, 0.0000, 0.0000, 0.0000, 0.0000,\n",
       "           0.0000, 0.0000, 0.3569, 0.6510, 0.6392, 0.7451, 0.2471, 0.7961,\n",
       "           0.6235, 0.7412, 0.3686, 0.0000, 0.0000, 0.0000, 0.0000, 0.0000,\n",
       "           0.0000, 0.0000, 0.0000, 0.0000],\n",
       "          [0.0000, 0.0000, 0.0000, 0.0000, 0.0000, 0.0000, 0.0000, 0.0000,\n",
       "           0.0000, 0.0000, 0.3843, 0.4941, 0.6510, 0.7529, 0.2549, 0.7765,\n",
       "           0.6549, 0.7569, 0.3294, 0.0000, 0.0000, 0.0000, 0.0000, 0.0000,\n",
       "           0.0000, 0.0000, 0.0000, 0.0000],\n",
       "          [0.0000, 0.0000, 0.0000, 0.0000, 0.0000, 0.0000, 0.0000, 0.0000,\n",
       "           0.0000, 0.0000, 0.3529, 0.4980, 0.6667, 0.7765, 0.2392, 0.7843,\n",
       "           0.6824, 0.7765, 0.2784, 0.0000, 0.0000, 0.0000, 0.0000, 0.0000,\n",
       "           0.0000, 0.0000, 0.0000, 0.0000],\n",
       "          [0.0000, 0.0000, 0.0000, 0.0000, 0.0000, 0.0000, 0.0000, 0.0000,\n",
       "           0.0000, 0.0000, 0.3647, 0.5529, 0.5922, 0.8118, 0.2157, 0.7686,\n",
       "           0.6706, 0.7686, 0.2275, 0.0000, 0.0000, 0.0000, 0.0000, 0.0000,\n",
       "           0.0000, 0.0000, 0.0000, 0.0000],\n",
       "          [0.0000, 0.0000, 0.0000, 0.0000, 0.0000, 0.0000, 0.0000, 0.0000,\n",
       "           0.0000, 0.0000, 0.3451, 0.5373, 0.5333, 0.8235, 0.2118, 0.7765,\n",
       "           0.6784, 0.7804, 0.1804, 0.0000, 0.0000, 0.0000, 0.0000, 0.0000,\n",
       "           0.0000, 0.0000, 0.0000, 0.0000],\n",
       "          [0.0000, 0.0000, 0.0000, 0.0000, 0.0000, 0.0000, 0.0000, 0.0000,\n",
       "           0.0000, 0.0000, 0.2824, 0.4902, 0.5137, 0.8392, 0.2157, 0.7804,\n",
       "           0.6902, 0.7843, 0.1490, 0.0000, 0.0000, 0.0000, 0.0000, 0.0000,\n",
       "           0.0000, 0.0000, 0.0000, 0.0000],\n",
       "          [0.0000, 0.0000, 0.0000, 0.0000, 0.0000, 0.0000, 0.0000, 0.0000,\n",
       "           0.0000, 0.0000, 0.2196, 0.5725, 0.4941, 0.8235, 0.2196, 0.7843,\n",
       "           0.6863, 0.7843, 0.1451, 0.0000, 0.0000, 0.0000, 0.0000, 0.0000,\n",
       "           0.0000, 0.0000, 0.0000, 0.0000],\n",
       "          [0.0000, 0.0000, 0.0000, 0.0000, 0.0000, 0.0000, 0.0000, 0.0000,\n",
       "           0.0000, 0.0000, 0.1569, 0.9294, 0.6706, 0.7647, 0.2510, 0.7804,\n",
       "           0.6824, 0.7961, 0.1412, 0.0000, 0.0000, 0.0000, 0.0000, 0.0000,\n",
       "           0.0000, 0.0000, 0.0000, 0.0000],\n",
       "          [0.0000, 0.0000, 0.0000, 0.0000, 0.0000, 0.0000, 0.0000, 0.0000,\n",
       "           0.0000, 0.0000, 0.0902, 0.7451, 0.6588, 0.7529, 0.2745, 0.7686,\n",
       "           0.6706, 0.7961, 0.1176, 0.0000, 0.0000, 0.0000, 0.0000, 0.0000,\n",
       "           0.0000, 0.0000, 0.0000, 0.0000],\n",
       "          [0.0000, 0.0000, 0.0000, 0.0000, 0.0000, 0.0000, 0.0000, 0.0000,\n",
       "           0.0000, 0.0000, 0.0588, 0.7373, 0.6706, 0.7686, 0.2745, 0.7765,\n",
       "           0.6784, 0.7922, 0.0824, 0.0000, 0.0000, 0.0000, 0.0000, 0.0000,\n",
       "           0.0000, 0.0000, 0.0000, 0.0000],\n",
       "          [0.0000, 0.0000, 0.0000, 0.0000, 0.0000, 0.0000, 0.0000, 0.0000,\n",
       "           0.0000, 0.0000, 0.0431, 0.7333, 0.6745, 0.7725, 0.2784, 0.7804,\n",
       "           0.6824, 0.7961, 0.0588, 0.0000, 0.0000, 0.0000, 0.0000, 0.0000,\n",
       "           0.0000, 0.0000, 0.0000, 0.0000],\n",
       "          [0.0000, 0.0000, 0.0000, 0.0000, 0.0000, 0.0000, 0.0000, 0.0000,\n",
       "           0.0000, 0.0000, 0.0039, 0.7176, 0.6863, 0.7765, 0.2863, 0.7647,\n",
       "           0.6824, 0.8039, 0.0510, 0.0000, 0.0000, 0.0000, 0.0000, 0.0000,\n",
       "           0.0000, 0.0000, 0.0000, 0.0000],\n",
       "          [0.0000, 0.0000, 0.0000, 0.0000, 0.0000, 0.0000, 0.0000, 0.0000,\n",
       "           0.0000, 0.0000, 0.0000, 0.7294, 0.6941, 0.7843, 0.3059, 0.7490,\n",
       "           0.6863, 0.6706, 0.0314, 0.0000, 0.0000, 0.0000, 0.0000, 0.0000,\n",
       "           0.0000, 0.0000, 0.0000, 0.0000],\n",
       "          [0.0000, 0.0000, 0.0000, 0.0000, 0.0000, 0.0000, 0.0000, 0.0000,\n",
       "           0.0000, 0.0000, 0.0000, 0.7098, 0.6941, 0.7765, 0.3059, 0.7412,\n",
       "           0.6902, 0.6510, 0.0157, 0.0000, 0.0000, 0.0000, 0.0000, 0.0000,\n",
       "           0.0000, 0.0000, 0.0000, 0.0000],\n",
       "          [0.0000, 0.0000, 0.0000, 0.0000, 0.0000, 0.0000, 0.0000, 0.0000,\n",
       "           0.0000, 0.0000, 0.0000, 0.6980, 0.7137, 0.7137, 0.4196, 0.7216,\n",
       "           0.6863, 0.7569, 0.0000, 0.0000, 0.0000, 0.0000, 0.0000, 0.0000,\n",
       "           0.0000, 0.0000, 0.0000, 0.0000],\n",
       "          [0.0000, 0.0000, 0.0000, 0.0000, 0.0000, 0.0000, 0.0000, 0.0000,\n",
       "           0.0000, 0.0000, 0.0000, 0.6784, 0.7843, 0.8078, 0.3294, 0.7686,\n",
       "           0.7686, 0.5216, 0.0000, 0.0000, 0.0000, 0.0000, 0.0000, 0.0000,\n",
       "           0.0000, 0.0000, 0.0000, 0.0000],\n",
       "          [0.0000, 0.0000, 0.0000, 0.0000, 0.0000, 0.0000, 0.0000, 0.0000,\n",
       "           0.0000, 0.0000, 0.0000, 0.2667, 0.8118, 0.7137, 0.0000, 0.6863,\n",
       "           0.7647, 0.1333, 0.0000, 0.0000, 0.0000, 0.0000, 0.0000, 0.0000,\n",
       "           0.0000, 0.0000, 0.0000, 0.0000]]]),\n",
       " 1)"
      ]
     },
     "execution_count": 4,
     "metadata": {},
     "output_type": "execute_result"
    }
   ],
   "source": [
    "image, label = train_data[1000]\n",
    "image, label"
   ]
  },
  {
   "cell_type": "code",
   "execution_count": null,
   "id": "c72fdeb5",
   "metadata": {},
   "outputs": [],
   "source": []
  },
  {
   "cell_type": "code",
   "execution_count": 5,
   "id": "09f2f606",
   "metadata": {},
   "outputs": [
    {
     "data": {
      "text/plain": [
       "['T-shirt/top',\n",
       " 'Trouser',\n",
       " 'Pullover',\n",
       " 'Dress',\n",
       " 'Coat',\n",
       " 'Sandal',\n",
       " 'Shirt',\n",
       " 'Sneaker',\n",
       " 'Bag',\n",
       " 'Ankle boot']"
      ]
     },
     "execution_count": 5,
     "metadata": {},
     "output_type": "execute_result"
    }
   ],
   "source": [
    "class_names = train_data.classes  # class attribute: list of classes\n",
    "class_names\n"
   ]
  },
  {
   "cell_type": "code",
   "execution_count": 6,
   "id": "3443eeac",
   "metadata": {},
   "outputs": [
    {
     "name": "stdout",
     "output_type": "stream",
     "text": [
      "torch.Size([1, 28, 28])\n",
      "torch.Size([1, 28, 28])\n",
      "784\n",
      "torch.float32\n",
      "cpu\n",
      "False\n"
     ]
    }
   ],
   "source": [
    "print(image.shape)\n",
    "print(image.size())\n",
    "print(image.numel())\n",
    "print(image.dtype)\n",
    "print(image.device)\n",
    "print(image.requires_grad)\n"
   ]
  },
  {
   "cell_type": "markdown",
   "id": "592eefa0",
   "metadata": {},
   "source": [
    "## Visualizing the data"
   ]
  },
  {
   "cell_type": "code",
   "execution_count": 7,
   "id": "959c0bed",
   "metadata": {},
   "outputs": [
    {
     "data": {
      "text/plain": [
       "<matplotlib.image.AxesImage at 0x7a3833ede0e0>"
      ]
     },
     "execution_count": 7,
     "metadata": {},
     "output_type": "execute_result"
    },
    {
     "data": {
      "image/png": "[encoded data removed]",
      "text/plain": [
       "<Figure size 640x480 with 1 Axes>"
      ]
     },
     "metadata": {},
     "output_type": "display_data"
    }
   ],
   "source": [
    "image, label = train_data[10]\n",
    "plt.imshow(image.squeeze())"
   ]
  },
  {
   "cell_type": "code",
   "execution_count": 8,
   "id": "7f1f4852",
   "metadata": {},
   "outputs": [
    {
     "data": {
      "image/png": "[encoded data removed]",
      "text/plain": [
       "<Figure size 640x480 with 1 Axes>"
      ]
     },
     "metadata": {},
     "output_type": "display_data"
    }
   ],
   "source": [
    "plt.imshow(image.squeeze(), cmap=\"gray\")\n",
    "plt.title(class_names[label]);\n",
    "plt.axis(False);"
   ]
  },
  {
   "cell_type": "code",
   "execution_count": 9,
   "id": "e95faa68",
   "metadata": {},
   "outputs": [
    {
     "data": {
      "image/png": "[encoded data removed]",
      "text/plain": [
       "<Figure size 900x900 with 16 Axes>"
      ]
     },
     "metadata": {},
     "output_type": "display_data"
    }
   ],
   "source": [
    "## plotting more images\n",
    "# torch.manual_seed(42)\n",
    "fig = plt.figure(figsize=(9, 9))\n",
    "rows, cols = 4, 4\n",
    "for i in range(1, rows * cols + 1):\n",
    "    random_idx = torch.randint(0, len(train_data), size=[1]).item()\n",
    "    img, label = train_data[random_idx] \n",
    "    fig.add_subplot(rows, cols, i)\n",
    "    plt.imshow(img.squeeze(), cmap=\"gray\")\n",
    "    plt.title(class_names[label])\n",
    "    plt.axis(False);\n",
    "plt.tight_layout();"
   ]
  },
  {
   "cell_type": "code",
   "execution_count": 10,
   "id": "f7bc88df",
   "metadata": {},
   "outputs": [
    {
     "data": {
      "text/plain": [
       "(Dataset FashionMNIST\n",
       "     Number of datapoints: 60000\n",
       "     Root location: ../data/\n",
       "     Split: Train\n",
       "     StandardTransform\n",
       " Transform: ToTensor(),\n",
       " Dataset FashionMNIST\n",
       "     Number of datapoints: 10000\n",
       "     Root location: ../data/\n",
       "     Split: Test\n",
       "     StandardTransform\n",
       " Transform: ToTensor())"
      ]
     },
     "execution_count": 10,
     "metadata": {},
     "output_type": "execute_result"
    }
   ],
   "source": [
    "train_data, test_data"
   ]
  },
  {
   "cell_type": "markdown",
   "id": "c543ef85",
   "metadata": {},
   "source": [
    "## 2. Preparing Dataloader:\n",
    "Turning PyTorch dataset into a python iterable. More specifically we want to turn our data into batches (or mini-batches) -> computationally more efficient"
   ]
  },
  {
   "cell_type": "code",
   "execution_count": 11,
   "id": "8243f96f",
   "metadata": {},
   "outputs": [
    {
     "name": "stdout",
     "output_type": "stream",
     "text": [
      "Dataloaders: (<torch.utils.data.dataloader.DataLoader object at 0x7a3929eb9d80>, <torch.utils.data.dataloader.DataLoader object at 0x7a382372c1f0>)\n",
      "Length of train_dataloader: 1875\n",
      "Length of test_dataloader: 313\n"
     ]
    }
   ],
   "source": [
    "BATCH_SIZE = 32  # HYPERPARAMETER\n",
    "\n",
    "train_dataloader = DataLoader(dataset=train_data,\n",
    "                                   batch_size=BATCH_SIZE,\n",
    "                                   shuffle=True)\n",
    "                                   \n",
    "test_dataloader = DataLoader(dataset=test_data,\n",
    "                                  batch_size=BATCH_SIZE,\n",
    "                                  shuffle=False)\n",
    "\n",
    "print(f\"Dataloaders: {train_dataloader, test_dataloader}\")\n",
    "print(f\"Length of train_dataloader: {len(train_dataloader)}\")\n",
    "print(f\"Length of test_dataloader: {len(test_dataloader)}\")\n",
    "\n"
   ]
  },
  {
   "cell_type": "code",
   "execution_count": 12,
   "id": "af07ac3a",
   "metadata": {},
   "outputs": [
    {
     "data": {
      "text/plain": [
       "(torch.Size([32, 1, 28, 28]), torch.Size([32]))"
      ]
     },
     "execution_count": 12,
     "metadata": {},
     "output_type": "execute_result"
    }
   ],
   "source": [
    "## Check out what's inside the training dataloader:\n",
    "train_features_batch, train_labels_batch = next(iter(train_dataloader))  # Extract one batch of training data data.\n",
    "train_features_batch.shape, train_labels_batch.shape\n"
   ]
  },
  {
   "cell_type": "markdown",
   "id": "6e6629be",
   "metadata": {},
   "source": [
    "## 3. Building a baseline model:\n",
    "\n",
    "When starting to build a series of ML modelling experiments, it's a best practice to start with `baseline models`. \n",
    "\n",
    "A `baseline model` is a <u>simple model</u> you will try and improve upon with subsequent models/ experiments.\n",
    "\n",
    "Note: Start simply and add complexity when necessary."
   ]
  },
  {
   "cell_type": "code",
   "execution_count": 25,
   "id": "b3f4c4b0",
   "metadata": {},
   "outputs": [
    {
     "name": "stdout",
     "output_type": "stream",
     "text": [
      "before flattening: torch.Size([1, 28, 28])\n",
      "after flattening: torch.Size([1, 784])\n"
     ]
    },
    {
     "data": {
      "text/plain": [
       "tensor([0.0000, 0.0000, 0.0000, 0.0000, 0.0000, 0.0000, 0.0000, 0.0000, 0.0000,\n",
       "        0.0000, 0.0000, 0.0000, 0.0000, 0.2000, 0.3176, 0.1922, 0.0000, 0.0000,\n",
       "        0.0000, 0.0000, 0.0000, 0.0000, 0.0000, 0.0000, 0.0000, 0.0000, 0.0000,\n",
       "        0.0000, 0.0000, 0.0000, 0.0000, 0.0000, 0.0000, 0.0000, 0.0000, 0.0039,\n",
       "        0.0039, 0.0000, 0.0000, 0.0000, 0.7529, 0.9961, 0.9725, 0.9922, 0.6863,\n",
       "        0.0000, 0.0000, 0.0000, 0.0000, 0.0000, 0.0000, 0.0000, 0.0000, 0.0000,\n",
       "        0.0000, 0.0000, 0.0000, 0.0000, 0.0000, 0.0000, 0.0000, 0.0000, 0.0000,\n",
       "        0.0000, 0.0000, 0.0000, 0.0000, 0.4196, 0.8353, 0.7686, 0.8039, 0.8039,\n",
       "        0.8275, 0.5059, 0.0000, 0.0000, 0.0000, 0.0000, 0.0000, 0.0000, 0.0000,\n",
       "        0.0000, 0.0000, 0.0000, 0.0000, 0.0000, 0.0000, 0.0000, 0.0000, 0.0000,\n",
       "        0.0000, 0.0000, 0.1333, 0.3216, 0.4157, 0.3294, 0.6471, 0.8824, 0.8667,\n",
       "        0.8235, 0.7412, 0.3686, 0.3804, 0.3412, 0.1098, 0.0000, 0.0000, 0.0000,\n",
       "        0.0000, 0.0000, 0.0000, 0.0000, 0.0000, 0.0000, 0.0000, 0.0000, 0.0039,\n",
       "        0.0000, 0.0667, 0.4000, 0.4039, 0.3333, 0.2588, 0.2314, 0.1333, 0.2588,\n",
       "        0.6000, 0.4392, 0.1569, 0.2039, 0.2784, 0.3412, 0.4000, 0.3451, 0.0392,\n",
       "        0.0000, 0.0000, 0.0000, 0.0000, 0.0000, 0.0000, 0.0000, 0.0000, 0.0000,\n",
       "        0.0000, 0.0000, 0.2980, 0.3373, 0.2392, 0.2510, 0.2667, 0.2745, 0.2627,\n",
       "        0.1373, 0.3294, 0.2157, 0.2314, 0.2784, 0.2824, 0.2824, 0.2627, 0.3843,\n",
       "        0.2784, 0.0000, 0.0000, 0.0000, 0.0000, 0.0000, 0.0000, 0.0000, 0.0000,\n",
       "        0.0000, 0.0000, 0.0392, 0.3529, 0.3059, 0.2706, 0.2510, 0.2667, 0.2588,\n",
       "        0.2706, 0.2431, 0.3490, 0.2941, 0.2627, 0.2745, 0.2784, 0.2784, 0.2706,\n",
       "        0.2980, 0.3569, 0.0157, 0.0000, 0.0000, 0.0000, 0.0000, 0.0000, 0.0000,\n",
       "        0.0000, 0.0000, 0.0000, 0.0745, 0.3451, 0.3020, 0.2863, 0.2549, 0.2667,\n",
       "        0.2549, 0.2667, 0.2392, 0.3647, 0.2824, 0.2667, 0.2902, 0.2863, 0.2863,\n",
       "        0.2745, 0.3333, 0.3647, 0.0353, 0.0000, 0.0000, 0.0000, 0.0000, 0.0000,\n",
       "        0.0000, 0.0000, 0.0000, 0.0000, 0.1529, 0.3608, 0.2824, 0.2902, 0.2431,\n",
       "        0.2588, 0.2549, 0.2667, 0.2314, 0.3922, 0.2941, 0.2627, 0.2902, 0.2863,\n",
       "        0.2824, 0.2784, 0.3686, 0.3686, 0.0706, 0.0000, 0.0000, 0.0000, 0.0000,\n",
       "        0.0000, 0.0000, 0.0000, 0.0000, 0.0000, 0.1961, 0.3647, 0.2941, 0.3098,\n",
       "        0.2510, 0.2745, 0.2667, 0.2863, 0.2431, 0.4118, 0.2980, 0.2667, 0.2902,\n",
       "        0.2941, 0.2863, 0.2863, 0.3882, 0.3490, 0.1294, 0.0000, 0.0000, 0.0000,\n",
       "        0.0000, 0.0000, 0.0000, 0.0000, 0.0000, 0.0000, 0.2039, 0.3608, 0.3098,\n",
       "        0.3137, 0.2549, 0.2863, 0.2784, 0.3020, 0.2471, 0.4275, 0.3020, 0.2980,\n",
       "        0.2941, 0.3059, 0.2902, 0.3020, 0.4235, 0.3294, 0.1804, 0.0000, 0.0000,\n",
       "        0.0000, 0.0000, 0.0000, 0.0000, 0.0000, 0.0000, 0.0000, 0.2431, 0.3647,\n",
       "        0.3176, 0.2980, 0.2627, 0.2824, 0.2863, 0.2941, 0.2314, 0.4235, 0.2863,\n",
       "        0.2980, 0.3137, 0.3020, 0.2706, 0.3412, 0.4275, 0.2941, 0.2235, 0.0000,\n",
       "        0.0000, 0.0000, 0.0000, 0.0000, 0.0000, 0.0000, 0.0000, 0.0000, 0.2863,\n",
       "        0.3647, 0.3098, 0.2784, 0.2588, 0.2627, 0.2784, 0.2941, 0.2392, 0.4314,\n",
       "        0.2980, 0.2784, 0.3294, 0.3216, 0.2706, 0.4039, 0.4039, 0.2863, 0.2627,\n",
       "        0.0000, 0.0000, 0.0000, 0.0000, 0.0000, 0.0000, 0.0000, 0.0000, 0.0000,\n",
       "        0.3020, 0.3529, 0.3255, 0.2706, 0.2588, 0.2745, 0.2824, 0.3059, 0.2510,\n",
       "        0.4549, 0.3137, 0.2667, 0.3333, 0.3255, 0.2745, 0.3882, 0.3569, 0.2824,\n",
       "        0.3020, 0.0000, 0.0000, 0.0000, 0.0000, 0.0000, 0.0000, 0.0000, 0.0000,\n",
       "        0.0000, 0.3137, 0.3294, 0.3216, 0.2510, 0.2667, 0.2941, 0.2784, 0.3020,\n",
       "        0.2471, 0.4588, 0.3176, 0.2627, 0.3176, 0.3137, 0.2706, 0.3804, 0.3686,\n",
       "        0.2745, 0.3216, 0.0000, 0.0000, 0.0000, 0.0000, 0.0000, 0.0000, 0.0000,\n",
       "        0.0000, 0.0353, 0.3255, 0.2667, 0.3922, 0.3176, 0.2706, 0.2980, 0.2745,\n",
       "        0.3020, 0.2471, 0.4471, 0.3294, 0.2784, 0.2902, 0.3412, 0.2863, 0.4157,\n",
       "        0.4314, 0.2471, 0.3412, 0.0000, 0.0000, 0.0000, 0.0000, 0.0000, 0.0000,\n",
       "        0.0000, 0.0000, 0.0667, 0.3216, 0.2196, 0.5294, 0.3412, 0.2431, 0.3059,\n",
       "        0.2745, 0.3059, 0.2431, 0.4431, 0.3333, 0.3098, 0.2627, 0.3137, 0.2588,\n",
       "        0.4196, 0.4941, 0.2275, 0.3529, 0.0000, 0.0000, 0.0000, 0.0000, 0.0000,\n",
       "        0.0000, 0.0000, 0.0000, 0.0980, 0.3216, 0.2078, 0.6588, 0.3255, 0.2784,\n",
       "        0.2824, 0.2902, 0.3137, 0.2471, 0.4353, 0.3098, 0.3059, 0.2941, 0.2745,\n",
       "        0.3020, 0.3922, 0.5176, 0.2157, 0.3569, 0.0118, 0.0000, 0.0000, 0.0000,\n",
       "        0.0000, 0.0000, 0.0000, 0.0000, 0.1176, 0.2980, 0.2039, 0.7490, 0.2510,\n",
       "        0.2471, 0.2706, 0.2902, 0.3098, 0.2510, 0.4471, 0.3059, 0.3020, 0.3216,\n",
       "        0.2588, 0.2353, 0.4235, 0.5765, 0.1882, 0.3490, 0.0549, 0.0000, 0.0000,\n",
       "        0.0000, 0.0000, 0.0000, 0.0000, 0.0000, 0.1412, 0.2667, 0.2588, 0.8157,\n",
       "        0.1882, 0.2510, 0.2980, 0.2745, 0.3020, 0.2353, 0.4706, 0.3294, 0.2745,\n",
       "        0.3059, 0.2902, 0.1882, 0.4510, 0.6588, 0.1725, 0.3373, 0.0941, 0.0000,\n",
       "        0.0000, 0.0000, 0.0000, 0.0000, 0.0000, 0.0000, 0.1490, 0.2157, 0.3686,\n",
       "        0.8510, 0.1608, 0.2627, 0.3176, 0.2980, 0.3255, 0.2588, 0.4588, 0.3216,\n",
       "        0.2745, 0.3176, 0.3333, 0.2235, 0.3686, 0.6863, 0.2196, 0.3059, 0.1216,\n",
       "        0.0000, 0.0000, 0.0000, 0.0000, 0.0000, 0.0000, 0.0000, 0.1608, 0.1647,\n",
       "        0.4863, 0.8235, 0.0078, 0.1686, 0.2078, 0.1804, 0.2549, 0.2471, 0.4235,\n",
       "        0.3020, 0.2588, 0.2588, 0.2196, 0.0078, 0.1569, 0.6549, 0.3176, 0.2588,\n",
       "        0.1333, 0.0000, 0.0000, 0.0000, 0.0000, 0.0000, 0.0000, 0.0000, 0.1647,\n",
       "        0.1412, 0.6314, 0.7020, 0.0980, 0.4275, 0.3647, 0.3804, 0.2706, 0.2314,\n",
       "        0.4627, 0.3294, 0.2510, 0.3255, 0.3412, 0.3216, 0.1176, 0.5922, 0.3882,\n",
       "        0.2471, 0.1490, 0.0000, 0.0000, 0.0000, 0.0000, 0.0000, 0.0000, 0.0000,\n",
       "        0.1451, 0.1843, 0.7608, 0.5216, 0.4706, 1.0000, 0.7804, 0.8196, 0.4196,\n",
       "        0.2431, 0.4627, 0.3686, 0.1922, 0.7294, 0.8157, 0.8588, 0.4784, 0.5255,\n",
       "        0.5176, 0.2745, 0.1608, 0.0000, 0.0000, 0.0000, 0.0000, 0.0000, 0.0000,\n",
       "        0.0000, 0.0863, 0.1098, 0.5490, 0.3686, 0.2588, 0.8196, 0.6667, 0.8863,\n",
       "        0.4157, 0.2667, 0.4667, 0.4078, 0.2235, 0.6824, 0.7490, 0.9333, 0.3922,\n",
       "        0.3529, 0.4824, 0.1255, 0.0588, 0.0000, 0.0000, 0.0000, 0.0000, 0.0000,\n",
       "        0.0000, 0.0000, 0.0941, 0.5804, 0.6588, 0.3098, 0.0000, 0.0000, 0.0000,\n",
       "        0.0000, 0.0000, 0.0000, 0.0000, 0.0000, 0.0000, 0.0000, 0.0000, 0.0000,\n",
       "        0.0000, 0.1608, 0.8667, 0.6980, 0.2784, 0.0000, 0.0000, 0.0000, 0.0000,\n",
       "        0.0000, 0.0000, 0.0000, 0.0902, 0.8275, 0.9451, 0.3059, 0.0000, 0.0000,\n",
       "        0.0000, 0.0000, 0.0000, 0.0000, 0.0000, 0.0000, 0.0000, 0.0000, 0.0000,\n",
       "        0.0000, 0.0000, 0.0000, 0.8745, 0.8549, 0.3176, 0.0000, 0.0000, 0.0000,\n",
       "        0.0000, 0.0000, 0.0000, 0.0000, 0.0000, 0.2706, 0.3804, 0.0118, 0.0000,\n",
       "        0.0078, 0.0000, 0.0039, 0.0000, 0.0000, 0.0039, 0.0039, 0.0000, 0.0039,\n",
       "        0.0039, 0.0039, 0.0000, 0.0000, 0.4824, 0.5843, 0.0980, 0.0000, 0.0000,\n",
       "        0.0000])"
      ]
     },
     "execution_count": 25,
     "metadata": {},
     "output_type": "execute_result"
    }
   ],
   "source": [
    "flatten_model = nn.Flatten()  # Creating a flatten layer\n",
    "x = train_features_batch[10]  # get a single sample\n",
    "print(f\"before flattening: {x.shape}\")\n",
    "output = flatten_model(x)  # flatten the sample\n",
    "print(f\"after flattening: {output.shape}\")\n",
    "output.squeeze()  # remove extra dimensions"
   ]
  },
  {
   "cell_type": "code",
   "execution_count": 26,
   "id": "c2c07815",
   "metadata": {},
   "outputs": [
    {
     "data": {
      "text/plain": [
       "FashionMNISTModelV0(\n",
       "  (layer_stack): Sequential(\n",
       "    (0): Flatten(start_dim=1, end_dim=-1)\n",
       "    (1): Linear(in_features=784, out_features=10, bias=True)\n",
       "    (2): Linear(in_features=10, out_features=10, bias=True)\n",
       "  )\n",
       ")"
      ]
     },
     "execution_count": 26,
     "metadata": {},
     "output_type": "execute_result"
    }
   ],
   "source": [
    "class FashionMNISTModelV0(nn.Module):\n",
    "    def __init__(self, \n",
    "                 input_shape: int,\n",
    "                 hidden_units: int,\n",
    "                 output_shape: int):\n",
    "                 \n",
    "        super().__init__()\n",
    "        self.layer_stack = nn.Sequential(\n",
    "            nn.Flatten(),  # flatten inputs into vector\n",
    "            nn.Linear(input_shape, hidden_units),  # first hidden layer\n",
    "            nn.Linear(hidden_units, output_shape)  # output layer      \n",
    "            \n",
    "        )\n",
    "\n",
    "    def forward(self, x):\n",
    "        return self.layer_stack(x)\n",
    "    \n",
    "baselineModel = FashionMNISTModelV0(input_shape=28*28,\n",
    "                                    hidden_units=10,\n",
    "                                    output_shape=len(class_names))\n",
    "baselineModel.to(\"cpu\")\n"
   ]
  },
  {
   "cell_type": "code",
   "execution_count": 27,
   "id": "e5040d6a",
   "metadata": {},
   "outputs": [
    {
     "data": {
      "text/plain": [
       "tensor([[-0.0495,  0.5867,  0.7418,  0.0717, -0.1783, -0.5327, -0.0988,  0.2080,\n",
       "         -0.3145,  0.4249]], grad_fn=<AddmmBackward0>)"
      ]
     },
     "execution_count": 27,
     "metadata": {},
     "output_type": "execute_result"
    }
   ],
   "source": [
    "dummy_x = torch.rand([1, 1, 28, 28])\n",
    "dummy_x\n",
    "baselineModel(dummy_x)"
   ]
  },
  {
   "cell_type": "code",
   "execution_count": 16,
   "id": "c2119067",
   "metadata": {},
   "outputs": [],
   "source": [
    "loss_fn = nn.CrossEntropyLoss()  # for multi-class classification\n",
    "optimizer = torch.optim.SGD(params=baselineModel.parameters(),\n",
    "                            lr=0.1)"
   ]
  },
  {
   "cell_type": "code",
   "execution_count": 17,
   "id": "27f82aed",
   "metadata": {},
   "outputs": [],
   "source": [
    "def print_train_time(start: float,\n",
    "                     end: float,\n",
    "                     device: torch.device=None):\n",
    "    total_time = end - start\n",
    "    print(f\"Train time on {device}: {total_time:.3f} seconds\")\n",
    "    return total_time\n"
   ]
  },
  {
   "cell_type": "markdown",
   "id": "20219a33",
   "metadata": {},
   "source": [
    "### Creating a training loop and training a model on batches of data:\n",
    "1. Loop through epochs.\n",
    "2. Loop through training batches, perform training steps, calculate the train loss per batch.\n",
    "3. Loop through testing batches, perform testing steps, calculate the test loss per batch.\n",
    "4. Print out what's happening.\n",
    "5. Time it all.\n",
    "\n",
    "`Highlight:` the optimizer will update a model's parameters once per batch rather than once per epochs (whole 60k images)"
   ]
  },
  {
   "cell_type": "code",
   "execution_count": 28,
   "id": "ea21d024",
   "metadata": {},
   "outputs": [
    {
     "name": "stderr",
     "output_type": "stream",
     "text": [
      "  0%|          | 0/3 [00:00<?, ?it/s]"
     ]
    },
    {
     "name": "stdout",
     "output_type": "stream",
     "text": [
      "Epoch: 0\n",
      "---------\n",
      "Looked at 0/60000 samples\n",
      "Looked at 12800/60000 samples\n",
      "Looked at 25600/60000 samples\n",
      "Looked at 38400/60000 samples\n",
      "Looked at 51200/60000 samples\n"
     ]
    },
    {
     "name": "stderr",
     "output_type": "stream",
     "text": [
      " 33%|███▎      | 1/3 [00:05<00:11,  5.52s/it]"
     ]
    },
    {
     "name": "stdout",
     "output_type": "stream",
     "text": [
      "Epoch: 1\n",
      "---------\n",
      "Looked at 0/60000 samples\n",
      "Looked at 12800/60000 samples\n",
      "Looked at 25600/60000 samples\n",
      "Looked at 38400/60000 samples\n",
      "Looked at 51200/60000 samples\n"
     ]
    },
    {
     "name": "stderr",
     "output_type": "stream",
     "text": [
      " 67%|██████▋   | 2/3 [00:13<00:06,  6.78s/it]"
     ]
    },
    {
     "name": "stdout",
     "output_type": "stream",
     "text": [
      "Epoch: 2\n",
      "---------\n",
      "Looked at 0/60000 samples\n",
      "Looked at 12800/60000 samples\n",
      "Looked at 25600/60000 samples\n",
      "Looked at 38400/60000 samples\n",
      "Looked at 51200/60000 samples\n"
     ]
    },
    {
     "name": "stderr",
     "output_type": "stream",
     "text": [
      "100%|██████████| 3/3 [00:19<00:00,  6.51s/it]"
     ]
    },
    {
     "name": "stdout",
     "output_type": "stream",
     "text": [
      "Train time on cpu: 19.536 seconds\n"
     ]
    },
    {
     "name": "stderr",
     "output_type": "stream",
     "text": [
      "\n"
     ]
    },
    {
     "data": {
      "text/plain": [
       "19.535879937000573"
      ]
     },
     "execution_count": 28,
     "metadata": {},
     "output_type": "execute_result"
    }
   ],
   "source": [
    "## Training loop:\n",
    "torch.manual_seed(42)\n",
    "train_time_start_on_cpu = timer()\n",
    "\n",
    "\n",
    "epochs = 3  # TODO\n",
    "\n",
    "for epoch in tqdm(range(epochs)):\n",
    "    print(f\"Epoch: {epoch}\\n---------\")\n",
    "    train_loss = 0\n",
    "    # Model parameters are being updated after each batch:\n",
    "    for batch, (x, y) in enumerate(train_dataloader):\n",
    "        baselineModel.eval()\n",
    "        y_pred = baselineModel(x)  # forward pass\n",
    "\n",
    "        loss = loss_fn(y_pred, y)  # calculate loss\n",
    "        train_loss += loss  # accumulate loss\n",
    "\n",
    "        optimizer.zero_grad()  # optimizer zero grad\n",
    "        loss.backward()  # backpropagation\n",
    "        optimizer.step()  # gradient descent\n",
    "        \n",
    "        if batch % 400 == 0:\n",
    "            print(f\"Looked at {batch * len(x)}/{len(train_dataloader.dataset)} samples\")\n",
    "            \n",
    "    train_loss /= len(train_dataloader)\n",
    "\n",
    "    ## Testing loop:\n",
    "    test_loss, test_acc = 0, 0\n",
    "\n",
    "    # Put model in evaluation mode and disable gradient calculation:\n",
    "    baselineModel.eval()\n",
    "    with torch.inference_mode():\n",
    "        for x_test, y_test in test_dataloader:\n",
    "            test_pred = baselineModel(x_test)\n",
    "            test_loss += loss_fn(test_pred, y_test)\n",
    "            test_acc += accuracy_fn(y_true=y_test,\n",
    "                                    y_pred=test_pred.argmax(dim=1))    \n",
    "\n",
    "\n",
    "train_time_end_on_cpu = timer()\n",
    "print_train_time(train_time_start_on_cpu,\n",
    "                 train_time_end_on_cpu,\n",
    "                 device=str(next(baselineModel.parameters()).device))\n"
   ]
  },
  {
   "cell_type": "code",
   "execution_count": 30,
   "id": "15619124",
   "metadata": {},
   "outputs": [
    {
     "data": {
      "text/plain": [
       "'cpu'"
      ]
     },
     "execution_count": 30,
     "metadata": {},
     "output_type": "execute_result"
    }
   ],
   "source": [
    "str(next(baselineModel.parameters()).device)"
   ]
  },
  {
   "cell_type": "markdown",
   "id": "fefc3994",
   "metadata": {},
   "source": [
    "### Making predictions and get a result from baselineModel:"
   ]
  },
  {
   "cell_type": "code",
   "execution_count": 20,
   "id": "1bcac121",
   "metadata": {},
   "outputs": [
    {
     "name": "stderr",
     "output_type": "stream",
     "text": [
      "100%|██████████| 313/313 [00:01<00:00, 301.53it/s]\n"
     ]
    },
    {
     "data": {
      "text/plain": [
       "{'model_name': 'FashionMNISTModelV0',\n",
       " 'model_loss': 0.4770145118236542,\n",
       " 'model_acc': 83.48642172523962}"
      ]
     },
     "execution_count": 20,
     "metadata": {},
     "output_type": "execute_result"
    }
   ],
   "source": [
    "torch.manual_seed(42)\n",
    "def eval_model(model: torch.nn.Module,\n",
    "               data_loader: torch.utils.data.DataLoader,\n",
    "               loss_fn: torch.nn.Module,\n",
    "               accuracy_fn,\n",
    "               device: torch.device=None):\n",
    "    \n",
    "    \"\"\" Return a dictionary containing the results of model predicting on data_loader.\"\"\"\n",
    "    loss, acc = 0, 0\n",
    "    model.eval()\n",
    "    with torch.inference_mode():\n",
    "        for x, y in tqdm(data_loader):\n",
    "            y_pred = baselineModel(x)\n",
    "\n",
    "            loss += loss_fn(y_pred, y)\n",
    "            acc += accuracy_fn(y_true=y,\n",
    "                               y_pred=y_pred.argmax(dim=1))\n",
    "            \n",
    "        loss /= len(data_loader)\n",
    "        acc /= len(data_loader)\n",
    "    \n",
    "    return {\"model_name\": model.__class__.__name__,\n",
    "            \"model_loss\": loss.item(),\n",
    "            \"model_acc\": acc}\n",
    "\n",
    "model_results = eval_model(model=baselineModel,\n",
    "                           data_loader=test_dataloader,\n",
    "                           loss_fn=loss_fn,\n",
    "                           accuracy_fn=accuracy_fn,\n",
    "                           device=str(next(baselineModel.parameters()).device))\n",
    "\n",
    "model_results"
   ]
  },
  {
   "cell_type": "markdown",
   "id": "f7ea7972",
   "metadata": {},
   "source": [
    "### Setup device-agnostic code"
   ]
  },
  {
   "cell_type": "code",
   "execution_count": 21,
   "id": "08316dcc",
   "metadata": {},
   "outputs": [
    {
     "data": {
      "text/plain": [
       "True"
      ]
     },
     "execution_count": 21,
     "metadata": {},
     "output_type": "execute_result"
    }
   ],
   "source": [
    "torch.cuda.is_available()"
   ]
  },
  {
   "cell_type": "markdown",
   "id": "9f9153cb",
   "metadata": {},
   "source": [
    "# 4. Improving the model by adding <u>nonlinearity</u> and running on <u>GPU</u>:"
   ]
  },
  {
   "cell_type": "code",
   "execution_count": 31,
   "id": "f7162043",
   "metadata": {},
   "outputs": [
    {
     "data": {
      "text/plain": [
       "'cuda'"
      ]
     },
     "execution_count": 31,
     "metadata": {},
     "output_type": "execute_result"
    }
   ],
   "source": [
    "device = \"cuda\" if torch.cuda.is_available() else \"cpu\"\n",
    "device"
   ]
  },
  {
   "cell_type": "code",
   "execution_count": 32,
   "id": "14d520c3",
   "metadata": {},
   "outputs": [
    {
     "name": "stdout",
     "output_type": "stream",
     "text": [
      "torch: 2.6.0+cu124\n",
      "CUDA available: True\n",
      "CUDA version (wheel): 12.4\n",
      "GPU count: 1\n",
      "GPU 0: NVIDIA GeForce RTX 4070 Laptop GPU\n"
     ]
    }
   ],
   "source": [
    "import torch, sys\n",
    "print(\"torch:\", torch.__version__)\n",
    "print(\"CUDA available:\", torch.cuda.is_available())\n",
    "print(\"CUDA version (wheel):\", torch.version.cuda)\n",
    "print(\"GPU count:\", torch.cuda.device_count())\n",
    "if torch.cuda.is_available():\n",
    "    print(\"GPU 0:\", torch.cuda.get_device_name(0))"
   ]
  },
  {
   "cell_type": "code",
   "execution_count": 34,
   "id": "271b4489",
   "metadata": {},
   "outputs": [],
   "source": [
    "class FashionMNISTModelV1(nn.Module):\n",
    "    def __init__(self,\n",
    "                 input_shape: int,\n",
    "                 hidden_units: int,\n",
    "                 output_shape: int):\n",
    "                 \n",
    "        super().__init__()\n",
    "        self.layer_stack = nn.Sequential(\n",
    "            nn.Flatten(),\n",
    "            nn.Linear(input_shape, hidden_units),\n",
    "            nn.ReLU(),\n",
    "            nn.Linear(hidden_units, output_shape),\n",
    "            nn.ReLU()\n",
    "        )\n",
    "    def forward(self, x):\n",
    "        return self.layer_stack(x)"
   ]
  },
  {
   "cell_type": "code",
   "execution_count": 37,
   "id": "8f08d484",
   "metadata": {},
   "outputs": [
    {
     "data": {
      "text/plain": [
       "device(type='cuda', index=0)"
      ]
     },
     "execution_count": 37,
     "metadata": {},
     "output_type": "execute_result"
    }
   ],
   "source": [
    "## Create an instance of the model and send it to the target device (either GPU or CPU):\n",
    "torch.manual_seed(42)\n",
    "\n",
    "model_1 = FashionMNISTModelV1(input_shape=28*28,\n",
    "                              hidden_units=10,\n",
    "                              output_shape=len(class_names)).to(device)\n",
    "\n",
    "next(model_1.parameters()).device"
   ]
  },
  {
   "cell_type": "code",
   "execution_count": 38,
   "id": "cd618bd9",
   "metadata": {},
   "outputs": [],
   "source": [
    "loss_fn = nn.CrossEntropyLoss()\n",
    "optimizer = torch.optim.SGD(params=model_1.parameters(),\n",
    "                            lr=0.1)"
   ]
  },
  {
   "cell_type": "markdown",
   "id": "7ff0e4e8",
   "metadata": {},
   "source": [
    "### Functionizing trainin and testing/evaluation codes:"
   ]
  },
  {
   "cell_type": "code",
   "execution_count": null,
   "id": "7e7d6aa4",
   "metadata": {},
   "outputs": [],
   "source": []
  }
 ],
 "metadata": {
  "kernelspec": {
   "display_name": "dl_env",
   "language": "python",
   "name": "python3"
  },
  "language_info": {
   "codemirror_mode": {
    "name": "ipython",
    "version": 3
   },
   "file_extension": ".py",
   "mimetype": "text/x-python",
   "name": "python",
   "nbconvert_exporter": "python",
   "pygments_lexer": "ipython3",
   "version": "3.10.14"
  }
 },
 "nbformat": 4,
 "nbformat_minor": 5
}
