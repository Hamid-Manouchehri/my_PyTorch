{
 "cells": [
  {
   "cell_type": "code",
   "execution_count": 1,
   "id": "d147a727",
   "metadata": {},
   "outputs": [
    {
     "name": "stdout",
     "output_type": "stream",
     "text": [
      "Sun Oct 12 23:32:12 2025       \n",
      "+-----------------------------------------------------------------------------------------+\n",
      "| NVIDIA-SMI 550.163.01             Driver Version: 550.163.01     CUDA Version: 12.4     |\n",
      "|-----------------------------------------+------------------------+----------------------+\n",
      "| GPU  Name                 Persistence-M | Bus-Id          Disp.A | Volatile Uncorr. ECC |\n",
      "| Fan  Temp   Perf          Pwr:Usage/Cap |           Memory-Usage | GPU-Util  Compute M. |\n",
      "|                                         |                        |               MIG M. |\n",
      "|=========================================+========================+======================|\n",
      "|   0  NVIDIA GeForce RTX 4070 ...    Off |   00000000:01:00.0 Off |                  N/A |\n",
      "| N/A   43C    P3            588W /   55W |       9MiB /   8188MiB |      0%      Default |\n",
      "|                                         |                        |                  N/A |\n",
      "+-----------------------------------------+------------------------+----------------------+\n",
      "                                                                                         \n",
      "+-----------------------------------------------------------------------------------------+\n",
      "| Processes:                                                                              |\n",
      "|  GPU   GI   CI        PID   Type   Process name                              GPU Memory |\n",
      "|        ID   ID                                                               Usage      |\n",
      "|=========================================================================================|\n",
      "|    0   N/A  N/A      3708      G   /usr/lib/xorg/Xorg                              4MiB |\n",
      "+-----------------------------------------------------------------------------------------+\n"
     ]
    }
   ],
   "source": [
    "!nvidia-smi"
   ]
  },
  {
   "cell_type": "code",
   "execution_count": 4,
   "id": "f184a798",
   "metadata": {},
   "outputs": [
    {
     "name": "stdout",
     "output_type": "stream",
     "text": [
      "2.5.1\n"
     ]
    },
    {
     "name": "stderr",
     "output_type": "stream",
     "text": [
      "/home/hamid/miniconda3/envs/dl_env/lib/python3.10/site-packages/tqdm/auto.py:21: TqdmWarning: IProgress not found. Please update jupyter and ipywidgets. See https://ipywidgets.readthedocs.io/en/stable/user_install.html\n",
      "  from .autonotebook import tqdm as notebook_tqdm\n"
     ]
    }
   ],
   "source": [
    "import torch\n",
    "from torch import nn # All the building blocks for neural networks\n",
    "from pathlib import Path\n",
    "import numpy as np\n",
    "import matplotlib.pyplot as plt\n",
    "from tqdm.auto import tqdm\n",
    "\n",
    "print(torch.__version__)"
   ]
  },
  {
   "cell_type": "markdown",
   "id": "55702d06",
   "metadata": {},
   "source": [
    "### Setup device-agnostic code (running the code on any available accelerator):\n",
    "\n",
    "PyTorch is capable of running on both GPU or CPU"
   ]
  },
  {
   "cell_type": "code",
   "execution_count": 5,
   "id": "f0b30448",
   "metadata": {},
   "outputs": [
    {
     "name": "stderr",
     "output_type": "stream",
     "text": [
      "/home/hamid/miniconda3/envs/dl_env/lib/python3.10/site-packages/torch/cuda/__init__.py:129: UserWarning: CUDA initialization: CUDA unknown error - this may be due to an incorrectly set up environment, e.g. changing env variable CUDA_VISIBLE_DEVICES after program start. Setting the available devices to be zero. (Triggered internally at /opt/conda/conda-bld/pytorch_1729647352509/work/c10/cuda/CUDAFunctions.cpp:108.)\n",
      "  return torch._C._cuda_getDeviceCount() > 0\n"
     ]
    },
    {
     "data": {
      "text/plain": [
       "'cpu'"
      ]
     },
     "execution_count": 5,
     "metadata": {},
     "output_type": "execute_result"
    }
   ],
   "source": [
    "device = \"cuda\" if torch.cuda.is_available() else \"cpu\"\n",
    "torch.cuda.device_count()\n",
    "device"
   ]
  },
  {
   "cell_type": "markdown",
   "id": "893c51e0",
   "metadata": {},
   "source": [
    "### Scalar & Vector"
   ]
  },
  {
   "cell_type": "code",
   "execution_count": 50,
   "id": "cfff794a",
   "metadata": {},
   "outputs": [
    {
     "data": {
      "text/plain": [
       "tensor(5)"
      ]
     },
     "execution_count": 50,
     "metadata": {},
     "output_type": "execute_result"
    }
   ],
   "source": [
    "scalar = torch.tensor(5)\n",
    "scalar"
   ]
  },
  {
   "cell_type": "code",
   "execution_count": 51,
   "id": "76b7ad77",
   "metadata": {},
   "outputs": [
    {
     "data": {
      "text/plain": [
       "0"
      ]
     },
     "execution_count": 51,
     "metadata": {},
     "output_type": "execute_result"
    }
   ],
   "source": [
    "scalar.ndim"
   ]
  },
  {
   "cell_type": "code",
   "execution_count": 52,
   "id": "be9e31d6",
   "metadata": {},
   "outputs": [
    {
     "data": {
      "text/plain": [
       "tensor([1, 3])"
      ]
     },
     "execution_count": 52,
     "metadata": {},
     "output_type": "execute_result"
    }
   ],
   "source": [
    "vector = torch.tensor([1,3])\n",
    "vector"
   ]
  },
  {
   "cell_type": "code",
   "execution_count": 53,
   "id": "7c2c7e68",
   "metadata": {},
   "outputs": [
    {
     "data": {
      "text/plain": [
       "1"
      ]
     },
     "execution_count": 53,
     "metadata": {},
     "output_type": "execute_result"
    }
   ],
   "source": [
    "vector.ndim"
   ]
  },
  {
   "cell_type": "code",
   "execution_count": 54,
   "id": "9175b51b",
   "metadata": {},
   "outputs": [
    {
     "data": {
      "text/plain": [
       "torch.Size([2])"
      ]
     },
     "execution_count": 54,
     "metadata": {},
     "output_type": "execute_result"
    }
   ],
   "source": [
    "vector.shape"
   ]
  },
  {
   "cell_type": "markdown",
   "id": "13510354",
   "metadata": {},
   "source": [
    "### Matrix"
   ]
  },
  {
   "cell_type": "code",
   "execution_count": 55,
   "id": "6404d07f",
   "metadata": {},
   "outputs": [
    {
     "data": {
      "text/plain": [
       "torch.Size([3, 2])"
      ]
     },
     "execution_count": 55,
     "metadata": {},
     "output_type": "execute_result"
    }
   ],
   "source": [
    "MAT = torch.tensor([[1, 2],[3, 3], [3,4]])\n",
    "MAT.ndim\n",
    "MAT.shape"
   ]
  },
  {
   "cell_type": "markdown",
   "id": "c6784813",
   "metadata": {},
   "source": [
    "### Tensor"
   ]
  },
  {
   "cell_type": "code",
   "execution_count": 56,
   "id": "cf8631a5",
   "metadata": {},
   "outputs": [
    {
     "data": {
      "text/plain": [
       "torch.float32"
      ]
     },
     "execution_count": 56,
     "metadata": {},
     "output_type": "execute_result"
    }
   ],
   "source": [
    "TEN = torch.tensor([[[1,2,3],\n",
    "                     [2,3,3],\n",
    "                     [1,1,1],\n",
    "                     [10,10,10]],\n",
    "                    [[2,2,2],\n",
    "                     [1,1,1],\n",
    "                     [10.,11,11],\n",
    "                     [13,13,13]]])\n",
    "TEN.ndim\n",
    "TEN.size\n",
    "TEN.shape\n",
    "TEN.dim\n",
    "TEN.dtype"
   ]
  },
  {
   "cell_type": "markdown",
   "id": "8612c6dd",
   "metadata": {},
   "source": [
    "### Random Tensor"
   ]
  },
  {
   "cell_type": "code",
   "execution_count": 57,
   "id": "59c95983",
   "metadata": {},
   "outputs": [
    {
     "name": "stdout",
     "output_type": "stream",
     "text": [
      "tensor([[[[0.3904],\n",
      "          [0.6009],\n",
      "          [0.2566]],\n",
      "\n",
      "         [[0.7936],\n",
      "          [0.9408],\n",
      "          [0.1332]]],\n",
      "\n",
      "\n",
      "        [[[0.9346],\n",
      "          [0.5936],\n",
      "          [0.8694]],\n",
      "\n",
      "         [[0.5677],\n",
      "          [0.7411],\n",
      "          [0.4294]]],\n",
      "\n",
      "\n",
      "        [[[0.8854],\n",
      "          [0.5739],\n",
      "          [0.2666]],\n",
      "\n",
      "         [[0.6274],\n",
      "          [0.2696],\n",
      "          [0.4414]]],\n",
      "\n",
      "\n",
      "        [[[0.2969],\n",
      "          [0.8317],\n",
      "          [0.1053]],\n",
      "\n",
      "         [[0.2695],\n",
      "          [0.3588],\n",
      "          [0.1994]]]])\n"
     ]
    },
    {
     "data": {
      "text/plain": [
       "(4, torch.Size([4, 2, 3, 1]))"
      ]
     },
     "execution_count": 57,
     "metadata": {},
     "output_type": "execute_result"
    }
   ],
   "source": [
    "random_ten = torch.rand(size=(4,2,3,1))\n",
    "print(random_ten)\n",
    "random_ten.ndim, random_ten.shape"
   ]
  },
  {
   "cell_type": "code",
   "execution_count": 58,
   "id": "30da1bb3",
   "metadata": {},
   "outputs": [
    {
     "name": "stdout",
     "output_type": "stream",
     "text": [
      "tensor([[[1., 1., 1., 1., 1., 1., 1., 1., 1., 1.],\n",
      "         [1., 1., 1., 1., 1., 1., 1., 1., 1., 1.],\n",
      "         [1., 1., 1., 1., 1., 1., 1., 1., 1., 1.]],\n",
      "\n",
      "        [[1., 1., 1., 1., 1., 1., 1., 1., 1., 1.],\n",
      "         [1., 1., 1., 1., 1., 1., 1., 1., 1., 1.],\n",
      "         [1., 1., 1., 1., 1., 1., 1., 1., 1., 1.]]])\n"
     ]
    }
   ],
   "source": [
    "zero_ten = torch.ones((2,3,10))\n",
    "print(zero_ten)"
   ]
  },
  {
   "cell_type": "markdown",
   "id": "dc050b79",
   "metadata": {},
   "source": [
    "### arange"
   ]
  },
  {
   "cell_type": "code",
   "execution_count": 59,
   "id": "5f29d48f",
   "metadata": {},
   "outputs": [
    {
     "data": {
      "text/plain": [
       "tensor([200, 200, 400], device='cuda:0')"
      ]
     },
     "execution_count": 59,
     "metadata": {},
     "output_type": "execute_result"
    }
   ],
   "source": [
    "torch.tensor([200, 200, 400], dtype=torch.long, device=\"cuda\")"
   ]
  },
  {
   "cell_type": "code",
   "execution_count": 60,
   "id": "955d0387",
   "metadata": {},
   "outputs": [
    {
     "name": "stdout",
     "output_type": "stream",
     "text": [
      "tensor([0, 1, 2, 3, 4, 5, 6, 7, 8, 9])\n",
      "tensor([0, 2, 4, 6, 8])\n"
     ]
    }
   ],
   "source": [
    "print(torch.arange(0,10))\n",
    "print(torch.arange(0,10,2))"
   ]
  },
  {
   "cell_type": "code",
   "execution_count": 61,
   "id": "5c3ca8b4",
   "metadata": {},
   "outputs": [
    {
     "data": {
      "text/plain": [
       "tensor([200, 200, 400], device='cuda:0')"
      ]
     },
     "execution_count": 61,
     "metadata": {},
     "output_type": "execute_result"
    }
   ],
   "source": [
    "torch.tensor([200,200,400],dtype=int,device=\"cpu\")\n",
    "torch.tensor([200,200,400],dtype=int,device=\"cuda\")"
   ]
  },
  {
   "cell_type": "code",
   "execution_count": 62,
   "id": "f2f888ad",
   "metadata": {},
   "outputs": [
    {
     "data": {
      "text/plain": [
       "device(type='cpu')"
      ]
     },
     "execution_count": 62,
     "metadata": {},
     "output_type": "execute_result"
    }
   ],
   "source": [
    "int_32_tensor = torch.tensor([1,2,3,4,5], device='cpu' ,dtype=torch.int32)\n",
    "float_16_tensor = torch.tensor([3,1,2,3,3], dtype=torch.float16)\n",
    "\n",
    "(int_32_tensor * float_16_tensor).device"
   ]
  },
  {
   "cell_type": "markdown",
   "id": "036ae00a",
   "metadata": {},
   "source": [
    "### Tensor Manipulation"
   ]
  },
  {
   "cell_type": "code",
   "execution_count": 63,
   "id": "cebbac81",
   "metadata": {},
   "outputs": [
    {
     "name": "stdout",
     "output_type": "stream",
     "text": [
      "tensor([[  1.0000,  22.0000],\n",
      "        [  2.3000,   1.0000],\n",
      "        [  2.3444, 300.0000]])\n",
      "original tensor: \n",
      "tensor([[  1.0000,   2.3000,   2.3444],\n",
      "        [ 22.0000,   1.0000, 300.0000]])\n",
      "\n",
      "addition: \n",
      "tensor([[ 11.2000,  12.5000,  12.5444],\n",
      "        [ 32.2000,  11.2000, 310.2000]])\n",
      "\n",
      "element-wise multiplication: \n",
      "tensor([[  2.0000,   4.6000,   4.6889],\n",
      "        [ 44.0000,   2.0000, 600.0000]])\n",
      "\n",
      "matrix multiplication (dot product): \n",
      "tensor([[  1.0000,   4.6000,   7.0333],\n",
      "        [ 22.0000,   1.0000, 900.0000]])\n",
      "\n",
      "matrix multiplication (dot product): \n",
      "tensor([[1.1786e+01, 7.2763e+02],\n",
      "        [7.2763e+02, 9.0485e+04]])\n",
      "\n",
      "matrix multiplication (dot product): \n",
      "tensor([[1.1786e+01, 7.2763e+02],\n",
      "        [7.2763e+02, 9.0485e+04]])\n",
      "\n"
     ]
    }
   ],
   "source": [
    "vec_tensor = torch.tensor([[1,2.3,2.1,3,10,0,1001,-2]], dtype=torch.int16, device=\"cpu\")\n",
    "mat_tensor_1 = torch.tensor([[1,2.3,2.34444], [22,1,300]], dtype=torch.float, device=\"cpu\")\n",
    "mat_tensor_2 = torch.tensor([[1,2,3], [1,1,3]], dtype=torch.float, device=\"cpu\")\n",
    "\n",
    "print(mat_tensor_1.T)\n",
    "print(f\"original tensor: \\n{mat_tensor_1}\\n\")\n",
    "print(f\"addition: \\n{mat_tensor_1 + 10.2}\\n\")\n",
    "print(f\"element-wise multiplication: \\n{mat_tensor_1 * 2}\\n\")\n",
    "print(f\"matrix multiplication (dot product): \\n{mat_tensor_1*mat_tensor_2}\\n\")\n",
    "print(f\"matrix multiplication (dot product): \\n{torch.matmul(mat_tensor_1,mat_tensor_1.T)}\\n\")\n",
    "print(f\"matrix multiplication (dot product): \\n{torch.mm(mat_tensor_1,mat_tensor_1.T)}\\n\")\n"
   ]
  },
  {
   "cell_type": "markdown",
   "id": "065480eb",
   "metadata": {},
   "source": [
    "### Tensor Aggregation (min, max, mean, sum and ...)"
   ]
  },
  {
   "cell_type": "code",
   "execution_count": 64,
   "id": "331342f4",
   "metadata": {},
   "outputs": [
    {
     "name": "stdout",
     "output_type": "stream",
     "text": [
      "some_tensor_1: \n",
      "tensor([[  1.0000,   2.3000,   2.3444],\n",
      "        [ 22.0000,   1.0000, 300.0000]])\n",
      "\n",
      "MIN: 1.0\n",
      "\n",
      "MAX: 300.0\n",
      "\n",
      "MEAN: 54.77407455444336\n",
      "\n",
      "ARGMIN: 0\n",
      "\n",
      "ARGMAX: 5\n",
      "\n"
     ]
    },
    {
     "data": {
      "text/plain": [
       "tensor(300.)"
      ]
     },
     "execution_count": 64,
     "metadata": {},
     "output_type": "execute_result"
    }
   ],
   "source": [
    "mat_tensor_1.dtype\n",
    "print(f\"some_tensor_1: \\n{mat_tensor_1}\\n\")\n",
    "print(f\"MIN: {mat_tensor_1.min()}\\n\")\n",
    "print(f\"MAX: {mat_tensor_1.max()}\\n\")\n",
    "print(f\"MEAN: {mat_tensor_1.mean()}\\n\")\n",
    "print(f\"ARGMIN: {mat_tensor_1.argmin()}\\n\")  # positional min\n",
    "print(f\"ARGMAX: {mat_tensor_1.argmax()}\\n\")  # positional max\n",
    "mat_tensor_1[1,2]"
   ]
  },
  {
   "cell_type": "markdown",
   "id": "5eea04e2",
   "metadata": {},
   "source": [
    "### Reshaping, Stacking, Squeezing, Unsqueesing tensors:"
   ]
  },
  {
   "cell_type": "code",
   "execution_count": 65,
   "id": "8765f198",
   "metadata": {},
   "outputs": [
    {
     "name": "stdout",
     "output_type": "stream",
     "text": [
      "vector: tensor([[   1,    2,    2,    3,   10,    0, 1001,   -2]], dtype=torch.int16) torch.Size([1, 8]) \n",
      "\n",
      "Reshaped vec_tensor: \n",
      "tensor([[   1,    2,    2,    3],\n",
      "        [  10,    0, 1001,   -2]], dtype=torch.int16) torch.Size([2, 4]) \n",
      "\n",
      "stacked vec_tensor: \n",
      "tensor([[[   1,    2,    2,    3,   10,    0, 1001,   -2]],\n",
      "\n",
      "        [[   1,    2,    2,    3,   10,    0, 1001,   -2]],\n",
      "\n",
      "        [[   1,    2,    2,    3,   10,    0, 1001,   -2]]], dtype=torch.int16) torch.Size([3, 1, 8]) \n",
      "\n",
      "stacked vec_tensor: \n",
      "tensor([[[   1,    2,    2,    3,   10,    0, 1001,   -2],\n",
      "         [   1,    2,    2,    3,   10,    0, 1001,   -2],\n",
      "         [   1,    2,    2,    3,   10,    0, 1001,   -2]]], dtype=torch.int16) torch.Size([1, 3, 8]) \n",
      "\n",
      "squeezed vec_tensor: \n",
      "tensor([   1,    2,    2,    3,   10,    0, 1001,   -2], dtype=torch.int16) torch.Size([8]) \n",
      "\n",
      "unsqueezed vec_tensor: \n",
      "tensor([[   1,    2,    2,    3,   10,    0, 1001,   -2]], dtype=torch.int16) torch.Size([1, 8]) \n",
      "\n",
      "permuted vec_tensor: \n",
      "tensor([[   1,   10],\n",
      "        [   2,    0],\n",
      "        [   2, 1001],\n",
      "        [   3,   -2]], dtype=torch.int16) torch.Size([4, 2]) \n",
      "\n"
     ]
    }
   ],
   "source": [
    "print(f\"vector: {vec_tensor}\", vec_tensor.shape,\"\\n\")\n",
    "reshaped_vec_tensor = vec_tensor.reshape(2,4)\n",
    "print(f\"Reshaped vec_tensor: \\n{reshaped_vec_tensor}\", reshaped_vec_tensor.shape, \"\\n\")\n",
    "\n",
    "reshaped_vec_tensor.view(4,2)  # view shares the same memory as reshaped_vec_tensor, lets say it is just a differet view of reshaped_vec_tensor.\n",
    "stacked_vec_tensor = torch.stack([vec_tensor, vec_tensor, vec_tensor], dim=0)  # vertical\n",
    "print(f\"stacked vec_tensor: \\n{stacked_vec_tensor}\", stacked_vec_tensor.shape, \"\\n\")\n",
    "\n",
    "stacked_vec_tensor = torch.stack([vec_tensor, vec_tensor, vec_tensor], dim=1)  # horizontal\n",
    "print(f\"stacked vec_tensor: \\n{stacked_vec_tensor}\", stacked_vec_tensor.shape, \"\\n\")\n",
    "\n",
    "squeezed_vec_tensor = vec_tensor.squeeze()  # removes all single dimensions from the target tensor\n",
    "print(f\"squeezed vec_tensor: \\n{squeezed_vec_tensor}\", squeezed_vec_tensor.shape, \"\\n\")\n",
    "\n",
    "unsqueezed_vec_tensor = squeezed_vec_tensor.unsqueeze(dim=0)  # adds a single dimension to the target tensor at a specific dim\n",
    "print(f\"unsqueezed vec_tensor: \\n{unsqueezed_vec_tensor}\", unsqueezed_vec_tensor.shape, \"\\n\")\n",
    "\n",
    "permuted_vec_tensor = reshaped_vec_tensor.permute(1,0)  # rearranges/swap the dimensions of a target tensor in a specified order (share same memory): second dim first, first dim come to second\n",
    "print(f\"permuted vec_tensor: \\n{permuted_vec_tensor}\", permuted_vec_tensor.shape, \"\\n\")"
   ]
  },
  {
   "cell_type": "markdown",
   "id": "6fafedc6",
   "metadata": {},
   "source": [
    "### Indexing (similar to Numpy)"
   ]
  },
  {
   "cell_type": "code",
   "execution_count": 66,
   "id": "e94e1138",
   "metadata": {},
   "outputs": [
    {
     "name": "stdout",
     "output_type": "stream",
     "text": [
      "mat_tensor_3: \n",
      "tensor([[[10, 11, 12],\n",
      "         [13, 14, 15],\n",
      "         [16, 17, 18]]]) torch.Size([1, 3, 3])\n",
      "tensor(18)\n",
      "tensor([12, 15, 18])\n",
      "tensor([16, 17, 18])\n",
      "tensor([16, 17, 18])\n"
     ]
    }
   ],
   "source": [
    "mat_tensor_3 = torch.arange(10,19).reshape(1,3,3)\n",
    "print(f\"mat_tensor_3: \\n{mat_tensor_3}\", mat_tensor_3.shape)\n",
    "print(mat_tensor_3[0,2,2])\n",
    "print(mat_tensor_3[0,:,2])\n",
    "print(mat_tensor_3[0,2,:])\n",
    "print(mat_tensor_3[0][2])"
   ]
  },
  {
   "cell_type": "markdown",
   "id": "8957f267",
   "metadata": {},
   "source": [
    "### Pytorch Tensors and Numpy"
   ]
  },
  {
   "cell_type": "code",
   "execution_count": 67,
   "id": "0750b1d8",
   "metadata": {},
   "outputs": [
    {
     "name": "stdout",
     "output_type": "stream",
     "text": [
      "[1 2 3 4 5 6 7 8 9] \n",
      " tensor([1, 2, 3, 4, 5, 6, 7, 8, 9])\n",
      "\n",
      "tensor([1, 2, 3, 4, 5, 6, 7, 8, 9])\n",
      "[1 2 3 4 5 6 7 8 9]\n"
     ]
    }
   ],
   "source": [
    "np_array = np.arange(1,10)\n",
    "torch_vec = torch.arange(1,10)\n",
    "print(np_array, \"\\n\", torch_vec)\n",
    "\n",
    "print()\n",
    "print(torch.from_numpy(np_array))  # convert numpy to tensor\n",
    "print(torch_vec.numpy())  # convert tensor to numpy"
   ]
  },
  {
   "cell_type": "markdown",
   "id": "e188f45c",
   "metadata": {},
   "source": [
    "### Reproducibility; taking out of random\n",
    "In short, how a Neural Network(NN) learns:\n",
    "\n",
    "`Start with a random number` -> `tensor operations` -> `update random numbers trying to make them \n",
    "a better representation of the data` -> `again` -> `again` -> ...\n",
    "\n",
    "To reduce randomness in NN, PyTorch introduced a concept called **random seed** which `flavors` the randomness. (makes the randomness reproducible)"
   ]
  },
  {
   "cell_type": "code",
   "execution_count": 68,
   "id": "fe2ebcf3",
   "metadata": {},
   "outputs": [
    {
     "name": "stdout",
     "output_type": "stream",
     "text": [
      "rand_tensor_A: \n",
      "tensor([[[0.8823, 0.9150, 0.3829, 0.9593],\n",
      "         [0.3904, 0.6009, 0.2566, 0.7936]]])\n",
      "\n",
      "rand_tensor_A: \n",
      "tensor([[[0.8823, 0.9150, 0.3829, 0.9593],\n",
      "         [0.3904, 0.6009, 0.2566, 0.7936]]])\n",
      "\n",
      "tensor([[[True, True, True, True],\n",
      "         [True, True, True, True]]])\n"
     ]
    }
   ],
   "source": [
    "RANDOM_SEED = 42\n",
    "\n",
    "torch.manual_seed(RANDOM_SEED)\n",
    "rand_tensor_A = torch.rand(1,2,4)\n",
    "torch.manual_seed(RANDOM_SEED)\n",
    "rand_tensor_B = torch.rand(1,2,4)\n",
    "print(f\"rand_tensor_A: \\n{rand_tensor_A}\\n\")\n",
    "print(f\"rand_tensor_A: \\n{rand_tensor_B}\\n\")\n",
    "\n",
    "print(rand_tensor_A == rand_tensor_B)"
   ]
  },
  {
   "cell_type": "code",
   "execution_count": 69,
   "id": "c1efde7d",
   "metadata": {},
   "outputs": [
    {
     "data": {
      "text/plain": [
       "1"
      ]
     },
     "execution_count": 69,
     "metadata": {},
     "output_type": "execute_result"
    }
   ],
   "source": [
    "torch.cuda.is_available()\n",
    "torch.cuda.device_count()"
   ]
  },
  {
   "cell_type": "markdown",
   "id": "d1b8b746",
   "metadata": {},
   "source": [
    "## PyTorch Workflow\n",
    "\n",
    "Using linear regression formula to make a straight line with known parameters."
   ]
  },
  {
   "cell_type": "code",
   "execution_count": 70,
   "id": "da4ae9fb",
   "metadata": {},
   "outputs": [
    {
     "data": {
      "text/plain": [
       "(tensor([[0.0000],\n",
       "         [0.0200],\n",
       "         [0.0400],\n",
       "         [0.0600],\n",
       "         [0.0800],\n",
       "         [0.1000],\n",
       "         [0.1200],\n",
       "         [0.1400],\n",
       "         [0.1600],\n",
       "         [0.1800]]),\n",
       " tensor([[0.3000],\n",
       "         [0.3140],\n",
       "         [0.3280],\n",
       "         [0.3420],\n",
       "         [0.3560],\n",
       "         [0.3700],\n",
       "         [0.3840],\n",
       "         [0.3980],\n",
       "         [0.4120],\n",
       "         [0.4260]]))"
      ]
     },
     "execution_count": 70,
     "metadata": {},
     "output_type": "execute_result"
    }
   ],
   "source": [
    "weight = 0.7\n",
    "bias = 0.3\n",
    "\n",
    "start  = 0\n",
    "end = 1 \n",
    "step = 0.02\n",
    "x = torch.arange(start, end, step).unsqueeze(dim=1)  # feature (input)\n",
    "y = weight * x + bias  # label (ouputs)\n",
    "\n",
    "x[:10], y[:10]  "
   ]
  },
  {
   "cell_type": "markdown",
   "id": "1627ba89",
   "metadata": {},
   "source": [
    "#### Splitting data into training and test sets"
   ]
  },
  {
   "cell_type": "code",
   "execution_count": 71,
   "id": "281ac2f6",
   "metadata": {},
   "outputs": [
    {
     "data": {
      "text/plain": [
       "(50, 50)"
      ]
     },
     "execution_count": 71,
     "metadata": {},
     "output_type": "execute_result"
    }
   ],
   "source": [
    "len(x), len(y)"
   ]
  },
  {
   "cell_type": "markdown",
   "id": "8b8ab695",
   "metadata": {},
   "source": [
    "### Generating some data (training and testing)"
   ]
  },
  {
   "cell_type": "code",
   "execution_count": 72,
   "id": "ca188085",
   "metadata": {},
   "outputs": [
    {
     "data": {
      "text/plain": [
       "(40, 40, 10, 10)"
      ]
     },
     "execution_count": 72,
     "metadata": {},
     "output_type": "execute_result"
    }
   ],
   "source": [
    "train_set = int(0.8 * len(x))\n",
    "x_train, y_train = x[:train_set], y[:train_set]\n",
    "x_test, y_test = x[train_set:], y[train_set:]\n",
    "\n",
    "len(x_train), len(y_train), len(x_test), len(y_test)    "
   ]
  },
  {
   "cell_type": "markdown",
   "id": "3bf423d9",
   "metadata": {},
   "source": [
    "### Visualize, visualize, visualize"
   ]
  },
  {
   "cell_type": "code",
   "execution_count": 73,
   "id": "c2b90d97",
   "metadata": {},
   "outputs": [],
   "source": [
    "def plot_predictions(train_data=x_train, train_labels=y_train, test_data=x_test, test_labels=y_test, predictions=None):\n",
    "    \"\"\"\n",
    "    Plots training data, test data and compares predictions.\n",
    "    \"\"\"\n",
    "    plt.figure(figsize=(10,7))\n",
    "    plt.scatter(train_data, train_labels, c = \"b\", s = 4, label=\"Training data\")\n",
    "    plt.scatter(test_data, test_labels, c = \"g\", s = 4, label=\"Testing data\")\n",
    "    \n",
    "    if predictions is not None:\n",
    "        plt.scatter(test_data, predictions, c = \"r\", s = 4, label=\"Predictions\")\n",
    "    \n",
    "    plt.legend(prop={\"size\":14})"
   ]
  },
  {
   "cell_type": "code",
   "execution_count": 74,
   "id": "a00f3142",
   "metadata": {},
   "outputs": [
    {
     "data": {
      "image/png": "[encoded data removed]",
      "text/plain": [
       "<Figure size 1000x700 with 1 Axes>"
      ]
     },
     "metadata": {},
     "output_type": "display_data"
    }
   ],
   "source": [
    "plot_predictions()"
   ]
  },
  {
   "cell_type": "markdown",
   "id": "ad6c4fda",
   "metadata": {},
   "source": [
    "# Building our first PyTorch __model__\n",
    "\n",
    "Creating a linear regression model class: \n",
    "\n",
    "#1: Linear regression model with nn.Parameters\n",
    "\n",
    "#2: Linear regression model with nn.Linear "
   ]
  },
  {
   "cell_type": "code",
   "execution_count": 75,
   "id": "c0c018af",
   "metadata": {},
   "outputs": [],
   "source": [
    "# 1\n",
    "class LinearRegresssionModel(nn.Module):  # nn.Module is the base class for all neural network modules in PyTorch (containts all the build blocks for NN)\n",
    "    def __init__(self):  # constructor\n",
    "        super().__init__()\n",
    "        # Our model starts with random weights and bias:\n",
    "        self.weights = nn.Parameter(torch.randn(1, dtype=torch.float), requires_grad=True)\n",
    "        self.bias = nn.Parameter(torch.randn(1, dtype=torch.float), requires_grad=True)\n",
    "        \n",
    "    # Forward method to define the computation in the model (basically the model itself).\n",
    "    def forward(self, x: torch.Tensor) -> torch.Tensor:  # x is input\n",
    "        return self.weights * x + self.bias  # Linear regression equation"
   ]
  },
  {
   "cell_type": "code",
   "execution_count": 76,
   "id": "04264a2a",
   "metadata": {},
   "outputs": [],
   "source": [
    "# 2\n",
    "class LinearRegresssionModel_v2(nn.Module):  # nn.Module is the base class for all neural network modules in PyTorch (containts all the build blocks for NN)\n",
    "    def __init__(self):  # constructor\n",
    "        super().__init__()\n",
    "        # Our model starts with a linear layer:\n",
    "        self.linear_layer = nn.Linear(in_features=1, out_features=1)  # nn.Linear (common pre-defined/pre-built layer) with input and output of size 1, a built-in layer that applies a linear transformation to the incoming data: y = xA^T + b   \n",
    "        \n",
    "    # Forward method to define the computation in the model.\n",
    "    def forward(self, x: torch.Tensor) -> torch.Tensor:  # x is input\n",
    "        return self.linear_layer(x)  # Linear regression equation   "
   ]
  },
  {
   "cell_type": "markdown",
   "id": "b12970cb",
   "metadata": {},
   "source": [
    "### PyTorch model building essentials:\n",
    "\n",
    "* __torch.nn__ -> Contains all of the buildings for computatinal graphs (NN)\n",
    "* __torch.nn.Parameter__ -> What parameters should our model try and learn\n",
    "* __torch.nn.Module__ -> The base class for all NN modules, if you subclass it you should overwrite forward()\n",
    "* __torch.optim__ -> this where the optimizer in PyTorch live, they will help with gradient descent\n",
    "* __def forward()__ -> All nn.Module subclasses require you to overwrite forward(), this method defines what happens in the forward computation."
   ]
  },
  {
   "cell_type": "markdown",
   "id": "941dc410",
   "metadata": {},
   "source": [
    "### Checking the contents of our PyTorch model:\n",
    "\n",
    "Using `.parameters()`"
   ]
  },
  {
   "cell_type": "code",
   "execution_count": 77,
   "id": "5af9827c",
   "metadata": {},
   "outputs": [
    {
     "data": {
      "text/plain": [
       "[Parameter containing:\n",
       " tensor([0.3367], requires_grad=True),\n",
       " Parameter containing:\n",
       " tensor([0.1288], requires_grad=True)]"
      ]
     },
     "execution_count": 77,
     "metadata": {},
     "output_type": "execute_result"
    }
   ],
   "source": [
    "torch.manual_seed(42)  # set the random seed for reproducibility\n",
    "model_0 = LinearRegresssionModel()\n",
    "list(model_0.parameters())  # Check out the parameters in our model"
   ]
  },
  {
   "cell_type": "code",
   "execution_count": 78,
   "id": "df500769",
   "metadata": {},
   "outputs": [
    {
     "data": {
      "text/plain": [
       "OrderedDict([('weights', tensor([0.3367])), ('bias', tensor([0.1288]))])"
      ]
     },
     "execution_count": 78,
     "metadata": {},
     "output_type": "execute_result"
    }
   ],
   "source": [
    "model_0.state_dict()  # list named parameters with their values"
   ]
  },
  {
   "cell_type": "code",
   "execution_count": 79,
   "id": "0215bd98",
   "metadata": {},
   "outputs": [
    {
     "data": {
      "text/plain": [
       "(LinearRegresssionModel_v2(\n",
       "   (linear_layer): Linear(in_features=1, out_features=1, bias=True)\n",
       " ),\n",
       " OrderedDict([('linear_layer.weight', tensor([[0.7645]])),\n",
       "              ('linear_layer.bias', tensor([0.8300]))]))"
      ]
     },
     "execution_count": 79,
     "metadata": {},
     "output_type": "execute_result"
    }
   ],
   "source": [
    "torch.manual_seed(42)  # set the random seed for reproducibility\n",
    "model_1 = LinearRegresssionModel_v2()\n",
    "model_1, model_1.state_dict()  # list named parameters with their values"
   ]
  },
  {
   "cell_type": "markdown",
   "id": "312e65a1",
   "metadata": {},
   "source": [
    "### Making predictions using `torch.inference_mode()` (Validation / Test)\n",
    "\n",
    "How well the model predicts `y_test` from `x_test`"
   ]
  },
  {
   "cell_type": "code",
   "execution_count": 80,
   "id": "4899a674",
   "metadata": {},
   "outputs": [
    {
     "data": {
      "text/plain": [
       "tensor([[0.3982],\n",
       "        [0.4049],\n",
       "        [0.4116],\n",
       "        [0.4184],\n",
       "        [0.4251],\n",
       "        [0.4318],\n",
       "        [0.4386],\n",
       "        [0.4453],\n",
       "        [0.4520],\n",
       "        [0.4588]])"
      ]
     },
     "execution_count": 80,
     "metadata": {},
     "output_type": "execute_result"
    }
   ],
   "source": [
    "# Make predictions with model (good practice to make predictions under inference mode):\n",
    "with torch.inference_mode():  # No graph building (NN), no gradient tracking, no .backward(), intended for inference only.\n",
    "    untrained_y_pred = model_0(x_test)  # forward pass\n",
    "\n",
    "untrained_y_pred\n",
    "\n",
    "# with torch.no_grad():  # another way to turn off gradients, however inference_mode is prefered (faster)\n",
    "#     y_pred = model_0(x_test)\n",
    "#     print(\"no grad:\")\n",
    "#     print(y_pred)\n",
    "\n"
   ]
  },
  {
   "cell_type": "code",
   "execution_count": 81,
   "id": "b4f99fa7",
   "metadata": {},
   "outputs": [
    {
     "data": {
      "image/png": "[encoded data removed]",
      "text/plain": [
       "<Figure size 1000x700 with 1 Axes>"
      ]
     },
     "metadata": {},
     "output_type": "display_data"
    }
   ],
   "source": [
    "plot_predictions(predictions=untrained_y_pred)"
   ]
  },
  {
   "cell_type": "markdown",
   "id": "3383cd16",
   "metadata": {},
   "source": [
    "The whole idea of trainig is for a model to move from some uknown parameters (most often random) to some known parameters.\n",
    "\n",
    "#### Solution:\n",
    "\n",
    "__Loss function__: One way to measure how poor or how wrong our model predicts vs. the ideal outputs, is loss funtion / cost function / criterion\n",
    "\n",
    "__Optimizer__: Takes into account the loss of a model and adjusts the model's parameters (e.g. weights and bias) to improve the loss function.\n",
    "\n",
    "* __params__: the model parameters you'd like to optimize, i.e. params=model_0.parameters()\n",
    "* __lr__ (learning rate): a hyperparameter that defines how big/small the optimizer changes the parameters with each step."
   ]
  },
  {
   "cell_type": "code",
   "execution_count": 82,
   "id": "226253b0",
   "metadata": {},
   "outputs": [
    {
     "data": {
      "text/plain": [
       "[Parameter containing:\n",
       " tensor([0.3367], requires_grad=True),\n",
       " Parameter containing:\n",
       " tensor([0.1288], requires_grad=True)]"
      ]
     },
     "execution_count": 82,
     "metadata": {},
     "output_type": "execute_result"
    }
   ],
   "source": [
    "list(model_0.parameters())"
   ]
  },
  {
   "cell_type": "markdown",
   "id": "0aa0f358",
   "metadata": {},
   "source": [
    "### Setting up a __Loss Function__ and __Optimizer__:"
   ]
  },
  {
   "cell_type": "code",
   "execution_count": 137,
   "id": "0ae27546",
   "metadata": {},
   "outputs": [],
   "source": [
    "### Creating instances of loss function and optimizer:\n",
    "\n",
    "loss_fun = nn.L1Loss()  # mean absolute error (MAE), average over all training data.\n",
    "optimizer = torch.optim.SGD(params=model_0.parameters(), lr=0.01)  # Stochastic Gradient Descent"
   ]
  },
  {
   "cell_type": "markdown",
   "id": "abcd664a",
   "metadata": {},
   "source": [
    "# Building a __training__ & __testing__ loop in PyTorch:\n",
    "1) __Loop__ through the data\n",
    "2) __Forward pass__ -> data moving through the model (NN)\n",
    "3) __Loss calculation__ -> Comparing the forward pass to ground truth labels\n",
    "4) __Optimizer__\n",
    "5) __Loss backward__ -> backpropagation\n",
    "6) __Optimizer step__ -> gradient descent"
   ]
  },
  {
   "cell_type": "code",
   "execution_count": 114,
   "id": "b471fced",
   "metadata": {},
   "outputs": [
    {
     "name": "stdout",
     "output_type": "stream",
     "text": [
      "true weight: 0.7, bias: 0.3 \n",
      "\n",
      "Epoch: 0 | Train loss: 0.00893 | Weight: 0.699 | Bias: 0.309 | Test loss: 0.008\n",
      "Epoch: 1 | Train loss: 0.00893 | Weight: 0.699 | Bias: 0.309 | Test loss: 0.008\n",
      "Epoch: 2 | Train loss: 0.00893 | Weight: 0.699 | Bias: 0.309 | Test loss: 0.008\n",
      "Epoch: 3 | Train loss: 0.00893 | Weight: 0.699 | Bias: 0.309 | Test loss: 0.008\n",
      "Epoch: 4 | Train loss: 0.00893 | Weight: 0.699 | Bias: 0.309 | Test loss: 0.008\n",
      "Epoch: 5 | Train loss: 0.00893 | Weight: 0.699 | Bias: 0.309 | Test loss: 0.008\n",
      "Epoch: 6 | Train loss: 0.00893 | Weight: 0.699 | Bias: 0.309 | Test loss: 0.008\n",
      "Epoch: 7 | Train loss: 0.00893 | Weight: 0.699 | Bias: 0.309 | Test loss: 0.008\n",
      "Epoch: 8 | Train loss: 0.00893 | Weight: 0.699 | Bias: 0.309 | Test loss: 0.008\n",
      "Epoch: 9 | Train loss: 0.00893 | Weight: 0.699 | Bias: 0.309 | Test loss: 0.008\n",
      "Epoch: 10 | Train loss: 0.00893 | Weight: 0.699 | Bias: 0.309 | Test loss: 0.008\n",
      "Epoch: 11 | Train loss: 0.00893 | Weight: 0.699 | Bias: 0.309 | Test loss: 0.008\n",
      "Epoch: 12 | Train loss: 0.00893 | Weight: 0.699 | Bias: 0.309 | Test loss: 0.008\n",
      "Epoch: 13 | Train loss: 0.00893 | Weight: 0.699 | Bias: 0.309 | Test loss: 0.008\n",
      "Epoch: 14 | Train loss: 0.00893 | Weight: 0.699 | Bias: 0.309 | Test loss: 0.008\n",
      "Epoch: 15 | Train loss: 0.00893 | Weight: 0.699 | Bias: 0.309 | Test loss: 0.008\n",
      "Epoch: 16 | Train loss: 0.00893 | Weight: 0.699 | Bias: 0.309 | Test loss: 0.008\n",
      "Epoch: 17 | Train loss: 0.00893 | Weight: 0.699 | Bias: 0.309 | Test loss: 0.008\n",
      "Epoch: 18 | Train loss: 0.00893 | Weight: 0.699 | Bias: 0.309 | Test loss: 0.008\n",
      "Epoch: 19 | Train loss: 0.00893 | Weight: 0.699 | Bias: 0.309 | Test loss: 0.008\n",
      "Epoch: 20 | Train loss: 0.00893 | Weight: 0.699 | Bias: 0.309 | Test loss: 0.008\n",
      "Epoch: 21 | Train loss: 0.00893 | Weight: 0.699 | Bias: 0.309 | Test loss: 0.008\n",
      "Epoch: 22 | Train loss: 0.00893 | Weight: 0.699 | Bias: 0.309 | Test loss: 0.008\n",
      "Epoch: 23 | Train loss: 0.00893 | Weight: 0.699 | Bias: 0.309 | Test loss: 0.008\n",
      "Epoch: 24 | Train loss: 0.00893 | Weight: 0.699 | Bias: 0.309 | Test loss: 0.008\n",
      "Epoch: 25 | Train loss: 0.00893 | Weight: 0.699 | Bias: 0.309 | Test loss: 0.008\n",
      "Epoch: 26 | Train loss: 0.00893 | Weight: 0.699 | Bias: 0.309 | Test loss: 0.008\n",
      "Epoch: 27 | Train loss: 0.00893 | Weight: 0.699 | Bias: 0.309 | Test loss: 0.008\n",
      "Epoch: 28 | Train loss: 0.00893 | Weight: 0.699 | Bias: 0.309 | Test loss: 0.008\n",
      "Epoch: 29 | Train loss: 0.00893 | Weight: 0.699 | Bias: 0.309 | Test loss: 0.008\n",
      "Epoch: 30 | Train loss: 0.00893 | Weight: 0.699 | Bias: 0.309 | Test loss: 0.008\n",
      "Epoch: 31 | Train loss: 0.00893 | Weight: 0.699 | Bias: 0.309 | Test loss: 0.008\n",
      "Epoch: 32 | Train loss: 0.00893 | Weight: 0.699 | Bias: 0.309 | Test loss: 0.008\n",
      "Epoch: 33 | Train loss: 0.00893 | Weight: 0.699 | Bias: 0.309 | Test loss: 0.008\n",
      "Epoch: 34 | Train loss: 0.00893 | Weight: 0.699 | Bias: 0.309 | Test loss: 0.008\n",
      "Epoch: 35 | Train loss: 0.00893 | Weight: 0.699 | Bias: 0.309 | Test loss: 0.008\n",
      "Epoch: 36 | Train loss: 0.00893 | Weight: 0.699 | Bias: 0.309 | Test loss: 0.008\n",
      "Epoch: 37 | Train loss: 0.00893 | Weight: 0.699 | Bias: 0.309 | Test loss: 0.008\n",
      "Epoch: 38 | Train loss: 0.00893 | Weight: 0.699 | Bias: 0.309 | Test loss: 0.008\n",
      "Epoch: 39 | Train loss: 0.00893 | Weight: 0.699 | Bias: 0.309 | Test loss: 0.008\n",
      "Epoch: 40 | Train loss: 0.00893 | Weight: 0.699 | Bias: 0.309 | Test loss: 0.008\n",
      "Epoch: 41 | Train loss: 0.00893 | Weight: 0.699 | Bias: 0.309 | Test loss: 0.008\n",
      "Epoch: 42 | Train loss: 0.00893 | Weight: 0.699 | Bias: 0.309 | Test loss: 0.008\n",
      "Epoch: 43 | Train loss: 0.00893 | Weight: 0.699 | Bias: 0.309 | Test loss: 0.008\n",
      "Epoch: 44 | Train loss: 0.00893 | Weight: 0.699 | Bias: 0.309 | Test loss: 0.008\n",
      "Epoch: 45 | Train loss: 0.00893 | Weight: 0.699 | Bias: 0.309 | Test loss: 0.008\n",
      "Epoch: 46 | Train loss: 0.00893 | Weight: 0.699 | Bias: 0.309 | Test loss: 0.008\n",
      "Epoch: 47 | Train loss: 0.00893 | Weight: 0.699 | Bias: 0.309 | Test loss: 0.008\n",
      "Epoch: 48 | Train loss: 0.00893 | Weight: 0.699 | Bias: 0.309 | Test loss: 0.008\n",
      "Epoch: 49 | Train loss: 0.00893 | Weight: 0.699 | Bias: 0.309 | Test loss: 0.008\n",
      "Epoch: 50 | Train loss: 0.00893 | Weight: 0.699 | Bias: 0.309 | Test loss: 0.008\n",
      "Epoch: 51 | Train loss: 0.00893 | Weight: 0.699 | Bias: 0.309 | Test loss: 0.008\n",
      "Epoch: 52 | Train loss: 0.00893 | Weight: 0.699 | Bias: 0.309 | Test loss: 0.008\n",
      "Epoch: 53 | Train loss: 0.00893 | Weight: 0.699 | Bias: 0.309 | Test loss: 0.008\n",
      "Epoch: 54 | Train loss: 0.00893 | Weight: 0.699 | Bias: 0.309 | Test loss: 0.008\n",
      "Epoch: 55 | Train loss: 0.00893 | Weight: 0.699 | Bias: 0.309 | Test loss: 0.008\n",
      "Epoch: 56 | Train loss: 0.00893 | Weight: 0.699 | Bias: 0.309 | Test loss: 0.008\n",
      "Epoch: 57 | Train loss: 0.00893 | Weight: 0.699 | Bias: 0.309 | Test loss: 0.008\n",
      "Epoch: 58 | Train loss: 0.00893 | Weight: 0.699 | Bias: 0.309 | Test loss: 0.008\n",
      "Epoch: 59 | Train loss: 0.00893 | Weight: 0.699 | Bias: 0.309 | Test loss: 0.008\n",
      "Epoch: 60 | Train loss: 0.00893 | Weight: 0.699 | Bias: 0.309 | Test loss: 0.008\n",
      "Epoch: 61 | Train loss: 0.00893 | Weight: 0.699 | Bias: 0.309 | Test loss: 0.008\n",
      "Epoch: 62 | Train loss: 0.00893 | Weight: 0.699 | Bias: 0.309 | Test loss: 0.008\n",
      "Epoch: 63 | Train loss: 0.00893 | Weight: 0.699 | Bias: 0.309 | Test loss: 0.008\n",
      "Epoch: 64 | Train loss: 0.00893 | Weight: 0.699 | Bias: 0.309 | Test loss: 0.008\n",
      "Epoch: 65 | Train loss: 0.00893 | Weight: 0.699 | Bias: 0.309 | Test loss: 0.008\n",
      "Epoch: 66 | Train loss: 0.00893 | Weight: 0.699 | Bias: 0.309 | Test loss: 0.008\n",
      "Epoch: 67 | Train loss: 0.00893 | Weight: 0.699 | Bias: 0.309 | Test loss: 0.008\n",
      "Epoch: 68 | Train loss: 0.00893 | Weight: 0.699 | Bias: 0.309 | Test loss: 0.008\n",
      "Epoch: 69 | Train loss: 0.00893 | Weight: 0.699 | Bias: 0.309 | Test loss: 0.008\n",
      "Epoch: 70 | Train loss: 0.00893 | Weight: 0.699 | Bias: 0.309 | Test loss: 0.008\n",
      "Epoch: 71 | Train loss: 0.00893 | Weight: 0.699 | Bias: 0.309 | Test loss: 0.008\n",
      "Epoch: 72 | Train loss: 0.00893 | Weight: 0.699 | Bias: 0.309 | Test loss: 0.008\n",
      "Epoch: 73 | Train loss: 0.00893 | Weight: 0.699 | Bias: 0.309 | Test loss: 0.008\n",
      "Epoch: 74 | Train loss: 0.00893 | Weight: 0.699 | Bias: 0.309 | Test loss: 0.008\n",
      "Epoch: 75 | Train loss: 0.00893 | Weight: 0.699 | Bias: 0.309 | Test loss: 0.008\n",
      "Epoch: 76 | Train loss: 0.00893 | Weight: 0.699 | Bias: 0.309 | Test loss: 0.008\n",
      "Epoch: 77 | Train loss: 0.00893 | Weight: 0.699 | Bias: 0.309 | Test loss: 0.008\n",
      "Epoch: 78 | Train loss: 0.00893 | Weight: 0.699 | Bias: 0.309 | Test loss: 0.008\n",
      "Epoch: 79 | Train loss: 0.00893 | Weight: 0.699 | Bias: 0.309 | Test loss: 0.008\n",
      "Epoch: 80 | Train loss: 0.00893 | Weight: 0.699 | Bias: 0.309 | Test loss: 0.008\n",
      "Epoch: 81 | Train loss: 0.00893 | Weight: 0.699 | Bias: 0.309 | Test loss: 0.008\n",
      "Epoch: 82 | Train loss: 0.00893 | Weight: 0.699 | Bias: 0.309 | Test loss: 0.008\n",
      "Epoch: 83 | Train loss: 0.00893 | Weight: 0.699 | Bias: 0.309 | Test loss: 0.008\n",
      "Epoch: 84 | Train loss: 0.00893 | Weight: 0.699 | Bias: 0.309 | Test loss: 0.008\n",
      "Epoch: 85 | Train loss: 0.00893 | Weight: 0.699 | Bias: 0.309 | Test loss: 0.008\n",
      "Epoch: 86 | Train loss: 0.00893 | Weight: 0.699 | Bias: 0.309 | Test loss: 0.008\n",
      "Epoch: 87 | Train loss: 0.00893 | Weight: 0.699 | Bias: 0.309 | Test loss: 0.008\n",
      "Epoch: 88 | Train loss: 0.00893 | Weight: 0.699 | Bias: 0.309 | Test loss: 0.008\n",
      "Epoch: 89 | Train loss: 0.00893 | Weight: 0.699 | Bias: 0.309 | Test loss: 0.008\n",
      "Epoch: 90 | Train loss: 0.00893 | Weight: 0.699 | Bias: 0.309 | Test loss: 0.008\n",
      "Epoch: 91 | Train loss: 0.00893 | Weight: 0.699 | Bias: 0.309 | Test loss: 0.008\n",
      "Epoch: 92 | Train loss: 0.00893 | Weight: 0.699 | Bias: 0.309 | Test loss: 0.008\n",
      "Epoch: 93 | Train loss: 0.00893 | Weight: 0.699 | Bias: 0.309 | Test loss: 0.008\n",
      "Epoch: 94 | Train loss: 0.00893 | Weight: 0.699 | Bias: 0.309 | Test loss: 0.008\n",
      "Epoch: 95 | Train loss: 0.00893 | Weight: 0.699 | Bias: 0.309 | Test loss: 0.008\n",
      "Epoch: 96 | Train loss: 0.00893 | Weight: 0.699 | Bias: 0.309 | Test loss: 0.008\n",
      "Epoch: 97 | Train loss: 0.00893 | Weight: 0.699 | Bias: 0.309 | Test loss: 0.008\n",
      "Epoch: 98 | Train loss: 0.00893 | Weight: 0.699 | Bias: 0.309 | Test loss: 0.008\n",
      "Epoch: 99 | Train loss: 0.00893 | Weight: 0.699 | Bias: 0.309 | Test loss: 0.008\n",
      "Epoch: 100 | Train loss: 0.00893 | Weight: 0.699 | Bias: 0.309 | Test loss: 0.008\n",
      "Epoch: 101 | Train loss: 0.00893 | Weight: 0.699 | Bias: 0.309 | Test loss: 0.008\n",
      "Epoch: 102 | Train loss: 0.00893 | Weight: 0.699 | Bias: 0.309 | Test loss: 0.008\n",
      "Epoch: 103 | Train loss: 0.00893 | Weight: 0.699 | Bias: 0.309 | Test loss: 0.008\n",
      "Epoch: 104 | Train loss: 0.00893 | Weight: 0.699 | Bias: 0.309 | Test loss: 0.008\n",
      "Epoch: 105 | Train loss: 0.00893 | Weight: 0.699 | Bias: 0.309 | Test loss: 0.008\n",
      "Epoch: 106 | Train loss: 0.00893 | Weight: 0.699 | Bias: 0.309 | Test loss: 0.008\n",
      "Epoch: 107 | Train loss: 0.00893 | Weight: 0.699 | Bias: 0.309 | Test loss: 0.008\n",
      "Epoch: 108 | Train loss: 0.00893 | Weight: 0.699 | Bias: 0.309 | Test loss: 0.008\n",
      "Epoch: 109 | Train loss: 0.00893 | Weight: 0.699 | Bias: 0.309 | Test loss: 0.008\n",
      "Epoch: 110 | Train loss: 0.00893 | Weight: 0.699 | Bias: 0.309 | Test loss: 0.008\n",
      "Epoch: 111 | Train loss: 0.00893 | Weight: 0.699 | Bias: 0.309 | Test loss: 0.008\n",
      "Epoch: 112 | Train loss: 0.00893 | Weight: 0.699 | Bias: 0.309 | Test loss: 0.008\n",
      "Epoch: 113 | Train loss: 0.00893 | Weight: 0.699 | Bias: 0.309 | Test loss: 0.008\n",
      "Epoch: 114 | Train loss: 0.00893 | Weight: 0.699 | Bias: 0.309 | Test loss: 0.008\n",
      "Epoch: 115 | Train loss: 0.00893 | Weight: 0.699 | Bias: 0.309 | Test loss: 0.008\n",
      "Epoch: 116 | Train loss: 0.00893 | Weight: 0.699 | Bias: 0.309 | Test loss: 0.008\n",
      "Epoch: 117 | Train loss: 0.00893 | Weight: 0.699 | Bias: 0.309 | Test loss: 0.008\n",
      "Epoch: 118 | Train loss: 0.00893 | Weight: 0.699 | Bias: 0.309 | Test loss: 0.008\n",
      "Epoch: 119 | Train loss: 0.00893 | Weight: 0.699 | Bias: 0.309 | Test loss: 0.008\n",
      "Epoch: 120 | Train loss: 0.00893 | Weight: 0.699 | Bias: 0.309 | Test loss: 0.008\n",
      "Epoch: 121 | Train loss: 0.00893 | Weight: 0.699 | Bias: 0.309 | Test loss: 0.008\n",
      "Epoch: 122 | Train loss: 0.00893 | Weight: 0.699 | Bias: 0.309 | Test loss: 0.008\n",
      "Epoch: 123 | Train loss: 0.00893 | Weight: 0.699 | Bias: 0.309 | Test loss: 0.008\n",
      "Epoch: 124 | Train loss: 0.00893 | Weight: 0.699 | Bias: 0.309 | Test loss: 0.008\n",
      "Epoch: 125 | Train loss: 0.00893 | Weight: 0.699 | Bias: 0.309 | Test loss: 0.008\n",
      "Epoch: 126 | Train loss: 0.00893 | Weight: 0.699 | Bias: 0.309 | Test loss: 0.008\n",
      "Epoch: 127 | Train loss: 0.00893 | Weight: 0.699 | Bias: 0.309 | Test loss: 0.008\n",
      "Epoch: 128 | Train loss: 0.00893 | Weight: 0.699 | Bias: 0.309 | Test loss: 0.008\n",
      "Epoch: 129 | Train loss: 0.00893 | Weight: 0.699 | Bias: 0.309 | Test loss: 0.008\n",
      "Epoch: 130 | Train loss: 0.00893 | Weight: 0.699 | Bias: 0.309 | Test loss: 0.008\n",
      "Epoch: 131 | Train loss: 0.00893 | Weight: 0.699 | Bias: 0.309 | Test loss: 0.008\n",
      "Epoch: 132 | Train loss: 0.00893 | Weight: 0.699 | Bias: 0.309 | Test loss: 0.008\n",
      "Epoch: 133 | Train loss: 0.00893 | Weight: 0.699 | Bias: 0.309 | Test loss: 0.008\n",
      "Epoch: 134 | Train loss: 0.00893 | Weight: 0.699 | Bias: 0.309 | Test loss: 0.008\n",
      "Epoch: 135 | Train loss: 0.00893 | Weight: 0.699 | Bias: 0.309 | Test loss: 0.008\n",
      "Epoch: 136 | Train loss: 0.00893 | Weight: 0.699 | Bias: 0.309 | Test loss: 0.008\n",
      "Epoch: 137 | Train loss: 0.00893 | Weight: 0.699 | Bias: 0.309 | Test loss: 0.008\n",
      "Epoch: 138 | Train loss: 0.00893 | Weight: 0.699 | Bias: 0.309 | Test loss: 0.008\n",
      "Epoch: 139 | Train loss: 0.00893 | Weight: 0.699 | Bias: 0.309 | Test loss: 0.008\n",
      "Epoch: 140 | Train loss: 0.00893 | Weight: 0.699 | Bias: 0.309 | Test loss: 0.008\n",
      "Epoch: 141 | Train loss: 0.00893 | Weight: 0.699 | Bias: 0.309 | Test loss: 0.008\n",
      "Epoch: 142 | Train loss: 0.00893 | Weight: 0.699 | Bias: 0.309 | Test loss: 0.008\n",
      "Epoch: 143 | Train loss: 0.00893 | Weight: 0.699 | Bias: 0.309 | Test loss: 0.008\n",
      "Epoch: 144 | Train loss: 0.00893 | Weight: 0.699 | Bias: 0.309 | Test loss: 0.008\n",
      "Epoch: 145 | Train loss: 0.00893 | Weight: 0.699 | Bias: 0.309 | Test loss: 0.008\n",
      "Epoch: 146 | Train loss: 0.00893 | Weight: 0.699 | Bias: 0.309 | Test loss: 0.008\n",
      "Epoch: 147 | Train loss: 0.00893 | Weight: 0.699 | Bias: 0.309 | Test loss: 0.008\n",
      "Epoch: 148 | Train loss: 0.00893 | Weight: 0.699 | Bias: 0.309 | Test loss: 0.008\n",
      "Epoch: 149 | Train loss: 0.00893 | Weight: 0.699 | Bias: 0.309 | Test loss: 0.008\n",
      "Epoch: 150 | Train loss: 0.00893 | Weight: 0.699 | Bias: 0.309 | Test loss: 0.008\n",
      "Epoch: 151 | Train loss: 0.00893 | Weight: 0.699 | Bias: 0.309 | Test loss: 0.008\n",
      "Epoch: 152 | Train loss: 0.00893 | Weight: 0.699 | Bias: 0.309 | Test loss: 0.008\n",
      "Epoch: 153 | Train loss: 0.00893 | Weight: 0.699 | Bias: 0.309 | Test loss: 0.008\n",
      "Epoch: 154 | Train loss: 0.00893 | Weight: 0.699 | Bias: 0.309 | Test loss: 0.008\n",
      "Epoch: 155 | Train loss: 0.00893 | Weight: 0.699 | Bias: 0.309 | Test loss: 0.008\n",
      "Epoch: 156 | Train loss: 0.00893 | Weight: 0.699 | Bias: 0.309 | Test loss: 0.008\n",
      "Epoch: 157 | Train loss: 0.00893 | Weight: 0.699 | Bias: 0.309 | Test loss: 0.008\n",
      "Epoch: 158 | Train loss: 0.00893 | Weight: 0.699 | Bias: 0.309 | Test loss: 0.008\n",
      "Epoch: 159 | Train loss: 0.00893 | Weight: 0.699 | Bias: 0.309 | Test loss: 0.008\n",
      "Epoch: 160 | Train loss: 0.00893 | Weight: 0.699 | Bias: 0.309 | Test loss: 0.008\n",
      "Epoch: 161 | Train loss: 0.00893 | Weight: 0.699 | Bias: 0.309 | Test loss: 0.008\n",
      "Epoch: 162 | Train loss: 0.00893 | Weight: 0.699 | Bias: 0.309 | Test loss: 0.008\n",
      "Epoch: 163 | Train loss: 0.00893 | Weight: 0.699 | Bias: 0.309 | Test loss: 0.008\n",
      "Epoch: 164 | Train loss: 0.00893 | Weight: 0.699 | Bias: 0.309 | Test loss: 0.008\n",
      "Epoch: 165 | Train loss: 0.00893 | Weight: 0.699 | Bias: 0.309 | Test loss: 0.008\n",
      "Epoch: 166 | Train loss: 0.00893 | Weight: 0.699 | Bias: 0.309 | Test loss: 0.008\n",
      "Epoch: 167 | Train loss: 0.00893 | Weight: 0.699 | Bias: 0.309 | Test loss: 0.008\n",
      "Epoch: 168 | Train loss: 0.00893 | Weight: 0.699 | Bias: 0.309 | Test loss: 0.008\n",
      "Epoch: 169 | Train loss: 0.00893 | Weight: 0.699 | Bias: 0.309 | Test loss: 0.008\n",
      "Epoch: 170 | Train loss: 0.00893 | Weight: 0.699 | Bias: 0.309 | Test loss: 0.008\n",
      "Epoch: 171 | Train loss: 0.00893 | Weight: 0.699 | Bias: 0.309 | Test loss: 0.008\n",
      "Epoch: 172 | Train loss: 0.00893 | Weight: 0.699 | Bias: 0.309 | Test loss: 0.008\n",
      "Epoch: 173 | Train loss: 0.00893 | Weight: 0.699 | Bias: 0.309 | Test loss: 0.008\n",
      "Epoch: 174 | Train loss: 0.00893 | Weight: 0.699 | Bias: 0.309 | Test loss: 0.008\n",
      "Epoch: 175 | Train loss: 0.00893 | Weight: 0.699 | Bias: 0.309 | Test loss: 0.008\n",
      "Epoch: 176 | Train loss: 0.00893 | Weight: 0.699 | Bias: 0.309 | Test loss: 0.008\n",
      "Epoch: 177 | Train loss: 0.00893 | Weight: 0.699 | Bias: 0.309 | Test loss: 0.008\n",
      "Epoch: 178 | Train loss: 0.00893 | Weight: 0.699 | Bias: 0.309 | Test loss: 0.008\n",
      "Epoch: 179 | Train loss: 0.00893 | Weight: 0.699 | Bias: 0.309 | Test loss: 0.008\n",
      "Epoch: 180 | Train loss: 0.00893 | Weight: 0.699 | Bias: 0.309 | Test loss: 0.008\n",
      "Epoch: 181 | Train loss: 0.00893 | Weight: 0.699 | Bias: 0.309 | Test loss: 0.008\n",
      "Epoch: 182 | Train loss: 0.00893 | Weight: 0.699 | Bias: 0.309 | Test loss: 0.008\n",
      "Epoch: 183 | Train loss: 0.00893 | Weight: 0.699 | Bias: 0.309 | Test loss: 0.008\n",
      "Epoch: 184 | Train loss: 0.00893 | Weight: 0.699 | Bias: 0.309 | Test loss: 0.008\n",
      "Epoch: 185 | Train loss: 0.00893 | Weight: 0.699 | Bias: 0.309 | Test loss: 0.008\n",
      "Epoch: 186 | Train loss: 0.00893 | Weight: 0.699 | Bias: 0.309 | Test loss: 0.008\n",
      "Epoch: 187 | Train loss: 0.00893 | Weight: 0.699 | Bias: 0.309 | Test loss: 0.008\n",
      "Epoch: 188 | Train loss: 0.00893 | Weight: 0.699 | Bias: 0.309 | Test loss: 0.008\n",
      "Epoch: 189 | Train loss: 0.00893 | Weight: 0.699 | Bias: 0.309 | Test loss: 0.008\n",
      "Epoch: 190 | Train loss: 0.00893 | Weight: 0.699 | Bias: 0.309 | Test loss: 0.008\n",
      "Epoch: 191 | Train loss: 0.00893 | Weight: 0.699 | Bias: 0.309 | Test loss: 0.008\n",
      "Epoch: 192 | Train loss: 0.00893 | Weight: 0.699 | Bias: 0.309 | Test loss: 0.008\n",
      "Epoch: 193 | Train loss: 0.00893 | Weight: 0.699 | Bias: 0.309 | Test loss: 0.008\n",
      "Epoch: 194 | Train loss: 0.00893 | Weight: 0.699 | Bias: 0.309 | Test loss: 0.008\n",
      "Epoch: 195 | Train loss: 0.00893 | Weight: 0.699 | Bias: 0.309 | Test loss: 0.008\n",
      "Epoch: 196 | Train loss: 0.00893 | Weight: 0.699 | Bias: 0.309 | Test loss: 0.008\n",
      "Epoch: 197 | Train loss: 0.00893 | Weight: 0.699 | Bias: 0.309 | Test loss: 0.008\n",
      "Epoch: 198 | Train loss: 0.00893 | Weight: 0.699 | Bias: 0.309 | Test loss: 0.008\n",
      "Epoch: 199 | Train loss: 0.00893 | Weight: 0.699 | Bias: 0.309 | Test loss: 0.008\n"
     ]
    },
    {
     "data": {
      "text/plain": [
       "OrderedDict([('weights', tensor([0.6990])), ('bias', tensor([0.3093]))])"
      ]
     },
     "execution_count": 114,
     "metadata": {},
     "output_type": "execute_result"
    }
   ],
   "source": [
    "torch.manual_seed(42)\n",
    "\n",
    "# model_0 = LinearRegresssionModel()  # create a new instance of the model to reset the parameters\n",
    "\n",
    "epochs = 200  # TODO; Another hyperparameter that is one loop through the data.\n",
    "\n",
    "# Track different values for tracking model progress:\n",
    "epoch_count = []\n",
    "train_loss_values = []\n",
    "test_loss_values = []\n",
    "\n",
    "print(f\"true weight: {weight}, bias: {bias} \\n\")\n",
    "### Training Loop ###\n",
    "for epoch in range (epochs):\n",
    "    model_0.train()  # (GOOD PRACTICE) set the model to training mode (model remember the parameters it has), sets all the parameters that require gradients to require gradients\n",
    "    \n",
    "    y_pred = model_0(x_train)  # forward pass (\"forward propagation\")\n",
    "    train_loss = loss_fun(y_pred, y_train)  # compute the \"loss\" (predictions vs. labels)\n",
    "    optimizer.zero_grad()  # zero grad \"optimizer\" (set the gradients to zero)\n",
    "    train_loss.backward()  # \"backpropagation\" (compute the gradients of each parameter with respect to the loss)\n",
    "    optimizer.step()  # update model parameters (weights) via \"gradient descent\"\n",
    "\n",
    "    ### Testing/Evaluating Loop ###\n",
    "    model_0.eval()  # (GOOD PRACTICE) Turns off different settings in the model which are not needed for evaluation/test(turns off \"dropout\" and \"batch norm\" (if any))\n",
    "    with torch.inference_mode():  # turn off gradient tracking and a couple of more things behind the scens for inference/testing\n",
    "        test_pred = model_0(x_test) # forward pass: just using the trained model to make predictions\n",
    "        test_loss = loss_fun(test_pred, y_test)  # compute the loss\n",
    "        # print(f\"Test loss: {test_loss:.5f}\")\n",
    "\n",
    "    # if epoch % 2 == 0:  # print every 2 epochs\n",
    "    epoch_count.append(epoch)\n",
    "    train_loss_values.append(train_loss.detach().numpy())\n",
    "    test_loss_values.append(test_loss.detach().numpy())\n",
    "    \n",
    "    print(f\"Epoch: {epoch} | Train loss: {train_loss:.5f} | Weight: {model_0.weights.item():.3f} | Bias: {model_0.bias.item():.3f} | Test loss: {test_loss:.3f}\" )\n",
    "\n",
    "model_0.state_dict()"
   ]
  },
  {
   "cell_type": "code",
   "execution_count": 85,
   "id": "b70fd613",
   "metadata": {},
   "outputs": [
    {
     "data": {
      "image/png": "[encoded data removed]",
      "text/plain": [
       "<Figure size 640x480 with 1 Axes>"
      ]
     },
     "metadata": {},
     "output_type": "display_data"
    }
   ],
   "source": [
    "# Plot the loss curves:\n",
    "plt.plot(epoch_count, train_loss_values, label=\"Train loss\")\n",
    "plt.plot(epoch_count, test_loss_values, label=\"Test loss\")\n",
    "plt.title(\"Training and Test loss curves\")\n",
    "plt.ylabel(\"Loss\")\n",
    "plt.xlabel(\"Epochs\")\n",
    "plt.ylim(-.05, .5)\n",
    "plt.legend()\n",
    "plt.show()  "
   ]
  },
  {
   "cell_type": "code",
   "execution_count": 86,
   "id": "bb5787c2",
   "metadata": {},
   "outputs": [],
   "source": [
    "with torch.inference_mode():\n",
    "    test_pred_new = model_0(x_test)"
   ]
  },
  {
   "cell_type": "code",
   "execution_count": 87,
   "id": "3640c8b3",
   "metadata": {},
   "outputs": [
    {
     "data": {
      "image/png": "[encoded data removed]",
      "text/plain": [
       "<Figure size 1000x700 with 1 Axes>"
      ]
     },
     "metadata": {},
     "output_type": "display_data"
    },
    {
     "data": {
      "image/png": "[encoded data removed]",
      "text/plain": [
       "<Figure size 1000x700 with 1 Axes>"
      ]
     },
     "metadata": {},
     "output_type": "display_data"
    }
   ],
   "source": [
    "plot_predictions(predictions=untrained_y_pred)\n",
    "plot_predictions(predictions=test_pred)"
   ]
  },
  {
   "cell_type": "markdown",
   "id": "983bce19",
   "metadata": {},
   "source": [
    "# __Saving__ and __Loading__ our model"
   ]
  },
  {
   "cell_type": "code",
   "execution_count": 88,
   "id": "0f11e7ac",
   "metadata": {},
   "outputs": [],
   "source": [
    "## Saving our model:\n",
    "MODEL_NAME = \"01_pytorch_workflow_model_0_states.pth\"  # TODO\n",
    "MODEL_PATH = Path(\"../data/models\") \n",
    "MODEL_PATH.mkdir(parents=True, exist_ok=True)   \n",
    "MODEL_SAVE_PATH = MODEL_PATH / MODEL_NAME\n",
    "\n",
    "# torch.save(obj=model_0, f=MODEL_SAVE_PATH)  # save the entire model in Python's pickle format (not recommended way to save a model in PyTorch)    \n",
    "torch.save(obj=model_0.state_dict(), f=MODEL_SAVE_PATH)  # save the model state_dict (recommended way to save a model in PyTorch)"
   ]
  },
  {
   "cell_type": "code",
   "execution_count": 89,
   "id": "94652afc",
   "metadata": {},
   "outputs": [
    {
     "data": {
      "text/plain": [
       "[Parameter containing:\n",
       " tensor([0.6990], requires_grad=True),\n",
       " Parameter containing:\n",
       " tensor([0.3093], requires_grad=True)]"
      ]
     },
     "execution_count": 89,
     "metadata": {},
     "output_type": "execute_result"
    }
   ],
   "source": [
    "list(model_0.parameters())"
   ]
  },
  {
   "cell_type": "code",
   "execution_count": 90,
   "id": "3a123250",
   "metadata": {},
   "outputs": [
    {
     "name": "stderr",
     "output_type": "stream",
     "text": [
      "/tmp/ipykernel_31099/3259065490.py:7: FutureWarning: You are using `torch.load` with `weights_only=False` (the current default value), which uses the default pickle module implicitly. It is possible to construct malicious pickle data which will execute arbitrary code during unpickling (See https://github.com/pytorch/pytorch/blob/main/SECURITY.md#untrusted-models for more details). In a future release, the default value for `weights_only` will be flipped to `True`. This limits the functions that could be executed during unpickling. Arbitrary objects will no longer be allowed to be loaded via this mode unless they are explicitly allowlisted by the user via `torch.serialization.add_safe_globals`. We recommend you start setting `weights_only=True` for any use case where you don't have full control of the loaded file. Please open an issue on GitHub for any issues related to this experimental feature.\n",
      "  loaded_model_0.load_state_dict(torch.load(f=MODEL_LOAD_PATH))  # load the saved state_dict into the new instance\n"
     ]
    },
    {
     "data": {
      "text/plain": [
       "<All keys matched successfully>"
      ]
     },
     "execution_count": 90,
     "metadata": {},
     "output_type": "execute_result"
    }
   ],
   "source": [
    "## Loading a saved model:\n",
    "MODEL_NAME = \"01_pytorch_workflow_model_0_states.pth\"  # TODO\n",
    "MODEL_PATH = Path(\"../data/models\") \n",
    "MODEL_LOAD_PATH = MODEL_PATH / MODEL_NAME\n",
    "\n",
    "loaded_model_0 = LinearRegresssionModel()  # create a new instance of the model (same architecture as the saved model)\n",
    "loaded_model_0.load_state_dict(torch.load(f=MODEL_LOAD_PATH))  # load the saved state_dict into the new instance\n",
    " "
   ]
  },
  {
   "cell_type": "code",
   "execution_count": 91,
   "id": "9284c075",
   "metadata": {},
   "outputs": [
    {
     "data": {
      "text/plain": [
       "tensor([[True],\n",
       "        [True],\n",
       "        [True],\n",
       "        [True],\n",
       "        [True],\n",
       "        [True],\n",
       "        [True],\n",
       "        [True],\n",
       "        [True],\n",
       "        [True]])"
      ]
     },
     "execution_count": 91,
     "metadata": {},
     "output_type": "execute_result"
    }
   ],
   "source": [
    "## Making predictions with the loaded model:\n",
    "loaded_model_0.eval()\n",
    "with torch.inference_mode():\n",
    "    model_pred = model_0(x_test)\n",
    "    loaded_model_pred = loaded_model_0(x_test)\n",
    "\n",
    "model_pred == loaded_model_pred"
   ]
  },
  {
   "cell_type": "code",
   "execution_count": null,
   "id": "da29f6e3",
   "metadata": {},
   "outputs": [
    {
     "data": {
      "text/plain": [
       "device(type='cpu')"
      ]
     },
     "execution_count": 93,
     "metadata": {},
     "output_type": "execute_result"
    }
   ],
   "source": [
    "# Check the model device:\n",
    "next(model_1.parameters()).device"
   ]
  },
  {
   "cell_type": "code",
   "execution_count": 96,
   "id": "8902944f",
   "metadata": {},
   "outputs": [
    {
     "data": {
      "text/plain": [
       "device(type='cuda', index=0)"
      ]
     },
     "execution_count": 96,
     "metadata": {},
     "output_type": "execute_result"
    }
   ],
   "source": [
    "# Set the model to use the traget device (send the model to the GPU memory):\n",
    "model_1.to(device)\n",
    "next(model_1.parameters()).device"
   ]
  },
  {
   "cell_type": "markdown",
   "id": "568c2cfc",
   "metadata": {},
   "source": [
    "# Training:\n",
    "\n",
    "For training we need:\n",
    "\n",
    "1) Loss function\n",
    "2) Optimizer\n",
    "3) Training loop\n",
    "4) Testing loop"
   ]
  },
  {
   "cell_type": "code",
   "execution_count": 97,
   "id": "43350f00",
   "metadata": {},
   "outputs": [],
   "source": [
    "loss_fn = nn.L1Loss()   \n",
    "optimizer = torch.optim.SGD(model_1.parameters(), lr=0.01)  "
   ]
  },
  {
   "cell_type": "code",
   "execution_count": null,
   "id": "ffb5ecb8",
   "metadata": {},
   "outputs": [
    {
     "name": "stderr",
     "output_type": "stream",
     "text": [
      "Epochs:   0%|          | 0/200 [00:21<?, ?it/s, test=0.00033, train=0.01026]\n"
     ]
    },
    {
     "name": "stdout",
     "output_type": "stream",
     "text": [
      "Epoch: 0 | Train loss: 0.00126 | Test loss: 0.014\n",
      "Epoch: 10 | Train loss: 0.00126 | Test loss: 0.014\n",
      "Epoch: 20 | Train loss: 0.00126 | Test loss: 0.014\n",
      "Epoch: 30 | Train loss: 0.00126 | Test loss: 0.014\n",
      "Epoch: 40 | Train loss: 0.00126 | Test loss: 0.014\n",
      "Epoch: 50 | Train loss: 0.00126 | Test loss: 0.014\n",
      "Epoch: 60 | Train loss: 0.00126 | Test loss: 0.014\n",
      "Epoch: 70 | Train loss: 0.00126 | Test loss: 0.014\n",
      "Epoch: 80 | Train loss: 0.00126 | Test loss: 0.014\n",
      "Epoch: 90 | Train loss: 0.00126 | Test loss: 0.014\n",
      "Epoch: 100 | Train loss: 0.00126 | Test loss: 0.014\n",
      "Epoch: 110 | Train loss: 0.00126 | Test loss: 0.014\n",
      "Epoch: 120 | Train loss: 0.00126 | Test loss: 0.014\n",
      "Epoch: 130 | Train loss: 0.00126 | Test loss: 0.014\n",
      "Epoch: 140 | Train loss: 0.00126 | Test loss: 0.014\n",
      "Epoch: 150 | Train loss: 0.00126 | Test loss: 0.014\n",
      "Epoch: 160 | Train loss: 0.00126 | Test loss: 0.014\n",
      "Epoch: 170 | Train loss: 0.00126 | Test loss: 0.014\n",
      "Epoch: 180 | Train loss: 0.00126 | Test loss: 0.014\n",
      "Epoch: 190 | Train loss: 0.00126 | Test loss: 0.014\n"
     ]
    },
    {
     "name": "stderr",
     "output_type": "stream",
     "text": [
      "Epochs: 100%|██████████| 200/200 [00:00<00:00, 963.82it/s] \n"
     ]
    }
   ],
   "source": [
    "torch.manual_seed(42)\n",
    "\n",
    "pbar = tqdm(range(epochs), desc=\"Epochs\")\n",
    "\n",
    "epochs = 200  # TODO\n",
    "\n",
    "# Move data to target device (GPU) for once:\n",
    "x_train_gpu = x_train.to(device)\n",
    "y_train_gpu = y_train.to(device)\n",
    "x_test_gpu  = x_test.to(device)\n",
    "y_test_gpu  = y_test.to(device)\n",
    "\n",
    "for epoch in tqdm(range(epochs), desc=\"Epochs\"):\n",
    "    model_1.train()\n",
    "    y_pred_gpu = model_1(x_train_gpu)\n",
    "    train_loss = loss_fn(y_pred_gpu, y_train_gpu)\n",
    "\n",
    "    optimizer.zero_grad(set_to_none=True)\n",
    "    train_loss.backward()  # backpropagation\n",
    "    optimizer.step()  # gradient descent\n",
    "\n",
    "    # Test loop:\n",
    "    model_1.eval()\n",
    "    with torch.inference_mode():\n",
    "        test_pred_gpu = model_1(x_test_gpu)\n",
    "        test_loss = loss_fn(test_pred_gpu, y_test_gpu)\n",
    "\n",
    "    if epoch % 10 == 0: \n",
    "        print(f\"Epoch: {epoch} | Train loss: {train_loss:.5f} | Test loss: {test_loss:.3f}\" )\n",
    "    # pbar.set_postfix(train=f\"{train_loss.item():.5f}\", test=f\"{test_loss.item():.5f}\")\n"
   ]
  },
  {
   "cell_type": "code",
   "execution_count": null,
   "id": "453bb8ce",
   "metadata": {},
   "outputs": [
    {
     "data": {
      "text/plain": [
       "OrderedDict([('linear_layer.weight', tensor([[0.6968]], device='cuda:0')),\n",
       "             ('linear_layer.bias', tensor([0.3025], device='cuda:0'))])"
      ]
     },
     "execution_count": 111,
     "metadata": {},
     "output_type": "execute_result"
    }
   ],
   "source": [
    "# Evaluating the model:\n",
    "model_1.state_dict() # check the model parameters"
   ]
  },
  {
   "cell_type": "code",
   "execution_count": 112,
   "id": "d9b0577b",
   "metadata": {},
   "outputs": [
    {
     "data": {
      "text/plain": [
       "(0.7, 0.3)"
      ]
     },
     "execution_count": 112,
     "metadata": {},
     "output_type": "execute_result"
    }
   ],
   "source": [
    "weight, bias"
   ]
  },
  {
   "cell_type": "markdown",
   "id": "923724d7",
   "metadata": {},
   "source": [
    "## **Making** and **evaluating** predictions:"
   ]
  },
  {
   "cell_type": "code",
   "execution_count": 115,
   "id": "f12de95f",
   "metadata": {},
   "outputs": [
    {
     "data": {
      "text/plain": [
       "tensor([[0.8600],\n",
       "        [0.8739],\n",
       "        [0.8878],\n",
       "        [0.9018],\n",
       "        [0.9157],\n",
       "        [0.9296],\n",
       "        [0.9436],\n",
       "        [0.9575],\n",
       "        [0.9714],\n",
       "        [0.9854]], device='cuda:0')"
      ]
     },
     "execution_count": 115,
     "metadata": {},
     "output_type": "execute_result"
    }
   ],
   "source": [
    "# Turn the model to evaluation mode:\n",
    "model_1.eval()\n",
    "\n",
    "with torch.inference_mode():\n",
    "    y_preds = model_1(x_test_gpu)\n",
    "\n",
    "y_preds"
   ]
  },
  {
   "cell_type": "code",
   "execution_count": null,
   "id": "80607d0b",
   "metadata": {},
   "outputs": [
    {
     "data": {
      "image/png": "[encoded data removed]",
      "text/plain": [
       "<Figure size 1000x700 with 1 Axes>"
      ]
     },
     "metadata": {},
     "output_type": "display_data"
    }
   ],
   "source": [
    "# Visualizing the model prediction:\n",
    "# Note: Numpy is a CPU-based library.\n",
    "plot_predictions(predictions = y_preds.cpu())  # moves a PyTorch tensor to CPU memory and returns that CPU copy.\n",
    " "
   ]
  },
  {
   "cell_type": "markdown",
   "id": "fd48a03e",
   "metadata": {},
   "source": [
    "### Saving and loading the trained model:"
   ]
  },
  {
   "cell_type": "code",
   "execution_count": 125,
   "id": "a45ee583",
   "metadata": {},
   "outputs": [
    {
     "name": "stdout",
     "output_type": "stream",
     "text": [
      "Saving model to: ../data/models/02_pytorch_workflow_model_1_states.pth\n"
     ]
    }
   ],
   "source": [
    "## Saving our model:\n",
    "MODEL_NAME = \"02_pytorch_workflow_model_1_states.pth\"  # TODO\n",
    "MODEL_PATH = Path(\"../data/models\") \n",
    "MODEL_PATH.mkdir(parents=True, exist_ok=True)   \n",
    "MODEL_PATH = MODEL_PATH / MODEL_NAME\n",
    "print(f\"Saving model to: {MODEL_PATH}\")\n",
    "torch.save(obj=model_1.state_dict(), f=MODEL_PATH)"
   ]
  },
  {
   "cell_type": "code",
   "execution_count": 129,
   "id": "4768081f",
   "metadata": {},
   "outputs": [
    {
     "name": "stdout",
     "output_type": "stream",
     "text": [
      "Loading model from: ../data/models/02_pytorch_workflow_model_1_states.pth\n"
     ]
    },
    {
     "name": "stderr",
     "output_type": "stream",
     "text": [
      "/tmp/ipykernel_31099/3041424525.py:4: FutureWarning: You are using `torch.load` with `weights_only=False` (the current default value), which uses the default pickle module implicitly. It is possible to construct malicious pickle data which will execute arbitrary code during unpickling (See https://github.com/pytorch/pytorch/blob/main/SECURITY.md#untrusted-models for more details). In a future release, the default value for `weights_only` will be flipped to `True`. This limits the functions that could be executed during unpickling. Arbitrary objects will no longer be allowed to be loaded via this mode unless they are explicitly allowlisted by the user via `torch.serialization.add_safe_globals`. We recommend you start setting `weights_only=True` for any use case where you don't have full control of the loaded file. Please open an issue on GitHub for any issues related to this experimental feature.\n",
      "  loaded_model_1.load_state_dict(torch.load(f=MODEL_PATH))\n"
     ]
    },
    {
     "data": {
      "text/plain": [
       "LinearRegresssionModel_v2(\n",
       "  (linear_layer): Linear(in_features=1, out_features=1, bias=True)\n",
       ")"
      ]
     },
     "execution_count": 129,
     "metadata": {},
     "output_type": "execute_result"
    }
   ],
   "source": [
    "## Loading a saved model:\n",
    "print(f\"Loading model from: {MODEL_PATH}\")\n",
    "loaded_model_1 = LinearRegresssionModel_v2()  # create a new instance of the model (same architecture as the saved model)\n",
    "loaded_model_1.load_state_dict(torch.load(f=MODEL_PATH))\n",
    "loaded_model_1.to(device)"
   ]
  },
  {
   "cell_type": "code",
   "execution_count": 131,
   "id": "61c5f911",
   "metadata": {},
   "outputs": [
    {
     "data": {
      "text/plain": [
       "device(type='cuda', index=0)"
      ]
     },
     "execution_count": 131,
     "metadata": {},
     "output_type": "execute_result"
    }
   ],
   "source": [
    "next(loaded_model_1.parameters()).device  # Check loaded model device"
   ]
  },
  {
   "cell_type": "code",
   "execution_count": 132,
   "id": "608b1f94",
   "metadata": {},
   "outputs": [
    {
     "data": {
      "text/plain": [
       "OrderedDict([('linear_layer.weight', tensor([[0.6968]], device='cuda:0')),\n",
       "             ('linear_layer.bias', tensor([0.3025], device='cuda:0'))])"
      ]
     },
     "execution_count": 132,
     "metadata": {},
     "output_type": "execute_result"
    }
   ],
   "source": [
    "loaded_model_1.state_dict()"
   ]
  },
  {
   "cell_type": "code",
   "execution_count": 136,
   "id": "8506bdb4",
   "metadata": {},
   "outputs": [
    {
     "data": {
      "text/plain": [
       "tensor([[True],\n",
       "        [True],\n",
       "        [True],\n",
       "        [True],\n",
       "        [True],\n",
       "        [True],\n",
       "        [True],\n",
       "        [True],\n",
       "        [True],\n",
       "        [True],\n",
       "        [True],\n",
       "        [True],\n",
       "        [True],\n",
       "        [True],\n",
       "        [True],\n",
       "        [True],\n",
       "        [True],\n",
       "        [True],\n",
       "        [True],\n",
       "        [True],\n",
       "        [True],\n",
       "        [True],\n",
       "        [True],\n",
       "        [True],\n",
       "        [True],\n",
       "        [True],\n",
       "        [True],\n",
       "        [True],\n",
       "        [True],\n",
       "        [True],\n",
       "        [True],\n",
       "        [True],\n",
       "        [True],\n",
       "        [True],\n",
       "        [True],\n",
       "        [True],\n",
       "        [True],\n",
       "        [True],\n",
       "        [True],\n",
       "        [True]], device='cuda:0')"
      ]
     },
     "execution_count": 136,
     "metadata": {},
     "output_type": "execute_result"
    }
   ],
   "source": [
    "## Evaluate loaded model:\n",
    "\n",
    "loaded_model_1.eval()\n",
    "with torch.inference_mode():\n",
    "    y_preds_loaded_model_1 = loaded_model_1(x_train_gpu)\n",
    "\n",
    "y_preds_loaded_model_1 == y_preds"
   ]
  }
 ],
 "metadata": {
  "kernelspec": {
   "display_name": "dl_env",
   "language": "python",
   "name": "python3"
  },
  "language_info": {
   "codemirror_mode": {
    "name": "ipython",
    "version": 3
   },
   "file_extension": ".py",
   "mimetype": "text/x-python",
   "name": "python",
   "nbconvert_exporter": "python",
   "pygments_lexer": "ipython3",
   "version": "3.10.18"
  }
 },
 "nbformat": 4,
 "nbformat_minor": 5
}
